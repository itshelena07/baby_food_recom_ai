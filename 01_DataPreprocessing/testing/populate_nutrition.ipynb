{
 "cells": [
  {
   "cell_type": "code",
   "execution_count": 2,
   "id": "9114e4a8",
   "metadata": {},
   "outputs": [
    {
     "name": "stdout",
     "output_type": "stream",
     "text": [
      "['name', 'ingredients', 'ner_ingredient', 'instructions', 'min_age', 'max_age', 'texture', 'prep_time', 'cook_time', 'serving', 'origin', 'recipe_link', 'credibility', 'image_link', 'region', 'difficulty', 'meal_type', 'description', 'dietary_tags', 'choking_hazard', 'tips', 'allergen', 'hypoallergenic', 'nutrition_value', 'ID', 'Energy / Calorie', 'Carbohydrate (g)', 'Protein (g)', 'Fat (g)', 'List of Micros', None, None, None, None, None]\n",
      "Dataset shape: (1322, 35)\n"
     ]
    },
    {
     "data": {
      "text/html": [
       "<div>\n",
       "<style scoped>\n",
       "    .dataframe tbody tr th:only-of-type {\n",
       "        vertical-align: middle;\n",
       "    }\n",
       "\n",
       "    .dataframe tbody tr th {\n",
       "        vertical-align: top;\n",
       "    }\n",
       "\n",
       "    .dataframe thead th {\n",
       "        text-align: right;\n",
       "    }\n",
       "</style>\n",
       "<table border=\"1\" class=\"dataframe\">\n",
       "  <thead>\n",
       "    <tr style=\"text-align: right;\">\n",
       "      <th></th>\n",
       "      <th>name</th>\n",
       "      <th>ingredients</th>\n",
       "      <th>ner_ingredient</th>\n",
       "      <th>instructions</th>\n",
       "      <th>min_age</th>\n",
       "      <th>max_age</th>\n",
       "      <th>texture</th>\n",
       "      <th>prep_time</th>\n",
       "      <th>cook_time</th>\n",
       "      <th>serving</th>\n",
       "      <th>...</th>\n",
       "      <th>Energy / Calorie</th>\n",
       "      <th>Carbohydrate (g)</th>\n",
       "      <th>Protein (g)</th>\n",
       "      <th>Fat (g)</th>\n",
       "      <th>List of Micros</th>\n",
       "      <th>None</th>\n",
       "      <th>None</th>\n",
       "      <th>None</th>\n",
       "      <th>None</th>\n",
       "      <th>None</th>\n",
       "    </tr>\n",
       "  </thead>\n",
       "  <tbody>\n",
       "    <tr>\n",
       "      <th>0</th>\n",
       "      <td>Cassava Porridge with Fish Sauce and Lemon (Bu...</td>\n",
       "      <td>- 60 g cassava, boiled and blended\\n- 20 g fis...</td>\n",
       "      <td>['cassava', 'fish', 'chicken', 'coconut oil', ...</td>\n",
       "      <td>Broth:\\n1. Use chicken bones, chicken feet, fi...</td>\n",
       "      <td>6</td>\n",
       "      <td>8</td>\n",
       "      <td>None</td>\n",
       "      <td>15 min</td>\n",
       "      <td>45 min</td>\n",
       "      <td>1</td>\n",
       "      <td>...</td>\n",
       "      <td>None</td>\n",
       "      <td>None</td>\n",
       "      <td>None</td>\n",
       "      <td>None</td>\n",
       "      <td>None</td>\n",
       "      <td>None</td>\n",
       "      <td>None</td>\n",
       "      <td>None</td>\n",
       "      <td>None</td>\n",
       "      <td>None</td>\n",
       "    </tr>\n",
       "    <tr>\n",
       "      <th>1</th>\n",
       "      <td>Bitterballs (Bitterballen)</td>\n",
       "      <td>- 100 g beef mince \\n- 30 g potato starch \\n- ...</td>\n",
       "      <td>['beef', 'potato starch', 'milk', 'egg', 'marg...</td>\n",
       "      <td>1. Stir-fry blended spices until fragrant. \\n2...</td>\n",
       "      <td>9</td>\n",
       "      <td>11</td>\n",
       "      <td>None</td>\n",
       "      <td>30 minutes</td>\n",
       "      <td>30 minutes</td>\n",
       "      <td>10 servings</td>\n",
       "      <td>...</td>\n",
       "      <td>None</td>\n",
       "      <td>None</td>\n",
       "      <td>None</td>\n",
       "      <td>None</td>\n",
       "      <td>None</td>\n",
       "      <td>None</td>\n",
       "      <td>None</td>\n",
       "      <td>None</td>\n",
       "      <td>None</td>\n",
       "      <td>None</td>\n",
       "    </tr>\n",
       "    <tr>\n",
       "      <th>2</th>\n",
       "      <td>Broccoli/Cauliflower Cheese</td>\n",
       "      <td>- 175g cauliflower/broccoli, cut into pieces\\n...</td>\n",
       "      <td>['cauliflower', 'broccoli', 'margarine', 'flou...</td>\n",
       "      <td>1. Steam, boil, or microwave cauliflower/brocc...</td>\n",
       "      <td>6</td>\n",
       "      <td>12</td>\n",
       "      <td>None</td>\n",
       "      <td>~10 min</td>\n",
       "      <td>~20 min</td>\n",
       "      <td>None</td>\n",
       "      <td>...</td>\n",
       "      <td>None</td>\n",
       "      <td>None</td>\n",
       "      <td>None</td>\n",
       "      <td>None</td>\n",
       "      <td>None</td>\n",
       "      <td>None</td>\n",
       "      <td>None</td>\n",
       "      <td>None</td>\n",
       "      <td>None</td>\n",
       "      <td>None</td>\n",
       "    </tr>\n",
       "    <tr>\n",
       "      <th>3</th>\n",
       "      <td>Vegetable Fingers</td>\n",
       "      <td>- 1 carrot, potato, or sweet potato, peeled an...</td>\n",
       "      <td>['carrot', 'potato', 'sweet potato']</td>\n",
       "      <td>1. Steam or microwave vegetables until tender....</td>\n",
       "      <td>6</td>\n",
       "      <td>12</td>\n",
       "      <td>None</td>\n",
       "      <td>~5 min</td>\n",
       "      <td>~10 min</td>\n",
       "      <td>None</td>\n",
       "      <td>...</td>\n",
       "      <td>None</td>\n",
       "      <td>None</td>\n",
       "      <td>None</td>\n",
       "      <td>None</td>\n",
       "      <td>None</td>\n",
       "      <td>None</td>\n",
       "      <td>None</td>\n",
       "      <td>None</td>\n",
       "      <td>None</td>\n",
       "      <td>None</td>\n",
       "    </tr>\n",
       "    <tr>\n",
       "      <th>4</th>\n",
       "      <td>Beef Casserole</td>\n",
       "      <td>- 1 onion, peeled and finely chopped\\n- 1½ tab...</td>\n",
       "      <td>['onion', 'vegetable oil', 'beef', 'steak', 'c...</td>\n",
       "      <td>1. Preheat oven to 180°C.\\n2. Heat oil in a me...</td>\n",
       "      <td>6</td>\n",
       "      <td>12</td>\n",
       "      <td>None</td>\n",
       "      <td>~10 min</td>\n",
       "      <td>~2.5 hours</td>\n",
       "      <td>None</td>\n",
       "      <td>...</td>\n",
       "      <td>None</td>\n",
       "      <td>None</td>\n",
       "      <td>None</td>\n",
       "      <td>None</td>\n",
       "      <td>None</td>\n",
       "      <td>None</td>\n",
       "      <td>None</td>\n",
       "      <td>None</td>\n",
       "      <td>None</td>\n",
       "      <td>None</td>\n",
       "    </tr>\n",
       "  </tbody>\n",
       "</table>\n",
       "<p>5 rows × 35 columns</p>\n",
       "</div>"
      ],
      "text/plain": [
       "                                                name  \\\n",
       "0  Cassava Porridge with Fish Sauce and Lemon (Bu...   \n",
       "1                         Bitterballs (Bitterballen)   \n",
       "2                        Broccoli/Cauliflower Cheese   \n",
       "3                                  Vegetable Fingers   \n",
       "4                                     Beef Casserole   \n",
       "\n",
       "                                         ingredients  \\\n",
       "0  - 60 g cassava, boiled and blended\\n- 20 g fis...   \n",
       "1  - 100 g beef mince \\n- 30 g potato starch \\n- ...   \n",
       "2  - 175g cauliflower/broccoli, cut into pieces\\n...   \n",
       "3  - 1 carrot, potato, or sweet potato, peeled an...   \n",
       "4  - 1 onion, peeled and finely chopped\\n- 1½ tab...   \n",
       "\n",
       "                                      ner_ingredient  \\\n",
       "0  ['cassava', 'fish', 'chicken', 'coconut oil', ...   \n",
       "1  ['beef', 'potato starch', 'milk', 'egg', 'marg...   \n",
       "2  ['cauliflower', 'broccoli', 'margarine', 'flou...   \n",
       "3               ['carrot', 'potato', 'sweet potato']   \n",
       "4  ['onion', 'vegetable oil', 'beef', 'steak', 'c...   \n",
       "\n",
       "                                        instructions min_age max_age texture  \\\n",
       "0  Broth:\\n1. Use chicken bones, chicken feet, fi...       6       8    None   \n",
       "1  1. Stir-fry blended spices until fragrant. \\n2...       9      11    None   \n",
       "2  1. Steam, boil, or microwave cauliflower/brocc...       6      12    None   \n",
       "3  1. Steam or microwave vegetables until tender....       6      12    None   \n",
       "4  1. Preheat oven to 180°C.\\n2. Heat oil in a me...       6      12    None   \n",
       "\n",
       "    prep_time   cook_time      serving  ... Energy / Calorie Carbohydrate (g)  \\\n",
       "0      15 min      45 min            1  ...             None             None   \n",
       "1  30 minutes  30 minutes  10 servings  ...             None             None   \n",
       "2     ~10 min     ~20 min         None  ...             None             None   \n",
       "3      ~5 min     ~10 min         None  ...             None             None   \n",
       "4     ~10 min  ~2.5 hours         None  ...             None             None   \n",
       "\n",
       "  Protein (g) Fat (g) List of Micros  None  None  None  None  None  \n",
       "0        None    None           None  None  None  None  None  None  \n",
       "1        None    None           None  None  None  None  None  None  \n",
       "2        None    None           None  None  None  None  None  None  \n",
       "3        None    None           None  None  None  None  None  None  \n",
       "4        None    None           None  None  None  None  None  None  \n",
       "\n",
       "[5 rows x 35 columns]"
      ]
     },
     "execution_count": 2,
     "metadata": {},
     "output_type": "execute_result"
    }
   ],
   "source": [
    "#Open Excel File\n",
    "import openpyxl\n",
    "import os\n",
    "import pandas as pd\n",
    "import numpy as np\n",
    "import re \n",
    "\n",
    "# Load the workbook\n",
    "workbook = openpyxl.load_workbook('../1st_dataset.xlsx')\n",
    "worksheet = workbook[\"Sheet1\"]\n",
    "\n",
    "data = []\n",
    "headers = []\n",
    "\n",
    "# Get headers from the first row\n",
    "for col in range(1, worksheet.max_column + 1):\n",
    "    headers.append(worksheet.cell(row=1, column=col).value)\n",
    "\n",
    "# Get data from remaining rows\n",
    "for row in range(2, worksheet.max_row + 1):\n",
    "    row_data = []\n",
    "    for col in range(1, worksheet.max_column + 1):\n",
    "        row_data.append(worksheet.cell(row=row, column=col).value)\n",
    "    data.append(row_data)\n",
    "\n",
    "# Create DataFrame\n",
    "df = pd.DataFrame(data, columns=headers)\n",
    "\n",
    "print(headers)\n",
    "\n",
    "# Display first few rows to verify\n",
    "print(f\"Dataset shape: {df.shape}\")\n",
    "df.head()"
   ]
  },
  {
   "cell_type": "code",
   "execution_count": 2,
   "id": "9239a661",
   "metadata": {},
   "outputs": [
    {
     "name": "stdout",
     "output_type": "stream",
     "text": [
      "Dropped 5 None column(s)\n"
     ]
    }
   ],
   "source": [
    "# Clean up None columns first\n",
    "none_columns = [col for col in df.columns if col is None]\n",
    "if none_columns:\n",
    "    df = df.drop(columns=none_columns)\n",
    "    print(f\"Dropped {len(none_columns)} None column(s)\")\n"
   ]
  },
  {
   "cell_type": "code",
   "execution_count": 3,
   "id": "5f9b68cd",
   "metadata": {},
   "outputs": [
    {
     "name": "stdout",
     "output_type": "stream",
     "text": [
      "Records with empty nutrition_value: 446 out of 1322\n"
     ]
    }
   ],
   "source": [
    "# Check which records have empty nutrition_value\n",
    "empty_nutrition = df['nutrition_value'].isna() | (df['nutrition_value'] == '') | (df['nutrition_value'] == 'None')\n",
    "print(f\"Records with empty nutrition_value: {empty_nutrition.sum()} out of {len(df)}\")\n",
    "\n",
    "\n",
    "# Function to extract ingredient information\n",
    "def extract_ingredient_info(ingredient_text):\n",
    "    \"\"\"Extract quantity, measurement, and ingredient name from ingredient text\"\"\"\n",
    "    if pd.isna(ingredient_text) or ingredient_text == '':\n",
    "        return []\n",
    "    \n",
    "    # Split by lines and clean\n",
    "    lines = [line.strip() for line in ingredient_text.split('\\n') if line.strip()]\n",
    "    \n",
    "    extracted_ingredients = []\n",
    "    \n",
    "    for line in lines:\n",
    "        # Remove leading dash or bullet points\n",
    "        line = re.sub(r'^[-•*]\\s*', '', line)\n",
    "        \n",
    "        # Pattern to match quantity, measurement, and ingredient\n",
    "        # Examples: \"60 g cassava\", \"2-3 tablespoons of plain yogurt\", \"1½ tablespoons vegetable oil\"\n",
    "        patterns = [\n",
    "            # Pattern 1: Range + unit + \"of\" + ingredient (e.g., \"2-3 tablespoons of plain yogurt\")\n",
    "            r'^([0-9]+(?:[.,][0-9]+)?(?:[½¼¾])?[-–][0-9]+(?:[.,][0-9]+)?(?:[½¼¾])?)\\s*([a-zA-Z]+)\\s+of\\s+(.+)$',\n",
    "            \n",
    "            # Pattern 2: Range + unit + ingredient (e.g., \"2-3 tablespoons plain yogurt\")\n",
    "            r'^([0-9]+(?:[.,][0-9]+)?(?:[½¼¾])?[-–][0-9]+(?:[.,][0-9]+)?(?:[½¼¾])?)\\s*([a-zA-Z]+)\\s+(.+)$',\n",
    "            \n",
    "            # Pattern 3: Number + unit + \"of\" + ingredient (e.g., \"30 g of sweet potato\")\n",
    "            r'^([0-9]+(?:[.,][0-9]+)?(?:[½¼¾])?)\\s*([a-zA-Z]+)\\s+of\\s+(.+)$',\n",
    "            \n",
    "            # Pattern 4: Number + unit + ingredient (e.g., \"60 g cassava\", \"175g cauliflower\")\n",
    "            r'^([0-9]+(?:[.,][0-9]+)?(?:[½¼¾])?)\\s*([a-zA-Z]+)\\s+(.+)$',\n",
    "            \n",
    "            # Pattern 5: Fraction + unit + \"of\" + ingredient (e.g., \"1½ tablespoons of oil\")\n",
    "            r'^([0-9]*[½¼¾][0-9]*)\\s*([a-zA-Z]+)\\s+of\\s+(.+)$',\n",
    "            \n",
    "            # Pattern 6: Fraction + unit + ingredient (e.g., \"1½ tablespoons oil\")\n",
    "            r'^([0-9]*[½¼¾][0-9]*)\\s*([a-zA-Z]+)\\s+(.+)$',\n",
    "            \n",
    "            # Pattern 7: Range + ingredient (no unit) (e.g., \"2-3 carrots\")\n",
    "            r'^([0-9]+(?:[.,][0-9]+)?(?:[½¼¾])?[-–][0-9]+(?:[.,][0-9]+)?(?:[½¼¾])?)\\s+(.+)$',\n",
    "            \n",
    "            # Pattern 8: Number + ingredient (no unit) (e.g., \"1 carrot\", \"1 onion\")\n",
    "            r'^([0-9]+(?:[.,][0-9]+)?(?:[½¼¾])?)\\s+(.+)$',\n",
    "            \n",
    "            # Pattern 9: Just ingredient (no quantity/unit)\n",
    "            r'^(.+)$'\n",
    "        ]\n",
    "        \n",
    "        quantity = None\n",
    "        measurement = None\n",
    "        ingredient_name = None\n",
    "        \n",
    "        for i, pattern in enumerate(patterns):\n",
    "            match = re.match(pattern, line, re.IGNORECASE)\n",
    "            if match:\n",
    "                if i == 0:  # Pattern 1: range + unit + \"of\" + ingredient\n",
    "                    quantity = match.group(1)\n",
    "                    measurement = match.group(2)\n",
    "                    ingredient_name = match.group(3).strip()\n",
    "                elif i == 1:  # Pattern 2: range + unit + ingredient\n",
    "                    quantity = match.group(1)\n",
    "                    measurement = match.group(2)\n",
    "                    ingredient_name = match.group(3).strip()\n",
    "                elif i == 2:  # Pattern 3: number + unit + \"of\" + ingredient\n",
    "                    quantity = match.group(1)\n",
    "                    measurement = match.group(2)\n",
    "                    ingredient_name = match.group(3).strip()\n",
    "                elif i == 3:  # Pattern 4: number + unit + ingredient\n",
    "                    quantity = match.group(1)\n",
    "                    measurement = match.group(2)\n",
    "                    ingredient_name = match.group(3).strip()\n",
    "                elif i == 4:  # Pattern 5: fraction + unit + \"of\" + ingredient\n",
    "                    quantity = match.group(1)\n",
    "                    measurement = match.group(2)\n",
    "                    ingredient_name = match.group(3).strip()\n",
    "                elif i == 5:  # Pattern 6: fraction + unit + ingredient\n",
    "                    quantity = match.group(1)\n",
    "                    measurement = match.group(2)\n",
    "                    ingredient_name = match.group(3).strip()\n",
    "                elif i == 6:  # Pattern 7: range + ingredient (no unit)\n",
    "                    quantity = match.group(1)\n",
    "                    measurement = None\n",
    "                    ingredient_name = match.group(2).strip()\n",
    "                elif i == 7:  # Pattern 8: number + ingredient (no unit)\n",
    "                    quantity = match.group(1)\n",
    "                    measurement = None\n",
    "                    ingredient_name = match.group(2).strip()\n",
    "                else:  # Pattern 9: just ingredient\n",
    "                    quantity = None\n",
    "                    measurement = None\n",
    "                    ingredient_name = match.group(1).strip()\n",
    "                break\n",
    "        \n",
    "        # Clean up ingredient name (remove extra descriptions after comma)\n",
    "        if ingredient_name:\n",
    "            # Remove descriptions after comma (e.g., \"cassava, boiled and blended\" -> \"cassava\")\n",
    "            ingredient_name = ingredient_name.split(',')[0].strip()\n",
    "            \n",
    "            extracted_ingredients.append({\n",
    "                'original_text': line,\n",
    "                'quantity': quantity,\n",
    "                'measurement': measurement,\n",
    "                'ingredient_name': ingredient_name\n",
    "            })\n",
    "    \n",
    "    return extracted_ingredients\n",
    "\n"
   ]
  },
  {
   "cell_type": "code",
   "execution_count": 4,
   "id": "392b2835",
   "metadata": {},
   "outputs": [
    {
     "name": "stdout",
     "output_type": "stream",
     "text": [
      "=== TESTING INGREDIENT EXTRACTION WITH RANGE FORMATS ===\n",
      "\n",
      "Testing: '2-3 tablespoons of plain yogurt'\n",
      "  ✅ Quantity: 2-3, Measurement: tablespoons, Ingredient: plain yogurt\n",
      "\n",
      "Testing: '1-2 teaspoons of vanilla extract'\n",
      "  ✅ Quantity: 1-2, Measurement: teaspoons, Ingredient: vanilla extract\n",
      "\n",
      "Testing: '30 g of sweet potato'\n",
      "  ✅ Quantity: 30, Measurement: g, Ingredient: sweet potato\n",
      "\n",
      "Testing: '60 g cassava'\n",
      "  ✅ Quantity: 60, Measurement: g, Ingredient: cassava\n",
      "\n",
      "Testing: '1½ tablespoons vegetable oil'\n",
      "  ✅ Quantity: 1½, Measurement: tablespoons, Ingredient: vegetable oil\n",
      "\n",
      "Testing: '2-3 carrots'\n",
      "  ✅ Quantity: 2-3, Measurement: None, Ingredient: carrots\n",
      "\n",
      "Testing: '1 onion'\n",
      "  ✅ Quantity: 1, Measurement: None, Ingredient: onion\n",
      "\n",
      "Testing: 'plain water'\n",
      "  ✅ Quantity: None, Measurement: None, Ingredient: plain water\n"
     ]
    }
   ],
   "source": [
    "# Test the function with specific examples\n",
    "print(\"=== TESTING INGREDIENT EXTRACTION WITH RANGE FORMATS ===\")\n",
    "\n",
    "test_ingredients = [\n",
    "    \"2-3 tablespoons of plain yogurt\",\n",
    "    \"1-2 teaspoons of vanilla extract\", \n",
    "    \"30 g of sweet potato\",\n",
    "    \"60 g cassava\",\n",
    "    \"1½ tablespoons vegetable oil\",\n",
    "    \"2-3 carrots\",\n",
    "    \"1 onion\",\n",
    "    \"plain water\"\n",
    "]\n",
    "\n",
    "for test_ingredient in test_ingredients:\n",
    "    print(f\"\\nTesting: '{test_ingredient}'\")\n",
    "    result = extract_ingredient_info(test_ingredient)\n",
    "    if result:\n",
    "        for r in result:\n",
    "            print(f\"  ✅ Quantity: {r['quantity']}, Measurement: {r['measurement']}, Ingredient: {r['ingredient_name']}\")\n",
    "    else:\n",
    "        print(f\"  ❌ No match found\")\n"
   ]
  },
  {
   "cell_type": "code",
   "execution_count": 5,
   "id": "d60bca3f",
   "metadata": {},
   "outputs": [
    {
     "name": "stdout",
     "output_type": "stream",
     "text": [
      "\n",
      "Extracting ingredient information for 446 records with empty nutrition_value...\n"
     ]
    },
    {
     "data": {
      "text/html": [
       "<div>\n",
       "<style scoped>\n",
       "    .dataframe tbody tr th:only-of-type {\n",
       "        vertical-align: middle;\n",
       "    }\n",
       "\n",
       "    .dataframe tbody tr th {\n",
       "        vertical-align: top;\n",
       "    }\n",
       "\n",
       "    .dataframe thead th {\n",
       "        text-align: right;\n",
       "    }\n",
       "</style>\n",
       "<table border=\"1\" class=\"dataframe\">\n",
       "  <thead>\n",
       "    <tr style=\"text-align: right;\">\n",
       "      <th></th>\n",
       "      <th>ingredients</th>\n",
       "      <th>extracted_ingredients</th>\n",
       "    </tr>\n",
       "  </thead>\n",
       "  <tbody>\n",
       "    <tr>\n",
       "      <th>0</th>\n",
       "      <td>- 60 g cassava, boiled and blended\\n- 20 g fis...</td>\n",
       "      <td>[{'original_text': '60 g cassava, boiled and b...</td>\n",
       "    </tr>\n",
       "    <tr>\n",
       "      <th>1</th>\n",
       "      <td>- 100 g beef mince \\n- 30 g potato starch \\n- ...</td>\n",
       "      <td>[{'original_text': '100 g beef mince', 'quanti...</td>\n",
       "    </tr>\n",
       "    <tr>\n",
       "      <th>2</th>\n",
       "      <td>- 175g cauliflower/broccoli, cut into pieces\\n...</td>\n",
       "      <td>[{'original_text': '175g cauliflower/broccoli,...</td>\n",
       "    </tr>\n",
       "    <tr>\n",
       "      <th>3</th>\n",
       "      <td>- 1 carrot, potato, or sweet potato, peeled an...</td>\n",
       "      <td>[{'original_text': '1 carrot, potato, or sweet...</td>\n",
       "    </tr>\n",
       "    <tr>\n",
       "      <th>4</th>\n",
       "      <td>- 1 onion, peeled and finely chopped\\n- 1½ tab...</td>\n",
       "      <td>[{'original_text': '1 onion, peeled and finely...</td>\n",
       "    </tr>\n",
       "    <tr>\n",
       "      <th>...</th>\n",
       "      <td>...</td>\n",
       "      <td>...</td>\n",
       "    </tr>\n",
       "    <tr>\n",
       "      <th>1317</th>\n",
       "      <td>- 50 g berries (you can use a mix of frozen be...</td>\n",
       "      <td>[{'original_text': '50 g berries (you can use ...</td>\n",
       "    </tr>\n",
       "    <tr>\n",
       "      <th>1318</th>\n",
       "      <td>- 3 small mushrooms, finely chopped\\n- ½ cup b...</td>\n",
       "      <td>[{'original_text': '3 small mushrooms, finely ...</td>\n",
       "    </tr>\n",
       "    <tr>\n",
       "      <th>1319</th>\n",
       "      <td>- 1 cup pasta\\n- 1 tablespoon margarine\\n- 1 t...</td>\n",
       "      <td>[{'original_text': '1 cup pasta', 'quantity': ...</td>\n",
       "    </tr>\n",
       "    <tr>\n",
       "      <th>1320</th>\n",
       "      <td>- ¼ cup sugar\\n- 1 cup milk\\n- 1 egg\\n- 2 tabl...</td>\n",
       "      <td>[{'original_text': '¼ cup sugar', 'quantity': ...</td>\n",
       "    </tr>\n",
       "    <tr>\n",
       "      <th>1321</th>\n",
       "      <td>- 800g pie apples or 4 stewed apples\\n- ¼ cup ...</td>\n",
       "      <td>[{'original_text': '800g pie apples or 4 stewe...</td>\n",
       "    </tr>\n",
       "  </tbody>\n",
       "</table>\n",
       "<p>446 rows × 2 columns</p>\n",
       "</div>"
      ],
      "text/plain": [
       "                                            ingredients  \\\n",
       "0     - 60 g cassava, boiled and blended\\n- 20 g fis...   \n",
       "1     - 100 g beef mince \\n- 30 g potato starch \\n- ...   \n",
       "2     - 175g cauliflower/broccoli, cut into pieces\\n...   \n",
       "3     - 1 carrot, potato, or sweet potato, peeled an...   \n",
       "4     - 1 onion, peeled and finely chopped\\n- 1½ tab...   \n",
       "...                                                 ...   \n",
       "1317  - 50 g berries (you can use a mix of frozen be...   \n",
       "1318  - 3 small mushrooms, finely chopped\\n- ½ cup b...   \n",
       "1319  - 1 cup pasta\\n- 1 tablespoon margarine\\n- 1 t...   \n",
       "1320  - ¼ cup sugar\\n- 1 cup milk\\n- 1 egg\\n- 2 tabl...   \n",
       "1321  - 800g pie apples or 4 stewed apples\\n- ¼ cup ...   \n",
       "\n",
       "                                  extracted_ingredients  \n",
       "0     [{'original_text': '60 g cassava, boiled and b...  \n",
       "1     [{'original_text': '100 g beef mince', 'quanti...  \n",
       "2     [{'original_text': '175g cauliflower/broccoli,...  \n",
       "3     [{'original_text': '1 carrot, potato, or sweet...  \n",
       "4     [{'original_text': '1 onion, peeled and finely...  \n",
       "...                                                 ...  \n",
       "1317  [{'original_text': '50 g berries (you can use ...  \n",
       "1318  [{'original_text': '3 small mushrooms, finely ...  \n",
       "1319  [{'original_text': '1 cup pasta', 'quantity': ...  \n",
       "1320  [{'original_text': '¼ cup sugar', 'quantity': ...  \n",
       "1321  [{'original_text': '800g pie apples or 4 stewe...  \n",
       "\n",
       "[446 rows x 2 columns]"
      ]
     },
     "execution_count": 5,
     "metadata": {},
     "output_type": "execute_result"
    }
   ],
   "source": [
    "df_empty_nutrition = df[df['nutrition_value'].isna() | (df['nutrition_value'] == '') | (df['nutrition_value'] == 'None')].copy()\n",
    "\n",
    "print(f\"\\nExtracting ingredient information for {len(df_empty_nutrition)} records with empty nutrition_value...\")\n",
    "df_empty_nutrition['extracted_ingredients'] = df_empty_nutrition['ingredients'].apply(extract_ingredient_info)\n",
    "\n",
    "df_empty_nutrition[['ingredients','extracted_ingredients']]\n"
   ]
  },
  {
   "cell_type": "code",
   "execution_count": 6,
   "id": "92d0cbaa",
   "metadata": {},
   "outputs": [
    {
     "name": "stdout",
     "output_type": "stream",
     "text": [
      "\n",
      "Sample ingredient extractions:\n",
      "\n",
      "--- Recipe: Cassava Porridge with Fish Sauce and Lemon (Bubur Singkong Kukuruyuk Saus Jeruk) ---\n",
      "Original ingredients:\n",
      "- 60 g cassava, boiled and blended\n",
      "- 20 g fish meat (milkfish), finely chopped\n",
      "- 10 g chicken meat\n",
      "- 5 g coconut oil\n",
      "- 100 cc chicken broth\n",
      "- 10 g fresh lime juice\n",
      "- 20 g spinach, finely chopped\n",
      "\n",
      "Extracted ingredients:\n",
      "  - Quantity: 60, Measurement: g, Ingredient: cassava\n",
      "    Original: 60 g cassava, boiled and blended\n",
      "  - Quantity: 20, Measurement: g, Ingredient: fish meat (milkfish)\n",
      "    Original: 20 g fish meat (milkfish), finely chopped\n",
      "  - Quantity: 10, Measurement: g, Ingredient: chicken meat\n",
      "    Original: 10 g chicken meat\n",
      "  - Quantity: 5, Measurement: g, Ingredient: coconut oil\n",
      "    Original: 5 g coconut oil\n",
      "  - Quantity: 100, Measurement: cc, Ingredient: chicken broth\n",
      "    Original: 100 cc chicken broth\n",
      "  - Quantity: 10, Measurement: g, Ingredient: fresh lime juice\n",
      "    Original: 10 g fresh lime juice\n",
      "  - Quantity: 20, Measurement: g, Ingredient: spinach\n",
      "    Original: 20 g spinach, finely chopped\n",
      "\n",
      "--- Recipe: Bitterballs (Bitterballen) ---\n",
      "Original ingredients:\n",
      "- 100 g beef mince \n",
      "- 30 g potato starch \n",
      "- 300 ml milk \n",
      "- 1 carrot, grated \n",
      "- 1 egg, beaten \n",
      "- 2 tbsp margarine, for frying \n",
      "- Salt to taste (if needed) \n",
      "- Cheese as needed \n",
      "- Bread crumbs as needed \n",
      "\n",
      "Spices: \n",
      "- 1 stalk lemongrass\n",
      "\n",
      "Extracted ingredients:\n",
      "  - Quantity: 100, Measurement: g, Ingredient: beef mince\n",
      "    Original: 100 g beef mince\n",
      "  - Quantity: 30, Measurement: g, Ingredient: potato starch\n",
      "    Original: 30 g potato starch\n",
      "  - Quantity: 300, Measurement: ml, Ingredient: milk\n",
      "    Original: 300 ml milk\n",
      "  - Quantity: 1, Measurement: None, Ingredient: carrot\n",
      "    Original: 1 carrot, grated\n",
      "  - Quantity: 1, Measurement: None, Ingredient: egg\n",
      "    Original: 1 egg, beaten\n",
      "  - Quantity: 2, Measurement: tbsp, Ingredient: margarine\n",
      "    Original: 2 tbsp margarine, for frying\n",
      "  - Quantity: None, Measurement: None, Ingredient: Salt to taste (if needed)\n",
      "    Original: Salt to taste (if needed)\n",
      "  - Quantity: None, Measurement: None, Ingredient: Cheese as needed\n",
      "    Original: Cheese as needed\n",
      "  - Quantity: None, Measurement: None, Ingredient: Bread crumbs as needed\n",
      "    Original: Bread crumbs as needed\n",
      "  - Quantity: None, Measurement: None, Ingredient: Spices:\n",
      "    Original: Spices:\n",
      "  - Quantity: 1, Measurement: stalk, Ingredient: lemongrass\n",
      "    Original: 1 stalk lemongrass\n",
      "\n",
      "--- Recipe: Broccoli/Cauliflower Cheese ---\n",
      "Original ingredients:\n",
      "- 175g cauliflower/broccoli, cut into pieces\n",
      "- 15g margarine\n",
      "- 1 tablespoon plain flour\n",
      "- 150ml milk\n",
      "- 50g cheddar cheese, grated\n",
      "\n",
      "Extracted ingredients:\n",
      "  - Quantity: 175, Measurement: g, Ingredient: cauliflower/broccoli\n",
      "    Original: 175g cauliflower/broccoli, cut into pieces\n",
      "  - Quantity: 15, Measurement: g, Ingredient: margarine\n",
      "    Original: 15g margarine\n",
      "  - Quantity: 1, Measurement: tablespoon, Ingredient: plain flour\n",
      "    Original: 1 tablespoon plain flour\n",
      "  - Quantity: 150, Measurement: ml, Ingredient: milk\n",
      "    Original: 150ml milk\n",
      "  - Quantity: 50, Measurement: g, Ingredient: cheddar cheese\n",
      "    Original: 50g cheddar cheese, grated\n"
     ]
    }
   ],
   "source": [
    "# Display sample extractions\n",
    "print(\"\\nSample ingredient extractions:\")\n",
    "for idx, row in df_empty_nutrition.head(3).iterrows():\n",
    "    print(f\"\\n--- Recipe: {row['name']} ---\")\n",
    "    print(f\"Original ingredients:\\n{row['ingredients']}\")\n",
    "    print(\"\\nExtracted ingredients:\")\n",
    "    for ing in row['extracted_ingredients']:\n",
    "        print(f\"  - Quantity: {ing['quantity']}, Measurement: {ing['measurement']}, Ingredient: {ing['ingredient_name']}\")\n",
    "        print(f\"    Original: {ing['original_text']}\")\n"
   ]
  },
  {
   "cell_type": "code",
   "execution_count": 7,
   "id": "f753555f",
   "metadata": {},
   "outputs": [
    {
     "name": "stdout",
     "output_type": "stream",
     "text": [
      "\n",
      "Created ingredient breakdown with 2572 ingredient entries\n",
      "From 446 recipes with empty nutrition values\n"
     ]
    }
   ],
   "source": [
    "# Create a detailed breakdown DataFrame\n",
    "ingredient_details = []\n",
    "for idx, row in df_empty_nutrition.iterrows():\n",
    "    recipe_name = row['name']\n",
    "    for ing in row['extracted_ingredients']:\n",
    "        ingredient_details.append({\n",
    "            'recipe_id': idx,\n",
    "            'recipe_name': recipe_name,\n",
    "            'quantity': ing['quantity'],\n",
    "            'measurement': ing['measurement'],\n",
    "            'ingredient_name': ing['ingredient_name'],\n",
    "            'original_text': ing['original_text']\n",
    "        })\n",
    "\n",
    "ingredient_breakdown_df = pd.DataFrame(ingredient_details)\n",
    "print(f\"\\nCreated ingredient breakdown with {len(ingredient_breakdown_df)} ingredient entries\")\n",
    "print(f\"From {len(df_empty_nutrition)} recipes with empty nutrition values\")\n",
    "\n"
   ]
  },
  {
   "cell_type": "code",
   "execution_count": 8,
   "id": "e6177df8",
   "metadata": {},
   "outputs": [
    {
     "data": {
      "text/html": [
       "<div>\n",
       "<style scoped>\n",
       "    .dataframe tbody tr th:only-of-type {\n",
       "        vertical-align: middle;\n",
       "    }\n",
       "\n",
       "    .dataframe tbody tr th {\n",
       "        vertical-align: top;\n",
       "    }\n",
       "\n",
       "    .dataframe thead th {\n",
       "        text-align: right;\n",
       "    }\n",
       "</style>\n",
       "<table border=\"1\" class=\"dataframe\">\n",
       "  <thead>\n",
       "    <tr style=\"text-align: right;\">\n",
       "      <th></th>\n",
       "      <th>recipe_id</th>\n",
       "      <th>recipe_name</th>\n",
       "      <th>quantity</th>\n",
       "      <th>measurement</th>\n",
       "      <th>ingredient_name</th>\n",
       "      <th>original_text</th>\n",
       "    </tr>\n",
       "  </thead>\n",
       "  <tbody>\n",
       "    <tr>\n",
       "      <th>0</th>\n",
       "      <td>0</td>\n",
       "      <td>Cassava Porridge with Fish Sauce and Lemon (Bu...</td>\n",
       "      <td>60</td>\n",
       "      <td>g</td>\n",
       "      <td>cassava</td>\n",
       "      <td>60 g cassava, boiled and blended</td>\n",
       "    </tr>\n",
       "    <tr>\n",
       "      <th>1</th>\n",
       "      <td>0</td>\n",
       "      <td>Cassava Porridge with Fish Sauce and Lemon (Bu...</td>\n",
       "      <td>20</td>\n",
       "      <td>g</td>\n",
       "      <td>fish meat (milkfish)</td>\n",
       "      <td>20 g fish meat (milkfish), finely chopped</td>\n",
       "    </tr>\n",
       "    <tr>\n",
       "      <th>2</th>\n",
       "      <td>0</td>\n",
       "      <td>Cassava Porridge with Fish Sauce and Lemon (Bu...</td>\n",
       "      <td>10</td>\n",
       "      <td>g</td>\n",
       "      <td>chicken meat</td>\n",
       "      <td>10 g chicken meat</td>\n",
       "    </tr>\n",
       "    <tr>\n",
       "      <th>3</th>\n",
       "      <td>0</td>\n",
       "      <td>Cassava Porridge with Fish Sauce and Lemon (Bu...</td>\n",
       "      <td>5</td>\n",
       "      <td>g</td>\n",
       "      <td>coconut oil</td>\n",
       "      <td>5 g coconut oil</td>\n",
       "    </tr>\n",
       "    <tr>\n",
       "      <th>4</th>\n",
       "      <td>0</td>\n",
       "      <td>Cassava Porridge with Fish Sauce and Lemon (Bu...</td>\n",
       "      <td>100</td>\n",
       "      <td>cc</td>\n",
       "      <td>chicken broth</td>\n",
       "      <td>100 cc chicken broth</td>\n",
       "    </tr>\n",
       "  </tbody>\n",
       "</table>\n",
       "</div>"
      ],
      "text/plain": [
       "   recipe_id                                        recipe_name quantity  \\\n",
       "0          0  Cassava Porridge with Fish Sauce and Lemon (Bu...       60   \n",
       "1          0  Cassava Porridge with Fish Sauce and Lemon (Bu...       20   \n",
       "2          0  Cassava Porridge with Fish Sauce and Lemon (Bu...       10   \n",
       "3          0  Cassava Porridge with Fish Sauce and Lemon (Bu...        5   \n",
       "4          0  Cassava Porridge with Fish Sauce and Lemon (Bu...      100   \n",
       "\n",
       "  measurement       ingredient_name                              original_text  \n",
       "0           g               cassava           60 g cassava, boiled and blended  \n",
       "1           g  fish meat (milkfish)  20 g fish meat (milkfish), finely chopped  \n",
       "2           g          chicken meat                          10 g chicken meat  \n",
       "3           g           coconut oil                            5 g coconut oil  \n",
       "4          cc         chicken broth                       100 cc chicken broth  "
      ]
     },
     "execution_count": 8,
     "metadata": {},
     "output_type": "execute_result"
    }
   ],
   "source": [
    "#print new df\n",
    "ingredient_breakdown_df.head()\n"
   ]
  },
  {
   "cell_type": "code",
   "execution_count": 9,
   "id": "2bd1d392",
   "metadata": {},
   "outputs": [
    {
     "name": "stdout",
     "output_type": "stream",
     "text": [
      "\n",
      "Summary of extracted measurements:\n",
      "measurement\n",
      "g              556\n",
      "tsp            181\n",
      "small          148\n",
      "tbsp           130\n",
      "cup             85\n",
      "ml              79\n",
      "medium          73\n",
      "tablespoons     47\n",
      "teaspoon        45\n",
      "tablespoon      43\n",
      "Name: count, dtype: int64\n",
      "\n",
      "Most common ingredients:\n",
      "ingredient_name\n",
      "water            69\n",
      "vegetable oil    65\n",
      "onion            48\n",
      "egg              38\n",
      "carrot           35\n",
      "olive oil        34\n",
      "butter           29\n",
      "potato           25\n",
      "eggs             25\n",
      "sugar            20\n",
      "Name: count, dtype: int64\n"
     ]
    }
   ],
   "source": [
    "# Show summary statistics\n",
    "print(\"\\nSummary of extracted measurements:\")\n",
    "if len(ingredient_breakdown_df) > 0:\n",
    "    print(ingredient_breakdown_df['measurement'].value_counts().head(10))\n",
    "    \n",
    "    print(\"\\nMost common ingredients:\")\n",
    "    print(ingredient_breakdown_df['ingredient_name'].value_counts().head(10))"
   ]
  },
  {
   "cell_type": "code",
   "execution_count": 10,
   "id": "0e5b3d7b",
   "metadata": {},
   "outputs": [],
   "source": [
    "# Function to convert measurements to grams\n",
    "def convert_to_grams(quantity, measurement, ingredient_name):\n",
    "    \"\"\"\n",
    "    Convert quantity and measurement to grams based on common cooking conversions.\n",
    "    Returns converted quantity in grams and 'g' as measurement.\n",
    "    \"\"\"\n",
    "    if not quantity or not measurement:\n",
    "        return quantity, measurement\n",
    "    \n",
    "    # Clean and parse quantity (handle ranges and fractions)\n",
    "    def parse_quantity(qty_str):\n",
    "        if not qty_str:\n",
    "            return 1.0\n",
    "        \n",
    "        # Handle fractions\n",
    "        fraction_map = {'½': 0.5, '¼': 0.25, '¾': 0.75, '⅓': 0.33, '⅔': 0.67}\n",
    "        for frac, val in fraction_map.items():\n",
    "            qty_str = str(qty_str).replace(frac, str(val))\n",
    "        \n",
    "        # Handle ranges (take average)\n",
    "        if '-' in str(qty_str) or '–' in str(qty_str):\n",
    "            parts = re.split(r'[-–]', str(qty_str))\n",
    "            if len(parts) == 2:\n",
    "                try:\n",
    "                    min_val = float(parts[0].strip())\n",
    "                    max_val = float(parts[1].strip())\n",
    "                    return (min_val + max_val) / 2\n",
    "                except:\n",
    "                    pass\n",
    "        \n",
    "        # Convert to float\n",
    "        try:\n",
    "            return float(qty_str)\n",
    "        except:\n",
    "            return 1.0\n",
    "    \n",
    "    parsed_qty = parse_quantity(quantity)\n",
    "    measurement_lower = str(measurement).lower()\n",
    "    \n",
    "    # Conversion factors to grams\n",
    "    conversions = {\n",
    "        # Volume conversions (approximate for common ingredients)\n",
    "        'tsp': 5,           # 1 tsp ≈ 5g (for most liquids/powders)\n",
    "        'teaspoon': 5,\n",
    "        'teaspoons': 5,\n",
    "        'tbsp': 15,         # 1 tbsp ≈ 15g\n",
    "        'tablespoon': 15,\n",
    "        'tablespoons': 15,\n",
    "        'cup': 240,         # 1 cup ≈ 240g (for liquids)\n",
    "        'cups': 240,\n",
    "        'ml': 1,            # 1ml ≈ 1g (for water-based liquids)\n",
    "        'milliliters': 1,\n",
    "        'milliliter': 1,\n",
    "        'l': 1000,          # 1 liter = 1000g\n",
    "        'liter': 1000,\n",
    "        'liters': 1000,\n",
    "        \n",
    "        # Weight conversions\n",
    "        'g': 1,             # already in grams\n",
    "        'gram': 1,\n",
    "        'grams': 1,\n",
    "        'kg': 1000,         # 1 kg = 1000g\n",
    "        'kilogram': 1000,\n",
    "        'kilograms': 1000,\n",
    "        'oz': 28.35,        # 1 oz ≈ 28.35g\n",
    "        'ounce': 28.35,\n",
    "        'ounces': 28.35,\n",
    "        'lb': 453.6,        # 1 lb ≈ 453.6g\n",
    "        'pound': 453.6,\n",
    "        'pounds': 453.6,\n",
    "        \n",
    "        # Piece conversions (rough estimates)\n",
    "        'small': 50,        # small piece ≈ 50g\n",
    "        'medium': 100,      # medium piece ≈ 100g\n",
    "        'large': 150,       # large piece ≈ 150g\n",
    "        'piece': 75,        # average piece ≈ 75g\n",
    "        'pieces': 75,\n",
    "        'clove': 3,         # garlic clove ≈ 3g\n",
    "        'cloves': 3,\n",
    "    }\n",
    "    \n",
    "    # Convert to grams\n",
    "    if measurement_lower in conversions:\n",
    "        converted_qty = parsed_qty * conversions[measurement_lower]\n",
    "        return round(converted_qty, 1), 'g'\n",
    "    else:\n",
    "        # If measurement not found, return original\n",
    "        return quantity, measurement\n",
    "\n"
   ]
  },
  {
   "cell_type": "code",
   "execution_count": 11,
   "id": "7caf9ed6",
   "metadata": {},
   "outputs": [
    {
     "name": "stdout",
     "output_type": "stream",
     "text": [
      "Testing conversion function:\n",
      "2 tbsp vegetable oil → 30.0 g\n",
      "1 cup flour → 240.0 g\n",
      "1 tsp salt → 5.0 g\n",
      "100 ml water → 100.0 g\n",
      "1 medium onion → 100.0 g\n",
      "2-3 tsp sugar → 12.5 g\n",
      "½ cup butter → 120.0 g\n"
     ]
    }
   ],
   "source": [
    "# Test the conversion function\n",
    "print(\"Testing conversion function:\")\n",
    "test_cases = [\n",
    "    ('2', 'tbsp', 'vegetable oil'),\n",
    "    ('1', 'cup', 'flour'),\n",
    "    ('1', 'tsp', 'salt'),\n",
    "    ('100', 'ml', 'water'),\n",
    "    ('1', 'medium', 'onion'),\n",
    "    ('2-3', 'tsp', 'sugar'),\n",
    "    ('½', 'cup', 'butter')\n",
    "]\n",
    "\n",
    "for qty, measure, ingredient in test_cases:\n",
    "    new_qty, new_measure = convert_to_grams(qty, measure, ingredient)\n",
    "    print(f\"{qty} {measure} {ingredient} → {new_qty} {new_measure}\")\n"
   ]
  },
  {
   "cell_type": "code",
   "execution_count": 19,
   "id": "992b8305",
   "metadata": {},
   "outputs": [
    {
     "name": "stdout",
     "output_type": "stream",
     "text": [
      "Converting all measurements to grams...\n",
      "\n",
      "Conversion completed for 2572 ingredients\n",
      "\n",
      "Sample conversions:\n",
      "60.0 g cassava → 60.0 g\n",
      "20.0 g fish meat (milkfish) → 20.0 g\n",
      "10.0 g chicken meat → 10.0 g\n",
      "5.0 g coconut oil → 5.0 g\n",
      "100 cc chicken broth → 100 cc\n",
      "10.0 g fresh lime juice → 10.0 g\n",
      "20.0 g spinach → 20.0 g\n",
      "100.0 g beef mince → 100.0 g\n",
      "30.0 g potato starch → 30.0 g\n",
      "300.0 g milk → 300.0 g\n",
      "\n",
      "New measurement distribution:\n",
      "measurement\n",
      "g          1547\n",
      "heaped       16\n",
      "knob         14\n",
      "pinch        12\n",
      "level        11\n",
      "           ... \n",
      "mango         1\n",
      "square        1\n",
      "tins          1\n",
      "English       1\n",
      "leaves        1\n",
      "Name: count, Length: 127, dtype: int64\n"
     ]
    }
   ],
   "source": [
    "# Apply conversion to all ingredients in the dataframe\n",
    "print(\"Converting all measurements to grams...\")\n",
    "\n",
    "# Create new columns for converted values\n",
    "ingredient_breakdown_df['original_quantity'] = ingredient_breakdown_df['quantity'].copy()\n",
    "ingredient_breakdown_df['original_measurement'] = ingredient_breakdown_df['measurement'].copy()\n",
    "\n",
    "# Apply conversion\n",
    "conversion_results = ingredient_breakdown_df.apply(\n",
    "    lambda row: convert_to_grams(row['quantity'], row['measurement'], row['ingredient_name']), \n",
    "    axis=1\n",
    ")\n",
    "\n",
    "# Update the dataframe with converted values\n",
    "ingredient_breakdown_df['quantity'] = [result[0] for result in conversion_results]\n",
    "ingredient_breakdown_df['measurement'] = [result[1] for result in conversion_results]\n",
    "\n",
    "print(f\"\\nConversion completed for {len(ingredient_breakdown_df)} ingredients\")\n",
    "\n",
    "# Show sample conversions\n",
    "print(\"\\nSample conversions:\")\n",
    "sample_conversions = ingredient_breakdown_df[ingredient_breakdown_df['original_measurement'].notna()].head(10)\n",
    "for idx, row in sample_conversions.iterrows():\n",
    "    print(f\"{row['original_quantity']} {row['original_measurement']} {row['ingredient_name']} → {row['quantity']} {row['measurement']}\")\n",
    "\n",
    "# Show new measurement distribution\n",
    "print(\"\\nNew measurement distribution:\")\n",
    "print(ingredient_breakdown_df['measurement'].value_counts())\n",
    "\n"
   ]
  },
  {
   "cell_type": "code",
   "execution_count": 13,
   "id": "7128acd4",
   "metadata": {},
   "outputs": [
    {
     "data": {
      "text/html": [
       "<div>\n",
       "<style scoped>\n",
       "    .dataframe tbody tr th:only-of-type {\n",
       "        vertical-align: middle;\n",
       "    }\n",
       "\n",
       "    .dataframe tbody tr th {\n",
       "        vertical-align: top;\n",
       "    }\n",
       "\n",
       "    .dataframe thead th {\n",
       "        text-align: right;\n",
       "    }\n",
       "</style>\n",
       "<table border=\"1\" class=\"dataframe\">\n",
       "  <thead>\n",
       "    <tr style=\"text-align: right;\">\n",
       "      <th></th>\n",
       "      <th>recipe_id</th>\n",
       "      <th>recipe_name</th>\n",
       "      <th>quantity</th>\n",
       "      <th>measurement</th>\n",
       "      <th>ingredient_name</th>\n",
       "      <th>original_text</th>\n",
       "      <th>original_quantity</th>\n",
       "      <th>original_measurement</th>\n",
       "    </tr>\n",
       "  </thead>\n",
       "  <tbody>\n",
       "    <tr>\n",
       "      <th>0</th>\n",
       "      <td>0</td>\n",
       "      <td>Cassava Porridge with Fish Sauce and Lemon (Bu...</td>\n",
       "      <td>60.0</td>\n",
       "      <td>g</td>\n",
       "      <td>cassava</td>\n",
       "      <td>60 g cassava, boiled and blended</td>\n",
       "      <td>60</td>\n",
       "      <td>g</td>\n",
       "    </tr>\n",
       "    <tr>\n",
       "      <th>1</th>\n",
       "      <td>0</td>\n",
       "      <td>Cassava Porridge with Fish Sauce and Lemon (Bu...</td>\n",
       "      <td>20.0</td>\n",
       "      <td>g</td>\n",
       "      <td>fish meat (milkfish)</td>\n",
       "      <td>20 g fish meat (milkfish), finely chopped</td>\n",
       "      <td>20</td>\n",
       "      <td>g</td>\n",
       "    </tr>\n",
       "    <tr>\n",
       "      <th>2</th>\n",
       "      <td>0</td>\n",
       "      <td>Cassava Porridge with Fish Sauce and Lemon (Bu...</td>\n",
       "      <td>10.0</td>\n",
       "      <td>g</td>\n",
       "      <td>chicken meat</td>\n",
       "      <td>10 g chicken meat</td>\n",
       "      <td>10</td>\n",
       "      <td>g</td>\n",
       "    </tr>\n",
       "    <tr>\n",
       "      <th>3</th>\n",
       "      <td>0</td>\n",
       "      <td>Cassava Porridge with Fish Sauce and Lemon (Bu...</td>\n",
       "      <td>5.0</td>\n",
       "      <td>g</td>\n",
       "      <td>coconut oil</td>\n",
       "      <td>5 g coconut oil</td>\n",
       "      <td>5</td>\n",
       "      <td>g</td>\n",
       "    </tr>\n",
       "    <tr>\n",
       "      <th>4</th>\n",
       "      <td>0</td>\n",
       "      <td>Cassava Porridge with Fish Sauce and Lemon (Bu...</td>\n",
       "      <td>100</td>\n",
       "      <td>cc</td>\n",
       "      <td>chicken broth</td>\n",
       "      <td>100 cc chicken broth</td>\n",
       "      <td>100</td>\n",
       "      <td>cc</td>\n",
       "    </tr>\n",
       "  </tbody>\n",
       "</table>\n",
       "</div>"
      ],
      "text/plain": [
       "   recipe_id                                        recipe_name quantity  \\\n",
       "0          0  Cassava Porridge with Fish Sauce and Lemon (Bu...     60.0   \n",
       "1          0  Cassava Porridge with Fish Sauce and Lemon (Bu...     20.0   \n",
       "2          0  Cassava Porridge with Fish Sauce and Lemon (Bu...     10.0   \n",
       "3          0  Cassava Porridge with Fish Sauce and Lemon (Bu...      5.0   \n",
       "4          0  Cassava Porridge with Fish Sauce and Lemon (Bu...      100   \n",
       "\n",
       "  measurement       ingredient_name  \\\n",
       "0           g               cassava   \n",
       "1           g  fish meat (milkfish)   \n",
       "2           g          chicken meat   \n",
       "3           g           coconut oil   \n",
       "4          cc         chicken broth   \n",
       "\n",
       "                               original_text original_quantity  \\\n",
       "0           60 g cassava, boiled and blended                60   \n",
       "1  20 g fish meat (milkfish), finely chopped                20   \n",
       "2                          10 g chicken meat                10   \n",
       "3                            5 g coconut oil                 5   \n",
       "4                       100 cc chicken broth               100   \n",
       "\n",
       "  original_measurement  \n",
       "0                    g  \n",
       "1                    g  \n",
       "2                    g  \n",
       "3                    g  \n",
       "4                   cc  "
      ]
     },
     "execution_count": 13,
     "metadata": {},
     "output_type": "execute_result"
    }
   ],
   "source": [
    "#print new df\n",
    "ingredient_breakdown_df.head()"
   ]
  },
  {
   "cell_type": "code",
   "execution_count": 20,
   "id": "70c6ed42",
   "metadata": {},
   "outputs": [
    {
     "name": "stdout",
     "output_type": "stream",
     "text": [
      "Filtering ingredients with complete quantity and measurement data...\n",
      "\n",
      "Total ingredients in breakdown: 2572\n",
      "Ingredients with quantity: 2061\n",
      "Ingredients with measurement: 1895\n",
      "Ingredients with both quantity and measurement: 1895\n",
      "\n",
      "Ingredients with complete quantity and measurement: 1895\n",
      "Percentage of complete data: 73.7%\n",
      "\n",
      "Sample of ingredients with complete data:\n",
      "        ingredient_name quantity measurement\n",
      "0               cassava     60.0           g\n",
      "1  fish meat (milkfish)     20.0           g\n",
      "2          chicken meat     10.0           g\n",
      "3           coconut oil      5.0           g\n",
      "4         chicken broth      100          cc\n",
      "5      fresh lime juice     10.0           g\n",
      "6               spinach     20.0           g\n",
      "7            beef mince    100.0           g\n",
      "8         potato starch     30.0           g\n",
      "9                  milk    300.0           g\n"
     ]
    }
   ],
   "source": [
    "# Filter ingredients that have complete quantity and measurement data\n",
    "print(\"Filtering ingredients with complete quantity and measurement data...\")\n",
    "\n",
    "# Check current data completeness\n",
    "print(f\"\\nTotal ingredients in breakdown: {len(ingredient_breakdown_df)}\")\n",
    "print(f\"Ingredients with quantity: {ingredient_breakdown_df['quantity'].notna().sum()}\")\n",
    "print(f\"Ingredients with measurement: {ingredient_breakdown_df['measurement'].notna().sum()}\")\n",
    "print(f\"Ingredients with both quantity and measurement: {(ingredient_breakdown_df['quantity'].notna() & ingredient_breakdown_df['measurement'].notna()).sum()}\")\n",
    "\n",
    "# Create mask for complete data (both quantity and measurement are not null)\n",
    "complete_data_mask = (\n",
    "    ingredient_breakdown_df['quantity'].notna() & \n",
    "    ingredient_breakdown_df['measurement'].notna() &\n",
    "    (ingredient_breakdown_df['quantity'] != '') &\n",
    "    (ingredient_breakdown_df['measurement'] != '')\n",
    ")\n",
    "\n",
    "# Filter dataframe to only include ingredients with complete data\n",
    "ingredients_complete = ingredient_breakdown_df[complete_data_mask].copy()\n",
    "\n",
    "print(f\"\\nIngredients with complete quantity and measurement: {len(ingredients_complete)}\")\n",
    "print(f\"Percentage of complete data: {len(ingredients_complete) / len(ingredient_breakdown_df) * 100:.1f}%\")\n",
    "\n",
    "# Show sample of complete ingredients\n",
    "print(\"\\nSample of ingredients with complete data:\")\n",
    "print(ingredients_complete[['ingredient_name', 'quantity', 'measurement']].head(10))\n"
   ]
  },
  {
   "cell_type": "code",
   "execution_count": 15,
   "id": "45077030",
   "metadata": {},
   "outputs": [
    {
     "data": {
      "text/html": [
       "<div>\n",
       "<style scoped>\n",
       "    .dataframe tbody tr th:only-of-type {\n",
       "        vertical-align: middle;\n",
       "    }\n",
       "\n",
       "    .dataframe tbody tr th {\n",
       "        vertical-align: top;\n",
       "    }\n",
       "\n",
       "    .dataframe thead th {\n",
       "        text-align: right;\n",
       "    }\n",
       "</style>\n",
       "<table border=\"1\" class=\"dataframe\">\n",
       "  <thead>\n",
       "    <tr style=\"text-align: right;\">\n",
       "      <th></th>\n",
       "      <th>recipe_id</th>\n",
       "      <th>recipe_name</th>\n",
       "      <th>quantity</th>\n",
       "      <th>measurement</th>\n",
       "      <th>ingredient_name</th>\n",
       "      <th>original_text</th>\n",
       "      <th>original_quantity</th>\n",
       "      <th>original_measurement</th>\n",
       "    </tr>\n",
       "  </thead>\n",
       "  <tbody>\n",
       "    <tr>\n",
       "      <th>0</th>\n",
       "      <td>0</td>\n",
       "      <td>Cassava Porridge with Fish Sauce and Lemon (Bu...</td>\n",
       "      <td>60.0</td>\n",
       "      <td>g</td>\n",
       "      <td>cassava</td>\n",
       "      <td>60 g cassava, boiled and blended</td>\n",
       "      <td>60</td>\n",
       "      <td>g</td>\n",
       "    </tr>\n",
       "    <tr>\n",
       "      <th>1</th>\n",
       "      <td>0</td>\n",
       "      <td>Cassava Porridge with Fish Sauce and Lemon (Bu...</td>\n",
       "      <td>20.0</td>\n",
       "      <td>g</td>\n",
       "      <td>fish meat (milkfish)</td>\n",
       "      <td>20 g fish meat (milkfish), finely chopped</td>\n",
       "      <td>20</td>\n",
       "      <td>g</td>\n",
       "    </tr>\n",
       "    <tr>\n",
       "      <th>2</th>\n",
       "      <td>0</td>\n",
       "      <td>Cassava Porridge with Fish Sauce and Lemon (Bu...</td>\n",
       "      <td>10.0</td>\n",
       "      <td>g</td>\n",
       "      <td>chicken meat</td>\n",
       "      <td>10 g chicken meat</td>\n",
       "      <td>10</td>\n",
       "      <td>g</td>\n",
       "    </tr>\n",
       "    <tr>\n",
       "      <th>3</th>\n",
       "      <td>0</td>\n",
       "      <td>Cassava Porridge with Fish Sauce and Lemon (Bu...</td>\n",
       "      <td>5.0</td>\n",
       "      <td>g</td>\n",
       "      <td>coconut oil</td>\n",
       "      <td>5 g coconut oil</td>\n",
       "      <td>5</td>\n",
       "      <td>g</td>\n",
       "    </tr>\n",
       "    <tr>\n",
       "      <th>4</th>\n",
       "      <td>0</td>\n",
       "      <td>Cassava Porridge with Fish Sauce and Lemon (Bu...</td>\n",
       "      <td>100</td>\n",
       "      <td>cc</td>\n",
       "      <td>chicken broth</td>\n",
       "      <td>100 cc chicken broth</td>\n",
       "      <td>100</td>\n",
       "      <td>cc</td>\n",
       "    </tr>\n",
       "    <tr>\n",
       "      <th>...</th>\n",
       "      <td>...</td>\n",
       "      <td>...</td>\n",
       "      <td>...</td>\n",
       "      <td>...</td>\n",
       "      <td>...</td>\n",
       "      <td>...</td>\n",
       "      <td>...</td>\n",
       "      <td>...</td>\n",
       "    </tr>\n",
       "    <tr>\n",
       "      <th>2567</th>\n",
       "      <td>1321</td>\n",
       "      <td>Apple Crumble</td>\n",
       "      <td>60.0</td>\n",
       "      <td>g</td>\n",
       "      <td>wholemeal self-raising flour</td>\n",
       "      <td>¼ cup wholemeal self-raising flour</td>\n",
       "      <td>¼</td>\n",
       "      <td>cup</td>\n",
       "    </tr>\n",
       "    <tr>\n",
       "      <th>2568</th>\n",
       "      <td>1321</td>\n",
       "      <td>Apple Crumble</td>\n",
       "      <td>60.0</td>\n",
       "      <td>g</td>\n",
       "      <td>brown sugar</td>\n",
       "      <td>¼ cup brown sugar</td>\n",
       "      <td>¼</td>\n",
       "      <td>cup</td>\n",
       "    </tr>\n",
       "    <tr>\n",
       "      <th>2569</th>\n",
       "      <td>1321</td>\n",
       "      <td>Apple Crumble</td>\n",
       "      <td>60.0</td>\n",
       "      <td>g</td>\n",
       "      <td>coconut</td>\n",
       "      <td>¼ cup coconut</td>\n",
       "      <td>¼</td>\n",
       "      <td>cup</td>\n",
       "    </tr>\n",
       "    <tr>\n",
       "      <th>2570</th>\n",
       "      <td>1321</td>\n",
       "      <td>Apple Crumble</td>\n",
       "      <td>60.0</td>\n",
       "      <td>g</td>\n",
       "      <td>rolled oats</td>\n",
       "      <td>¼ cup rolled oats</td>\n",
       "      <td>¼</td>\n",
       "      <td>cup</td>\n",
       "    </tr>\n",
       "    <tr>\n",
       "      <th>2571</th>\n",
       "      <td>1321</td>\n",
       "      <td>Apple Crumble</td>\n",
       "      <td>45.0</td>\n",
       "      <td>g</td>\n",
       "      <td>margarine</td>\n",
       "      <td>3 tablespoons margarine</td>\n",
       "      <td>3</td>\n",
       "      <td>tablespoons</td>\n",
       "    </tr>\n",
       "  </tbody>\n",
       "</table>\n",
       "<p>1895 rows × 8 columns</p>\n",
       "</div>"
      ],
      "text/plain": [
       "      recipe_id                                        recipe_name quantity  \\\n",
       "0             0  Cassava Porridge with Fish Sauce and Lemon (Bu...     60.0   \n",
       "1             0  Cassava Porridge with Fish Sauce and Lemon (Bu...     20.0   \n",
       "2             0  Cassava Porridge with Fish Sauce and Lemon (Bu...     10.0   \n",
       "3             0  Cassava Porridge with Fish Sauce and Lemon (Bu...      5.0   \n",
       "4             0  Cassava Porridge with Fish Sauce and Lemon (Bu...      100   \n",
       "...         ...                                                ...      ...   \n",
       "2567       1321                                      Apple Crumble     60.0   \n",
       "2568       1321                                      Apple Crumble     60.0   \n",
       "2569       1321                                      Apple Crumble     60.0   \n",
       "2570       1321                                      Apple Crumble     60.0   \n",
       "2571       1321                                      Apple Crumble     45.0   \n",
       "\n",
       "     measurement               ingredient_name  \\\n",
       "0              g                       cassava   \n",
       "1              g          fish meat (milkfish)   \n",
       "2              g                  chicken meat   \n",
       "3              g                   coconut oil   \n",
       "4             cc                 chicken broth   \n",
       "...          ...                           ...   \n",
       "2567           g  wholemeal self-raising flour   \n",
       "2568           g                   brown sugar   \n",
       "2569           g                       coconut   \n",
       "2570           g                   rolled oats   \n",
       "2571           g                     margarine   \n",
       "\n",
       "                                  original_text original_quantity  \\\n",
       "0              60 g cassava, boiled and blended                60   \n",
       "1     20 g fish meat (milkfish), finely chopped                20   \n",
       "2                             10 g chicken meat                10   \n",
       "3                               5 g coconut oil                 5   \n",
       "4                          100 cc chicken broth               100   \n",
       "...                                         ...               ...   \n",
       "2567         ¼ cup wholemeal self-raising flour                 ¼   \n",
       "2568                          ¼ cup brown sugar                 ¼   \n",
       "2569                              ¼ cup coconut                 ¼   \n",
       "2570                          ¼ cup rolled oats                 ¼   \n",
       "2571                    3 tablespoons margarine                 3   \n",
       "\n",
       "     original_measurement  \n",
       "0                       g  \n",
       "1                       g  \n",
       "2                       g  \n",
       "3                       g  \n",
       "4                      cc  \n",
       "...                   ...  \n",
       "2567                  cup  \n",
       "2568                  cup  \n",
       "2569                  cup  \n",
       "2570                  cup  \n",
       "2571          tablespoons  \n",
       "\n",
       "[1895 rows x 8 columns]"
      ]
     },
     "execution_count": 15,
     "metadata": {},
     "output_type": "execute_result"
    }
   ],
   "source": [
    "ingredient_breakdown_df[complete_data_mask]"
   ]
  },
  {
   "cell_type": "code",
   "execution_count": 16,
   "id": "a2ba44b3",
   "metadata": {},
   "outputs": [
    {
     "name": "stdout",
     "output_type": "stream",
     "text": [
      "Total unique ingredients: 873\n",
      "\n",
      "Most frequently used ingredients:\n",
      "ingredient_name\n",
      "water                   68\n",
      "vegetable oil           65\n",
      "onion                   41\n",
      "olive oil               34\n",
      "butter                  29\n",
      "carrot                  23\n",
      "sugar                   20\n",
      "garlic                  19\n",
      "frozen peas             16\n",
      "potatoes                14\n",
      "vegetable oil spread    13\n",
      "flour                   13\n",
      "lemon juice             12\n",
      "milk                    12\n",
      "potato                  12\n",
      "Name: count, dtype: int64\n",
      "\n",
      "Created dataframe with 873 unique ingredients\n"
     ]
    }
   ],
   "source": [
    "ingredient_counts = ingredients_complete['ingredient_name'].value_counts()\n",
    "print(f\"Total unique ingredients: {len(ingredient_counts)}\")\n",
    "print(\"\\nMost frequently used ingredients:\")\n",
    "print(ingredient_counts.head(15))\n",
    "\n",
    "# Create a dataframe with ingredient frequencies\n",
    "unique_ingredients_with_counts = ingredient_counts.reset_index()\n",
    "unique_ingredients_with_counts.columns = ['ingredient_name', 'frequency']\n",
    "print(f\"\\nCreated dataframe with {len(unique_ingredients_with_counts)} unique ingredients\")\n",
    "\n"
   ]
  },
  {
   "cell_type": "code",
   "execution_count": 17,
   "id": "96c3448d",
   "metadata": {},
   "outputs": [
    {
     "data": {
      "text/html": [
       "<div>\n",
       "<style scoped>\n",
       "    .dataframe tbody tr th:only-of-type {\n",
       "        vertical-align: middle;\n",
       "    }\n",
       "\n",
       "    .dataframe tbody tr th {\n",
       "        vertical-align: top;\n",
       "    }\n",
       "\n",
       "    .dataframe thead th {\n",
       "        text-align: right;\n",
       "    }\n",
       "</style>\n",
       "<table border=\"1\" class=\"dataframe\">\n",
       "  <thead>\n",
       "    <tr style=\"text-align: right;\">\n",
       "      <th></th>\n",
       "      <th>ingredient_name</th>\n",
       "      <th>frequency</th>\n",
       "    </tr>\n",
       "  </thead>\n",
       "  <tbody>\n",
       "    <tr>\n",
       "      <th>0</th>\n",
       "      <td>water</td>\n",
       "      <td>68</td>\n",
       "    </tr>\n",
       "    <tr>\n",
       "      <th>1</th>\n",
       "      <td>vegetable oil</td>\n",
       "      <td>65</td>\n",
       "    </tr>\n",
       "    <tr>\n",
       "      <th>2</th>\n",
       "      <td>onion</td>\n",
       "      <td>41</td>\n",
       "    </tr>\n",
       "    <tr>\n",
       "      <th>3</th>\n",
       "      <td>olive oil</td>\n",
       "      <td>34</td>\n",
       "    </tr>\n",
       "    <tr>\n",
       "      <th>4</th>\n",
       "      <td>butter</td>\n",
       "      <td>29</td>\n",
       "    </tr>\n",
       "    <tr>\n",
       "      <th>...</th>\n",
       "      <td>...</td>\n",
       "      <td>...</td>\n",
       "    </tr>\n",
       "    <tr>\n",
       "      <th>868</th>\n",
       "      <td>Natto</td>\n",
       "      <td>1</td>\n",
       "    </tr>\n",
       "    <tr>\n",
       "      <th>869</th>\n",
       "      <td>Japanese rice *steamed</td>\n",
       "      <td>1</td>\n",
       "    </tr>\n",
       "    <tr>\n",
       "      <th>870</th>\n",
       "      <td>dashi (baby-safe</td>\n",
       "      <td>1</td>\n",
       "    </tr>\n",
       "    <tr>\n",
       "      <th>871</th>\n",
       "      <td>udon (preferably thin</td>\n",
       "      <td>1</td>\n",
       "    </tr>\n",
       "    <tr>\n",
       "      <th>872</th>\n",
       "      <td>rolled oats</td>\n",
       "      <td>1</td>\n",
       "    </tr>\n",
       "  </tbody>\n",
       "</table>\n",
       "<p>873 rows × 2 columns</p>\n",
       "</div>"
      ],
      "text/plain": [
       "            ingredient_name  frequency\n",
       "0                     water         68\n",
       "1             vegetable oil         65\n",
       "2                     onion         41\n",
       "3                 olive oil         34\n",
       "4                    butter         29\n",
       "..                      ...        ...\n",
       "868                   Natto          1\n",
       "869  Japanese rice *steamed          1\n",
       "870        dashi (baby-safe          1\n",
       "871   udon (preferably thin          1\n",
       "872             rolled oats          1\n",
       "\n",
       "[873 rows x 2 columns]"
      ]
     },
     "execution_count": 17,
     "metadata": {},
     "output_type": "execute_result"
    }
   ],
   "source": [
    "\n",
    "unique_ingredients_with_counts\n"
   ]
  },
  {
   "cell_type": "code",
   "execution_count": 21,
   "id": "760972db",
   "metadata": {},
   "outputs": [],
   "source": [
    "import requests\n",
    "from tqdm import tqdm\n",
    "import requests\n",
    "import time\n",
    "\n",
    "api_url = \"https://api.nal.usda.gov/fdc/v1/foods/search\"\n",
    "api_key = \"KulngHmZ1nJeaPPBrZ8pH3kyJI2Gy1r9Xm121YO9\"\n",
    "\n",
    "def get_nutrition_data(query: str, api_key: str):\n",
    "    \"\"\"\n",
    "    Fetch nutrition data for a specific ingredient from USDA API with prioritized search strategy.\n",
    "    \n",
    "    Search Strategy:\n",
    "    1. Foundation exact match\n",
    "    2. Foundation first result\n",
    "    3. Survey (FNDDS) exact match  \n",
    "    4. Survey (FNDDS) first result\n",
    "    \n",
    "    Returns:\n",
    "    dict: Nutrition information including energy, macronutrients, top 3 micronutrients by value,\n",
    "          and search method used\n",
    "    \"\"\"\n",
    "    \n",
    "    base_url = \"https://api.nal.usda.gov/fdc/v1/foods/search\"\n",
    "    \n",
    "    def search_with_params(data_type):\n",
    "        \"\"\"Helper function to search with specific parameters\"\"\"\n",
    "        params = {\n",
    "            'query': query,\n",
    "            'api_key': api_key,\n",
    "            'dataType': [data_type],\n",
    "            'pageSize': 25,  # Get more results for better matching\n",
    "            'pageNumber': 1,\n",
    "            'sortBy': 'dataType.keyword',\n",
    "            'sortOrder': 'asc'\n",
    "        }\n",
    "        \n",
    "        try:\n",
    "            response = requests.get(base_url, params=params, timeout=10)\n",
    "            if response.status_code == 200:\n",
    "                return response.json()\n",
    "            else:\n",
    "                print(f\"❌ API request failed: {response.status_code}\")\n",
    "                return None\n",
    "        except Exception as e:\n",
    "            print(f\"❌ Error in API request: {e}\")\n",
    "            return None\n",
    "    \n",
    "    def find_exact_match(foods, query_lower):\n",
    "        \"\"\"Find exact match by comparing full ingredient name with full food description (case-insensitive)\"\"\"\n",
    "        for food in foods:\n",
    "            description_lower = food['description'].lower()\n",
    "            # Check if the query exactly matches the description or if query is a whole word in description\n",
    "            # Use word boundaries to ensure exact matching\n",
    "            import re\n",
    "            \n",
    "            # Create pattern for exact word matching\n",
    "            pattern = r'\\b' + re.escape(query_lower) + r'\\b'\n",
    "            \n",
    "            # Check if query is the entire description OR appears as complete word(s)\n",
    "            if (query_lower == description_lower or \n",
    "                re.search(pattern, description_lower)):\n",
    "                return food\n",
    "        return None\n",
    "    \n",
    "    def extract_nutrition_info(food, search_method):\n",
    "        \"\"\"Extract nutrition information from food item\"\"\"\n",
    "        nutrients = food.get('foodNutrients', [])\n",
    "        \n",
    "        result = {\n",
    "            'ingredient_name': query,\n",
    "            'found_description': food['description'],\n",
    "            'search_method': search_method,\n",
    "            'energy_kcal': None,\n",
    "            'carbohydrate_g': None,\n",
    "            'protein_g': None,\n",
    "            'fat_g': None,\n",
    "            'micronutrients': [],\n",
    "            'status': 'success'\n",
    "        }\n",
    "        \n",
    "        # Energy (Atwater General Factors)\n",
    "        energy = next((item for item in nutrients if item['nutrientName'] == 'Energy (Atwater General Factors)'), None)\n",
    "        if energy:\n",
    "            result['energy_kcal'] = energy['value']\n",
    "        \n",
    "        # Carbohydrates\n",
    "        carbohydrate = next((item for item in nutrients if item['nutrientName'] == 'Carbohydrate, by difference'), None)\n",
    "        if carbohydrate:\n",
    "            result['carbohydrate_g'] = carbohydrate['value']\n",
    "        \n",
    "        # Fat\n",
    "        fat = next((item for item in nutrients if item['nutrientName'] == 'Total lipid (fat)'), None)\n",
    "        if fat:\n",
    "            result['fat_g'] = fat['value']\n",
    "        \n",
    "        # Protein\n",
    "        protein = next((item for item in nutrients if item['nutrientName'] == 'Protein'), None)\n",
    "        if protein:\n",
    "            result['protein_g'] = protein['value']\n",
    "        \n",
    "        # Exclude certain nutrients from micronutrients\n",
    "        exclude_nutrients = [\n",
    "            \"Energy\", \"Water\", \"Energy (Atwater General Factors)\", \"Energy (Atwater Specific Factors)\",\n",
    "            \"Nitrogen\", \"Protein\", \"Total lipid (fat)\", \"Ash\", \"Carbohydrates\",\n",
    "            \"Carbohydrate, by difference\", \"Total dietary fiber (AOAC 2011.25)\",\n",
    "            \"High Molecular Weight Dietary Fiber (HMWDF)\", \"Low Molecular Weight Dietary Fiber (LMWDF)\",\n",
    "            \"Sugars, Total\", \"Total Sugars\", \"Sucrose\", \"Glucose\", \"Fructose\", \"Lactose\", \"Maltose\"\n",
    "        ]\n",
    "        \n",
    "        # Get micronutrients (vitamins and minerals) - top 3 by value\n",
    "        filtered_micronutrients = [\n",
    "            item for item in nutrients \n",
    "            if item['nutrientName'] not in exclude_nutrients and item['value'] > 0\n",
    "        ]\n",
    "        \n",
    "        # Sort by value in descending order and take top 3\n",
    "        sorted_micronutrients = sorted(filtered_micronutrients, key=lambda x: x['value'], reverse=True)\n",
    "        top_3_micronutrients = sorted_micronutrients[:3]\n",
    "        \n",
    "        # Extract only the nutrient names\n",
    "        micronutrients = [item['nutrientName'] for item in top_3_micronutrients]\n",
    "        result['micronutrients'] = micronutrients\n",
    "        \n",
    "        return result\n",
    "\n",
    "    # Make the API call with prioritized search strategy\n",
    "    try:\n",
    "        query_lower = query.lower()\n",
    "        \n",
    "        # Step 1: Search Foundation for exact match\n",
    "        print(f\"🔍 Step 1: Searching Foundation for exact match: '{query}'\")\n",
    "        data = search_with_params(\"Foundation\")\n",
    "        if data and 'foods' in data and data['foods']:\n",
    "            exact_match = find_exact_match(data['foods'], query_lower)\n",
    "            if exact_match:\n",
    "                print(f\"✅ Found exact match in Foundation: {exact_match['description']}\")\n",
    "                return extract_nutrition_info(exact_match, \"Foundation_exact\")\n",
    "        \n",
    "        # Step 2: Search Foundation and take first result\n",
    "        print(f\"🔍 Step 2: Taking first Foundation result: '{query}'\")\n",
    "        if data and 'foods' in data and data['foods']:\n",
    "            first_result = data['foods'][0]\n",
    "            print(f\"📄 Using first Foundation result: {first_result['description']}\")\n",
    "            return extract_nutrition_info(first_result, \"Foundation_first\")\n",
    "        \n",
    "        # Step 3: Search Survey (FNDDS) for exact match\n",
    "        print(f\"🔍 Step 3: Searching Survey (FNDDS) for exact match: '{query}'\")\n",
    "        data = search_with_params(\"Survey (FNDDS)\")\n",
    "        if data and 'foods' in data and data['foods']:\n",
    "            exact_match = find_exact_match(data['foods'], query_lower)\n",
    "            if exact_match:\n",
    "                print(f\"✅ Found exact match in Survey: {exact_match['description']}\")\n",
    "                return extract_nutrition_info(exact_match, \"Survey_exact\")\n",
    "            \n",
    "            # Step 4: Take first Survey result as fallback\n",
    "            print(f\"🔍 Step 4: Taking first Survey (FNDDS) result: '{query}'\")\n",
    "            first_result = data['foods'][0]\n",
    "            print(f\"📄 Using first Survey result: {first_result['description']}\")\n",
    "            return extract_nutrition_info(first_result, \"Survey_first\")\n",
    "        \n",
    "        # If no results found at all\n",
    "        print(f\"❌ No nutrition data found for '{query}'\")\n",
    "        return {\n",
    "            'ingredient_name': query,\n",
    "            'found_description': None,\n",
    "            'search_method': 'not_found',\n",
    "            'energy_kcal': None,\n",
    "            'carbohydrate_g': None,\n",
    "            'protein_g': None,\n",
    "            'fat_g': None,\n",
    "            'micronutrients': [],\n",
    "            'status': 'failed',\n",
    "            'error': 'No results found in any database'\n",
    "        }\n",
    "        \n",
    "    except Exception as e:\n",
    "        print(f\"❌ Error processing '{query}': {e}\")\n",
    "        return {\n",
    "            'ingredient_name': query,\n",
    "            'found_description': None,\n",
    "            'search_method': 'error',\n",
    "            'energy_kcal': None,\n",
    "            'carbohydrate_g': None,\n",
    "            'protein_g': None,\n",
    "            'fat_g': None,\n",
    "            'micronutrients': [],\n",
    "            'status': 'failed',\n",
    "            'error': str(e)\n",
    "        }\n",
    "\n"
   ]
  },
  {
   "cell_type": "code",
   "execution_count": 30,
   "id": "2eefd92d",
   "metadata": {},
   "outputs": [],
   "source": [
    "import time\n",
    "from tqdm import tqdm\n",
    "\n",
    "def process_all_ingredients(unique_ingredients_df, api_key, delay=0.1):\n",
    "    \"\"\"\n",
    "    Process all unique ingredients to get their nutrition data.\n",
    "    \n",
    "    Args:\n",
    "        unique_ingredients_df: DataFrame with 'ingredient_name' column\n",
    "        api_key: USDA API key\n",
    "        delay: Delay between API calls in seconds (to respect rate limits)\n",
    "    \n",
    "    Returns:\n",
    "        tuple: (nutrition_df, failed_ingredients_list)\n",
    "    \"\"\"\n",
    "    nutrition_results = []\n",
    "    failed_ingredients = []\n",
    "    \n",
    "    print(f\"Processing {len(unique_ingredients_df)} unique ingredients...\")\n",
    "    \n",
    "    # Process each ingredient\n",
    "    for idx, row in tqdm(unique_ingredients_df.iterrows(), total=len(unique_ingredients_df)):\n",
    "        ingredient_name = row['ingredient_name']\n",
    "        # frequency = row['frequency']\n",
    "        \n",
    "        try:\n",
    "            # Get nutrition data\n",
    "            nutrition_data = get_nutrition_data(ingredient_name, api_key)\n",
    "            # nutrition_data['frequency'] = frequency\n",
    "            \n",
    "            if nutrition_data['status'] == 'success':\n",
    "                nutrition_results.append(nutrition_data)\n",
    "                print(f\"✅ {ingredient_name}: Found - {nutrition_data['found_description']}\")\n",
    "            else:\n",
    "                failed_ingredients.append({\n",
    "                    'ingredient_name': ingredient_name,\n",
    "                    # 'frequency': frequency,\n",
    "                    'reason': nutrition_data['status']\n",
    "                })\n",
    "                print(f\"❌ {ingredient_name}: {nutrition_data['status']}\")\n",
    "            \n",
    "            # Add delay to respect API rate limits\n",
    "            time.sleep(delay)\n",
    "            \n",
    "        except Exception as e:\n",
    "            failed_ingredients.append({\n",
    "                'ingredient_name': ingredient_name,\n",
    "                # 'frequency': frequency,\n",
    "                'reason': f'exception: {str(e)}'\n",
    "            })\n",
    "            print(f\"❌ {ingredient_name}: Exception - {str(e)}\")\n",
    "    \n",
    "    # Create DataFrames\n",
    "    nutrition_df = pd.DataFrame(nutrition_results)\n",
    "    failed_df = pd.DataFrame(failed_ingredients)\n",
    "    \n",
    "    return nutrition_df, failed_df"
   ]
  },
  {
   "cell_type": "code",
   "execution_count": 25,
   "id": "47eeebaa",
   "metadata": {},
   "outputs": [
    {
     "name": "stdout",
     "output_type": "stream",
     "text": [
      "Starting nutrition data collection for all unique ingredients...\n",
      "Total ingredients to process: 873\n"
     ]
    }
   ],
   "source": [
    "# Process all unique ingredients (excluding water)\n",
    "print(\"Starting nutrition data collection for all unique ingredients...\")\n",
    "print(f\"Total ingredients to process: {len(unique_ingredients_with_counts)}\")\n",
    "\n",
    "# Exclude 'water' from processing (since water has no significant nutrition and causes matching issues)\n",
    "ingredients_to_exclude = ['water', 'plain water', 'boiling water', 'cold water', 'warm water']\n",
    "filtered_ingredients = unique_ingredients_with_counts[\n",
    "    ~unique_ingredients_with_counts['ingredient_name'].str.lower().isin([x.lower() for x in ingredients_to_exclude])\n",
    "].copy()\n"
   ]
  },
  {
   "cell_type": "code",
   "execution_count": null,
   "id": "49ee2a84",
   "metadata": {},
   "outputs": [],
   "source": [
    "\n",
    "print(f\"Processing ALL {len(filtered_ingredients)} ingredients (excluding water)...\")\n",
    "all_nutrition_df, all_failed_df = process_all_ingredients(filtered_ingredients, api_key, delay=0.2)\n",
    "\n",
    "print(f\"\\n=== ALL INGREDIENTS PROCESSING COMPLETE ===\")\n",
    "print(f\"Successfully processed: {len(all_nutrition_df)} ingredients\")\n",
    "print(f\"Failed to process: {len(all_failed_df)} ingredients\")\n",
    "print(f\"Success rate: {len(all_nutrition_df) / len(filtered_ingredients) * 100:.1f}%\")\n",
    "\n",
    "print(\"Note: Processing all ingredients may take a long time due to API rate limits.\")"
   ]
  },
  {
   "cell_type": "code",
   "execution_count": null,
   "id": "4584b250",
   "metadata": {},
   "outputs": [],
   "source": [
    "# Display the nutrition DataFrame in table format\n",
    "if len(nutrition_df) > 0:\n",
    "    print(\"=== NUTRITION DATA SUMMARY ===\")\n",
    "    print(f\"Total ingredients with nutrition data: {len(nutrition_df)}\")\n",
    "    \n",
    "    # Create a clean nutrition DataFrame with the requested columns\n",
    "    final_nutrition_df = nutrition_df[['ingredient_name', 'found_description', 'search_method',\n",
    "                                     'energy_kcal', 'carbohydrate_g', 'protein_g', 'fat_g', \n",
    "                                     'micronutrients']].copy()\n",
    "    \n",
    "    # Create a formatted table for display\n",
    "    print(\"\\n\" + \"=\"*140)\n",
    "    print(\"NUTRITION DATA TABLE - WITH PRIORITIZED SEARCH STRATEGY\")\n",
    "    print(\"=\"*140)\n",
    "    \n",
    "    # Create display dataframe with formatted micronutrients\n",
    "    display_df = final_nutrition_df.copy()\n",
    "    display_df['micronutrients_display'] = display_df['micronutrients'].apply(\n",
    "        lambda x: ', '.join(x[:3]) if x and len(x) > 0 else 'No data'\n",
    "    )\n",
    "    \n",
    "    # Format the table headers\n",
    "    headers = ['Ingredient', 'Found As', 'Energy\\n(kcal)', 'Carbs\\n(g)', 'Protein\\n(g)', 'Fat\\n(g)', 'Top 3 Micronutrients']\n",
    "    \n",
    "    # Print header\n",
    "    print(f\"{'Ingredient':<15} {'Found As':<25} {'Search Method':<18} {'Energy':<8} {'Carbs':<8} {'Protein':<8} {'Fat':<8} {'Top 3 Micronutrients':<30}\")\n",
    "    print(f\"{'(Input)':<15} {'(USDA Database)':<25} {'(Strategy)':<18} {'(kcal)':<8} {'(g)':<8} {'(g)':<8} {'(g)':<8}\")\n",
    "    print(\"-\" * 140)\n",
    "    \n",
    "    # Print data rows\n",
    "    for idx, row in display_df.iterrows():\n",
    "        ingredient = str(row['ingredient_name'])[:14]\n",
    "        found_as = str(row['found_description'])[:24] if row['found_description'] else 'N/A'\n",
    "        search_method = str(row['search_method'])[:17] if row['search_method'] else 'N/A'\n",
    "        energy = f\"{row['energy_kcal']:.1f}\" if pd.notna(row['energy_kcal']) else 'N/A'\n",
    "        carbs = f\"{row['carbohydrate_g']:.1f}\" if pd.notna(row['carbohydrate_g']) else 'N/A'\n",
    "        protein = f\"{row['protein_g']:.1f}\" if pd.notna(row['protein_g']) else 'N/A'\n",
    "        fat = f\"{row['fat_g']:.1f}\" if pd.notna(row['fat_g']) else 'N/A'\n",
    "        micros = str(row['micronutrients_display'])[:29]\n",
    "        \n",
    "        print(f\"{ingredient:<15} {found_as:<25} {search_method:<18} {energy:<8} {carbs:<8} {protein:<8} {fat:<8} {micros:<30}\")\n",
    "    \n",
    "    print(\"-\" * 140)\n",
    "    \n",
    "    # Summary statistics table\n",
    "    print(f\"\\n{'COLUMN COMPLETENESS SUMMARY':<40}\")\n",
    "    print(\"-\" * 50)\n",
    "    print(f\"{'Column':<20} {'Complete Data':<15} {'Percentage':<15}\")\n",
    "    print(\"-\" * 50)\n",
    "    total_rows = len(final_nutrition_df)\n",
    "    \n",
    "    columns_info = [\n",
    "        ('Energy (kcal)', final_nutrition_df['energy_kcal'].notna().sum()),\n",
    "        ('Carbohydrate (g)', final_nutrition_df['carbohydrate_g'].notna().sum()),\n",
    "        ('Protein (g)', final_nutrition_df['protein_g'].notna().sum()),\n",
    "        ('Fat (g)', final_nutrition_df['fat_g'].notna().sum()),\n",
    "        ('Micronutrients', (final_nutrition_df['micronutrients'].str.len() > 0).sum())\n",
    "    ]\n",
    "    \n",
    "    for col_name, complete_count in columns_info:\n",
    "        percentage = (complete_count / total_rows) * 100\n",
    "        print(f\"{col_name:<20} {complete_count}/{total_rows:<10} {percentage:.1f}%\")\n",
    "    \n",
    "    print(\"-\" * 50)\n",
    "    \n",
    "    # Display the actual DataFrame for further use\n",
    "    print(f\"\\nActual DataFrame (for programming use):\")\n",
    "    display(final_nutrition_df)\n",
    "    \n",
    "else:\n",
    "    print(\"No nutrition data was successfully retrieved.\")"
   ]
  },
  {
   "cell_type": "code",
   "execution_count": null,
   "id": "3674fc48",
   "metadata": {},
   "outputs": [],
   "source": [
    "# Display failed ingredients\n",
    "if len(failed_df) > 0:\n",
    "    print(\"=== FAILED INGREDIENTS ===\")\n",
    "    print(f\"Total ingredients that could not be processed: {len(failed_df)}\")\n",
    "    \n",
    "    # Group by failure reason\n",
    "    failure_reasons = failed_df['reason'].value_counts()\n",
    "    print(f\"\\nFailure reasons:\")\n",
    "    for reason, count in failure_reasons.items():\n",
    "        print(f\"  {reason}: {count} ingredients\")\n",
    "    \n",
    "    print(f\"\\nList of failed ingredients:\")\n",
    "    for idx, row in failed_df.iterrows():\n",
    "        print(f\"  - {row['ingredient_name']}  - Reason: {row['reason']}\")\n",
    "    \n",
    "    # Show the failed ingredients DataFrame\n",
    "    print(f\"\\nFailed ingredients DataFrame:\")\n",
    "    print(failed_df)\n",
    "else:\n",
    "    print(\"🎉 All ingredients were successfully processed!\")"
   ]
  },
  {
   "cell_type": "code",
   "execution_count": null,
   "id": "9db4db80",
   "metadata": {},
   "outputs": [],
   "source": [
    "# Save the results to files\n",
    "if len(nutrition_df) > 0:\n",
    "    # Save nutrition data\n",
    "    nutrition_filename = f\"../ingredient_nutrition_data_{pd.Timestamp.now().strftime('%Y%m%d_%H%M%S')}.xlsx\"\n",
    "    final_nutrition_df.to_excel(nutrition_filename, index=False)\n",
    "    print(f\"✅ Nutrition data saved to: {nutrition_filename}\")\n",
    "\n",
    "if len(failed_df) > 0:\n",
    "    # Save failed ingredients\n",
    "    failed_filename = f\"../failed_ingredients_{pd.Timestamp.now().strftime('%Y%m%d_%H%M%S')}.xlsx\"\n",
    "    failed_df.to_excel(failed_filename, index=False)\n",
    "    print(f\"⚠️ Failed ingredients saved to: {failed_filename}\")\n",
    "\n",
    "print(f\"\\n=== SUMMARY ===\")\n",
    "print(f\"✅ Successfully processed: {len(nutrition_df)} ingredients\")\n",
    "print(f\"❌ Failed to process: {len(failed_df)} ingredients\")\n",
    "print(f\"📊 Success rate: {len(nutrition_df) / (len(nutrition_df) + len(failed_df)) * 100:.1f}%\")\n",
    "\n",
    "# Show the final nutrition DataFrame structure\n",
    "if len(nutrition_df) > 0:\n",
    "    print(f\"\\n=== FINAL NUTRITION DATAFRAME ===\")\n",
    "    print(f\"Shape: {final_nutrition_df.shape}\")\n",
    "    print(f\"Columns: {list(final_nutrition_df.columns)}\")\n",
    "    final_nutrition_df"
   ]
  },
  {
   "cell_type": "markdown",
   "id": "1830f5df",
   "metadata": {},
   "source": []
  },
  {
   "cell_type": "code",
   "execution_count": null,
   "id": "d2595a5f",
   "metadata": {},
   "outputs": [
    {
     "name": "stdout",
     "output_type": "stream",
     "text": [
      "🚀 STARTING BATCH PROCESSING FOR ALL INGREDIENTS\n",
      "Total ingredients to process: 870 (water excluded)\n",
      "\n",
      "📊 BATCH PROCESSING SETUP:\n",
      "   Total ingredients: 870\n",
      "   Batch size: 150\n",
      "   Total batches: 6\n",
      "   Starting from batch: 1\n",
      "============================================================\n",
      "\n",
      "🔄 PROCESSING BATCH 1/6\n",
      "----------------------------------------\n",
      "Batch 1: Processing ingredients 1 to 150 (150 ingredients)\n",
      "Processing 150 unique ingredients...\n"
     ]
    },
    {
     "name": "stderr",
     "output_type": "stream",
     "text": [
      "  0%|          | 0/150 [00:00<?, ?it/s]"
     ]
    },
    {
     "name": "stdout",
     "output_type": "stream",
     "text": [
      "🔍 Step 1: Searching Foundation for exact match: 'vegetable oil'\n",
      "🔍 Step 2: Taking first Foundation result: 'vegetable oil'\n",
      "📄 Using first Foundation result: Oil, canola\n",
      "✅ vegetable oil: Found - Oil, canola\n",
      "🔍 Step 2: Taking first Foundation result: 'vegetable oil'\n",
      "📄 Using first Foundation result: Oil, canola\n",
      "✅ vegetable oil: Found - Oil, canola\n"
     ]
    },
    {
     "name": "stderr",
     "output_type": "stream",
     "text": [
      "  1%|          | 1/150 [00:01<04:56,  1.99s/it]"
     ]
    },
    {
     "name": "stdout",
     "output_type": "stream",
     "text": [
      "🔍 Step 1: Searching Foundation for exact match: 'onion'\n",
      "✅ Found exact match in Foundation: Green onion, (scallion), bulb and greens, root removed, raw\n",
      "✅ onion: Found - Green onion, (scallion), bulb and greens, root removed, raw\n",
      "✅ Found exact match in Foundation: Green onion, (scallion), bulb and greens, root removed, raw\n",
      "✅ onion: Found - Green onion, (scallion), bulb and greens, root removed, raw\n"
     ]
    },
    {
     "name": "stderr",
     "output_type": "stream",
     "text": [
      "  1%|▏         | 2/150 [00:03<04:24,  1.79s/it]"
     ]
    },
    {
     "name": "stdout",
     "output_type": "stream",
     "text": [
      "🔍 Step 1: Searching Foundation for exact match: 'olive oil'\n",
      "🔍 Step 2: Taking first Foundation result: 'olive oil'\n",
      "📄 Using first Foundation result: Oil, olive, extra light\n",
      "✅ olive oil: Found - Oil, olive, extra light\n",
      "🔍 Step 2: Taking first Foundation result: 'olive oil'\n",
      "📄 Using first Foundation result: Oil, olive, extra light\n",
      "✅ olive oil: Found - Oil, olive, extra light\n"
     ]
    },
    {
     "name": "stderr",
     "output_type": "stream",
     "text": [
      "  2%|▏         | 3/150 [00:05<04:17,  1.75s/it]"
     ]
    },
    {
     "name": "stdout",
     "output_type": "stream",
     "text": [
      "🔍 Step 1: Searching Foundation for exact match: 'butter'\n",
      "✅ Found exact match in Foundation: Almond butter, creamy\n",
      "✅ butter: Found - Almond butter, creamy\n",
      "✅ Found exact match in Foundation: Almond butter, creamy\n",
      "✅ butter: Found - Almond butter, creamy\n"
     ]
    },
    {
     "name": "stderr",
     "output_type": "stream",
     "text": [
      "  3%|▎         | 4/150 [00:07<04:25,  1.82s/it]"
     ]
    },
    {
     "name": "stdout",
     "output_type": "stream",
     "text": [
      "🔍 Step 1: Searching Foundation for exact match: 'carrot'\n",
      "🔍 Step 2: Taking first Foundation result: 'carrot'\n",
      "📄 Using first Foundation result: Carrots, baby, raw\n",
      "✅ carrot: Found - Carrots, baby, raw\n",
      "🔍 Step 2: Taking first Foundation result: 'carrot'\n",
      "📄 Using first Foundation result: Carrots, baby, raw\n",
      "✅ carrot: Found - Carrots, baby, raw\n"
     ]
    },
    {
     "name": "stderr",
     "output_type": "stream",
     "text": [
      "  3%|▎         | 5/150 [00:08<03:58,  1.65s/it]"
     ]
    },
    {
     "name": "stdout",
     "output_type": "stream",
     "text": [
      "🔍 Step 1: Searching Foundation for exact match: 'sugar'\n",
      "✅ Found exact match in Foundation: Peas, green, sweet, canned, sodium added, sugar added, drained and rinsed\n",
      "✅ sugar: Found - Peas, green, sweet, canned, sodium added, sugar added, drained and rinsed\n",
      "✅ Found exact match in Foundation: Peas, green, sweet, canned, sodium added, sugar added, drained and rinsed\n",
      "✅ sugar: Found - Peas, green, sweet, canned, sodium added, sugar added, drained and rinsed\n"
     ]
    },
    {
     "name": "stderr",
     "output_type": "stream",
     "text": [
      "  4%|▍         | 6/150 [00:09<03:39,  1.52s/it]"
     ]
    },
    {
     "name": "stdout",
     "output_type": "stream",
     "text": [
      "🔍 Step 1: Searching Foundation for exact match: 'garlic'\n",
      "✅ Found exact match in Foundation: Garlic, raw\n",
      "✅ garlic: Found - Garlic, raw\n",
      "✅ Found exact match in Foundation: Garlic, raw\n",
      "✅ garlic: Found - Garlic, raw\n"
     ]
    },
    {
     "name": "stderr",
     "output_type": "stream",
     "text": [
      "  5%|▍         | 7/150 [00:11<03:19,  1.40s/it]"
     ]
    },
    {
     "name": "stdout",
     "output_type": "stream",
     "text": [
      "🔍 Step 1: Searching Foundation for exact match: 'frozen peas'\n"
     ]
    },
    {
     "name": "stderr",
     "output_type": "stream",
     "text": [
      "  5%|▌         | 8/150 [00:12<03:19,  1.41s/it]"
     ]
    },
    {
     "name": "stdout",
     "output_type": "stream",
     "text": [
      "🔍 Step 2: Taking first Foundation result: 'frozen peas'\n",
      "📄 Using first Foundation result: Blackeye pea, dry\n",
      "✅ frozen peas: Found - Blackeye pea, dry\n",
      "🔍 Step 1: Searching Foundation for exact match: 'potatoes'\n",
      "🔍 Step 1: Searching Foundation for exact match: 'potatoes'\n",
      "✅ Found exact match in Foundation: Potatoes, gold, without skin, raw\n",
      "✅ potatoes: Found - Potatoes, gold, without skin, raw\n",
      "✅ Found exact match in Foundation: Potatoes, gold, without skin, raw\n",
      "✅ potatoes: Found - Potatoes, gold, without skin, raw\n"
     ]
    },
    {
     "name": "stderr",
     "output_type": "stream",
     "text": [
      "  6%|▌         | 9/150 [00:13<03:19,  1.41s/it]"
     ]
    },
    {
     "name": "stdout",
     "output_type": "stream",
     "text": [
      "🔍 Step 1: Searching Foundation for exact match: 'vegetable oil spread'\n",
      "🔍 Step 2: Taking first Foundation result: 'vegetable oil spread'\n",
      "📄 Using first Foundation result: Oil, canola\n",
      "✅ vegetable oil spread: Found - Oil, canola\n",
      "🔍 Step 2: Taking first Foundation result: 'vegetable oil spread'\n",
      "📄 Using first Foundation result: Oil, canola\n",
      "✅ vegetable oil spread: Found - Oil, canola\n"
     ]
    },
    {
     "name": "stderr",
     "output_type": "stream",
     "text": [
      "  7%|▋         | 10/150 [00:15<03:46,  1.62s/it]"
     ]
    },
    {
     "name": "stdout",
     "output_type": "stream",
     "text": [
      "🔍 Step 1: Searching Foundation for exact match: 'flour'\n",
      "✅ Found exact match in Foundation: Flour, 00\n",
      "✅ flour: Found - Flour, 00\n",
      "✅ Found exact match in Foundation: Flour, 00\n",
      "✅ flour: Found - Flour, 00\n"
     ]
    },
    {
     "name": "stderr",
     "output_type": "stream",
     "text": [
      "  7%|▋         | 11/150 [00:17<03:40,  1.59s/it]"
     ]
    },
    {
     "name": "stdout",
     "output_type": "stream",
     "text": [
      "🔍 Step 1: Searching Foundation for exact match: 'lemon juice'\n"
     ]
    },
    {
     "name": "stderr",
     "output_type": "stream",
     "text": [
      "  8%|▊         | 12/150 [00:19<03:36,  1.57s/it]"
     ]
    },
    {
     "name": "stdout",
     "output_type": "stream",
     "text": [
      "🔍 Step 2: Taking first Foundation result: 'lemon juice'\n",
      "📄 Using first Foundation result: Juice, prune, shelf-stable\n",
      "✅ lemon juice: Found - Juice, prune, shelf-stable\n",
      "🔍 Step 1: Searching Foundation for exact match: 'milk'\n",
      "🔍 Step 1: Searching Foundation for exact match: 'milk'\n",
      "✅ Found exact match in Foundation: Cheese, ricotta, whole milk\n",
      "✅ milk: Found - Cheese, ricotta, whole milk\n",
      "✅ Found exact match in Foundation: Cheese, ricotta, whole milk\n",
      "✅ milk: Found - Cheese, ricotta, whole milk\n"
     ]
    },
    {
     "name": "stderr",
     "output_type": "stream",
     "text": [
      "  9%|▊         | 13/150 [00:20<03:43,  1.63s/it]"
     ]
    },
    {
     "name": "stdout",
     "output_type": "stream",
     "text": [
      "🔍 Step 1: Searching Foundation for exact match: 'potato'\n",
      "✅ Found exact match in Foundation: Flour, potato\n",
      "✅ potato: Found - Flour, potato\n",
      "✅ Found exact match in Foundation: Flour, potato\n",
      "✅ potato: Found - Flour, potato\n"
     ]
    },
    {
     "name": "stderr",
     "output_type": "stream",
     "text": [
      "  9%|▉         | 14/150 [00:22<03:34,  1.58s/it]"
     ]
    },
    {
     "name": "stdout",
     "output_type": "stream",
     "text": [
      "🔍 Step 1: Searching Foundation for exact match: 'sweet potato'\n",
      "🔍 Step 2: Taking first Foundation result: 'sweet potato'\n",
      "📄 Using first Foundation result: Sweet potatoes, orange flesh, without skin, raw\n",
      "✅ sweet potato: Found - Sweet potatoes, orange flesh, without skin, raw\n",
      "🔍 Step 2: Taking first Foundation result: 'sweet potato'\n",
      "📄 Using first Foundation result: Sweet potatoes, orange flesh, without skin, raw\n",
      "✅ sweet potato: Found - Sweet potatoes, orange flesh, without skin, raw\n"
     ]
    },
    {
     "name": "stderr",
     "output_type": "stream",
     "text": [
      " 10%|█         | 15/150 [00:23<03:27,  1.53s/it]"
     ]
    },
    {
     "name": "stdout",
     "output_type": "stream",
     "text": [
      "🔍 Step 1: Searching Foundation for exact match: 'egg'\n"
     ]
    },
    {
     "name": "stderr",
     "output_type": "stream",
     "text": [
      " 11%|█         | 16/150 [00:25<03:39,  1.64s/it]"
     ]
    },
    {
     "name": "stdout",
     "output_type": "stream",
     "text": [
      "✅ Found exact match in Foundation: Eggs, Grade A, Large, egg white\n",
      "✅ egg: Found - Eggs, Grade A, Large, egg white\n",
      "🔍 Step 1: Searching Foundation for exact match: 'white rice'\n",
      "🔍 Step 1: Searching Foundation for exact match: 'white rice'\n",
      "🔍 Step 2: Taking first Foundation result: 'white rice'\n",
      "📄 Using first Foundation result: Flour, rice, white, unenriched\n",
      "✅ white rice: Found - Flour, rice, white, unenriched\n",
      "🔍 Step 2: Taking first Foundation result: 'white rice'\n",
      "📄 Using first Foundation result: Flour, rice, white, unenriched\n",
      "✅ white rice: Found - Flour, rice, white, unenriched\n"
     ]
    },
    {
     "name": "stderr",
     "output_type": "stream",
     "text": [
      " 11%|█▏        | 17/150 [00:27<03:51,  1.74s/it]"
     ]
    },
    {
     "name": "stdout",
     "output_type": "stream",
     "text": [
      "🔍 Step 1: Searching Foundation for exact match: 'Cooking oil'\n",
      "🔍 Step 2: Taking first Foundation result: 'Cooking oil'\n",
      "📄 Using first Foundation result: Oil, canola\n",
      "✅ Cooking oil: Found - Oil, canola\n",
      "🔍 Step 2: Taking first Foundation result: 'Cooking oil'\n",
      "📄 Using first Foundation result: Oil, canola\n",
      "✅ Cooking oil: Found - Oil, canola\n"
     ]
    },
    {
     "name": "stderr",
     "output_type": "stream",
     "text": [
      " 12%|█▏        | 18/150 [00:29<03:55,  1.78s/it]"
     ]
    },
    {
     "name": "stdout",
     "output_type": "stream",
     "text": [
      "🔍 Step 1: Searching Foundation for exact match: 'crème fraîche'\n",
      "🔍 Step 2: Taking first Foundation result: 'crème fraîche'\n",
      "🔍 Step 3: Searching Survey (FNDDS) for exact match: 'crème fraîche'\n",
      "🔍 Step 2: Taking first Foundation result: 'crème fraîche'\n",
      "🔍 Step 3: Searching Survey (FNDDS) for exact match: 'crème fraîche'\n",
      "❌ No nutrition data found for 'crème fraîche'\n",
      "❌ crème fraîche: failed\n",
      "❌ No nutrition data found for 'crème fraîche'\n",
      "❌ crème fraîche: failed\n"
     ]
    },
    {
     "name": "stderr",
     "output_type": "stream",
     "text": [
      " 13%|█▎        | 19/150 [00:31<04:21,  2.00s/it]"
     ]
    },
    {
     "name": "stdout",
     "output_type": "stream",
     "text": [
      "🔍 Step 1: Searching Foundation for exact match: 'tomato'\n"
     ]
    },
    {
     "name": "stderr",
     "output_type": "stream",
     "text": [
      " 13%|█▎        | 20/150 [00:33<04:01,  1.85s/it]"
     ]
    },
    {
     "name": "stdout",
     "output_type": "stream",
     "text": [
      "✅ Found exact match in Foundation: Tomato, roma\n",
      "✅ tomato: Found - Tomato, roma\n",
      "🔍 Step 1: Searching Foundation for exact match: 'red pepper'\n",
      "🔍 Step 1: Searching Foundation for exact match: 'red pepper'\n",
      "🔍 Step 2: Taking first Foundation result: 'red pepper'\n",
      "📄 Using first Foundation result: Peppers, bell, red, raw\n",
      "✅ red pepper: Found - Peppers, bell, red, raw\n",
      "🔍 Step 2: Taking first Foundation result: 'red pepper'\n",
      "📄 Using first Foundation result: Peppers, bell, red, raw\n",
      "✅ red pepper: Found - Peppers, bell, red, raw\n"
     ]
    },
    {
     "name": "stderr",
     "output_type": "stream",
     "text": [
      " 14%|█▍        | 21/150 [00:34<03:46,  1.76s/it]"
     ]
    },
    {
     "name": "stdout",
     "output_type": "stream",
     "text": [
      "🔍 Step 1: Searching Foundation for exact match: 'rice'\n"
     ]
    },
    {
     "name": "stderr",
     "output_type": "stream",
     "text": [
      " 15%|█▍        | 22/150 [00:36<03:34,  1.67s/it]"
     ]
    },
    {
     "name": "stdout",
     "output_type": "stream",
     "text": [
      "✅ Found exact match in Foundation: Flour, rice, brown\n",
      "✅ rice: Found - Flour, rice, brown\n",
      "🔍 Step 1: Searching Foundation for exact match: 'growing-up milk formula'\n",
      "🔍 Step 1: Searching Foundation for exact match: 'growing-up milk formula'\n",
      "🔍 Step 2: Taking first Foundation result: 'growing-up milk formula'\n",
      "📄 Using first Foundation result: Cheese, ricotta, whole milk\n",
      "✅ growing-up milk formula: Found - Cheese, ricotta, whole milk\n",
      "🔍 Step 2: Taking first Foundation result: 'growing-up milk formula'\n",
      "📄 Using first Foundation result: Cheese, ricotta, whole milk\n",
      "✅ growing-up milk formula: Found - Cheese, ricotta, whole milk\n"
     ]
    },
    {
     "name": "stderr",
     "output_type": "stream",
     "text": [
      " 15%|█▌        | 23/150 [00:38<03:37,  1.71s/it]"
     ]
    },
    {
     "name": "stdout",
     "output_type": "stream",
     "text": [
      "🔍 Step 1: Searching Foundation for exact match: 'butternut squash'\n"
     ]
    },
    {
     "name": "stderr",
     "output_type": "stream",
     "text": [
      " 16%|█▌        | 24/150 [00:39<03:20,  1.59s/it]"
     ]
    },
    {
     "name": "stdout",
     "output_type": "stream",
     "text": [
      "🔍 Step 2: Taking first Foundation result: 'butternut squash'\n",
      "📄 Using first Foundation result: Squash, winter, butternut, raw\n",
      "✅ butternut squash: Found - Squash, winter, butternut, raw\n",
      "🔍 Step 1: Searching Foundation for exact match: 'chicken breast'\n",
      "🔍 Step 1: Searching Foundation for exact match: 'chicken breast'\n",
      "🔍 Step 2: Taking first Foundation result: 'chicken breast'\n",
      "📄 Using first Foundation result: Chicken, breast, boneless, skinless, raw\n",
      "✅ chicken breast: Found - Chicken, breast, boneless, skinless, raw\n",
      "🔍 Step 2: Taking first Foundation result: 'chicken breast'\n",
      "📄 Using first Foundation result: Chicken, breast, boneless, skinless, raw\n",
      "✅ chicken breast: Found - Chicken, breast, boneless, skinless, raw\n"
     ]
    },
    {
     "name": "stderr",
     "output_type": "stream",
     "text": [
      " 17%|█▋        | 25/150 [00:40<03:13,  1.55s/it]"
     ]
    },
    {
     "name": "stdout",
     "output_type": "stream",
     "text": [
      "🔍 Step 1: Searching Foundation for exact match: 'tomatoes'\n"
     ]
    },
    {
     "name": "stderr",
     "output_type": "stream",
     "text": [
      " 17%|█▋        | 26/150 [00:42<03:05,  1.50s/it]"
     ]
    },
    {
     "name": "stdout",
     "output_type": "stream",
     "text": [
      "✅ Found exact match in Foundation: Tomatoes, crushed, canned\n",
      "✅ tomatoes: Found - Tomatoes, crushed, canned\n",
      "🔍 Step 1: Searching Foundation for exact match: 'rapeseed oil'\n",
      "🔍 Step 1: Searching Foundation for exact match: 'rapeseed oil'\n"
     ]
    },
    {
     "name": "stderr",
     "output_type": "stream",
     "text": [
      " 18%|█▊        | 27/150 [00:44<03:16,  1.60s/it]"
     ]
    },
    {
     "name": "stdout",
     "output_type": "stream",
     "text": [
      "🔍 Step 2: Taking first Foundation result: 'rapeseed oil'\n",
      "📄 Using first Foundation result: Oil, canola\n",
      "✅ rapeseed oil: Found - Oil, canola\n",
      "🔍 Step 1: Searching Foundation for exact match: 'full-fat milk'\n",
      "🔍 Step 1: Searching Foundation for exact match: 'full-fat milk'\n",
      "🔍 Step 2: Taking first Foundation result: 'full-fat milk'\n",
      "📄 Using first Foundation result: Cream, sour, full fat\n",
      "❌ Error processing 'full-fat milk': 'value'\n",
      "❌ full-fat milk: failed\n",
      "🔍 Step 2: Taking first Foundation result: 'full-fat milk'\n",
      "📄 Using first Foundation result: Cream, sour, full fat\n",
      "❌ Error processing 'full-fat milk': 'value'\n",
      "❌ full-fat milk: failed\n"
     ]
    },
    {
     "name": "stderr",
     "output_type": "stream",
     "text": [
      " 19%|█▊        | 28/150 [00:45<03:21,  1.65s/it]"
     ]
    },
    {
     "name": "stdout",
     "output_type": "stream",
     "text": [
      "🔍 Step 1: Searching Foundation for exact match: 'clove'\n",
      "🔍 Step 2: Taking first Foundation result: 'clove'\n",
      "🔍 Step 3: Searching Survey (FNDDS) for exact match: 'clove'\n",
      "🔍 Step 2: Taking first Foundation result: 'clove'\n",
      "🔍 Step 3: Searching Survey (FNDDS) for exact match: 'clove'\n",
      "❌ No nutrition data found for 'clove'\n",
      "❌ clove: failed\n",
      "❌ No nutrition data found for 'clove'\n",
      "❌ clove: failed\n"
     ]
    },
    {
     "name": "stderr",
     "output_type": "stream",
     "text": [
      " 19%|█▉        | 29/150 [00:48<03:37,  1.80s/it]"
     ]
    },
    {
     "name": "stdout",
     "output_type": "stream",
     "text": [
      "🔍 Step 1: Searching Foundation for exact match: 'green beans'\n"
     ]
    },
    {
     "name": "stderr",
     "output_type": "stream",
     "text": [
      " 20%|██        | 30/150 [00:49<03:27,  1.73s/it]"
     ]
    },
    {
     "name": "stdout",
     "output_type": "stream",
     "text": [
      "🔍 Step 2: Taking first Foundation result: 'green beans'\n",
      "📄 Using first Foundation result: Beans, snap, green, raw\n",
      "✅ green beans: Found - Beans, snap, green, raw\n",
      "🔍 Step 1: Searching Foundation for exact match: 'Cheddar cheese'\n",
      "🔍 Step 1: Searching Foundation for exact match: 'Cheddar cheese'\n"
     ]
    },
    {
     "name": "stderr",
     "output_type": "stream",
     "text": [
      " 21%|██        | 31/150 [00:51<03:25,  1.73s/it]"
     ]
    },
    {
     "name": "stdout",
     "output_type": "stream",
     "text": [
      "🔍 Step 2: Taking first Foundation result: 'Cheddar cheese'\n",
      "📄 Using first Foundation result: Cheese, cheddar\n",
      "✅ Cheddar cheese: Found - Cheese, cheddar\n",
      "🔍 Step 1: Searching Foundation for exact match: 'oil'\n",
      "🔍 Step 1: Searching Foundation for exact match: 'oil'\n",
      "✅ Found exact match in Foundation: Oil, canola\n",
      "✅ oil: Found - Oil, canola\n",
      "✅ Found exact match in Foundation: Oil, canola\n",
      "✅ oil: Found - Oil, canola\n"
     ]
    },
    {
     "name": "stderr",
     "output_type": "stream",
     "text": [
      " 21%|██▏       | 32/150 [00:53<03:21,  1.71s/it]"
     ]
    },
    {
     "name": "stdout",
     "output_type": "stream",
     "text": [
      "🔍 Step 1: Searching Foundation for exact match: 'canned chopped tomatoes'\n"
     ]
    },
    {
     "name": "stderr",
     "output_type": "stream",
     "text": [
      " 22%|██▏       | 33/150 [00:54<03:18,  1.70s/it]"
     ]
    },
    {
     "name": "stdout",
     "output_type": "stream",
     "text": [
      "🔍 Step 2: Taking first Foundation result: 'canned chopped tomatoes'\n",
      "📄 Using first Foundation result: Tomato, puree, canned\n",
      "✅ canned chopped tomatoes: Found - Tomato, puree, canned\n",
      "🔍 Step 1: Searching Foundation for exact match: 'minced beef'\n",
      "🔍 Step 1: Searching Foundation for exact match: 'minced beef'\n"
     ]
    },
    {
     "name": "stderr",
     "output_type": "stream",
     "text": [
      " 23%|██▎       | 34/150 [00:56<03:18,  1.71s/it]"
     ]
    },
    {
     "name": "stdout",
     "output_type": "stream",
     "text": [
      "🔍 Step 2: Taking first Foundation result: 'minced beef'\n",
      "📄 Using first Foundation result: Frankfurter, beef, unheated\n",
      "✅ minced beef: Found - Frankfurter, beef, unheated\n",
      "🔍 Step 1: Searching Foundation for exact match: 'spinach'\n",
      "🔍 Step 1: Searching Foundation for exact match: 'spinach'\n",
      "✅ Found exact match in Foundation: Spinach, baby\n",
      "✅ spinach: Found - Spinach, baby\n",
      "✅ Found exact match in Foundation: Spinach, baby\n",
      "✅ spinach: Found - Spinach, baby\n"
     ]
    },
    {
     "name": "stderr",
     "output_type": "stream",
     "text": [
      " 23%|██▎       | 35/150 [00:57<02:59,  1.56s/it]"
     ]
    },
    {
     "name": "stdout",
     "output_type": "stream",
     "text": [
      "🔍 Step 1: Searching Foundation for exact match: 'scoops of follow-on formula'\n",
      "🔍 Step 2: Taking first Foundation result: 'scoops of follow-on formula'\n",
      "🔍 Step 3: Searching Survey (FNDDS) for exact match: 'scoops of follow-on formula'\n",
      "🔍 Step 2: Taking first Foundation result: 'scoops of follow-on formula'\n",
      "🔍 Step 3: Searching Survey (FNDDS) for exact match: 'scoops of follow-on formula'\n"
     ]
    },
    {
     "name": "stderr",
     "output_type": "stream",
     "text": [
      " 24%|██▍       | 36/150 [01:00<03:33,  1.87s/it]"
     ]
    },
    {
     "name": "stdout",
     "output_type": "stream",
     "text": [
      "🔍 Step 4: Taking first Survey (FNDDS) result: 'scoops of follow-on formula'\n",
      "📄 Using first Survey result: Infant formula, NFS\n",
      "✅ scoops of follow-on formula: Found - Infant formula, NFS\n",
      "🔍 Step 1: Searching Foundation for exact match: 'salmon fillet'\n",
      "🔍 Step 1: Searching Foundation for exact match: 'salmon fillet'\n",
      "🔍 Step 2: Taking first Foundation result: 'salmon fillet'\n",
      "📄 Using first Foundation result: Fish, salmon, Atlantic, farm raised, raw\n",
      "❌ Error processing 'salmon fillet': 'value'\n",
      "❌ salmon fillet: failed\n",
      "🔍 Step 2: Taking first Foundation result: 'salmon fillet'\n",
      "📄 Using first Foundation result: Fish, salmon, Atlantic, farm raised, raw\n",
      "❌ Error processing 'salmon fillet': 'value'\n",
      "❌ salmon fillet: failed\n"
     ]
    },
    {
     "name": "stderr",
     "output_type": "stream",
     "text": [
      " 25%|██▍       | 37/150 [01:01<03:16,  1.74s/it]"
     ]
    },
    {
     "name": "stdout",
     "output_type": "stream",
     "text": [
      "🔍 Step 1: Searching Foundation for exact match: 'milk_x000D_'\n",
      "🔍 Step 2: Taking first Foundation result: 'milk_x000D_'\n",
      "🔍 Step 3: Searching Survey (FNDDS) for exact match: 'milk_x000D_'\n",
      "🔍 Step 2: Taking first Foundation result: 'milk_x000D_'\n",
      "🔍 Step 3: Searching Survey (FNDDS) for exact match: 'milk_x000D_'\n",
      "❌ No nutrition data found for 'milk_x000D_'\n",
      "❌ milk_x000D_: failed\n",
      "❌ No nutrition data found for 'milk_x000D_'\n",
      "❌ milk_x000D_: failed\n"
     ]
    },
    {
     "name": "stderr",
     "output_type": "stream",
     "text": [
      " 25%|██▌       | 38/150 [01:03<03:27,  1.86s/it]"
     ]
    },
    {
     "name": "stdout",
     "output_type": "stream",
     "text": [
      "🔍 Step 1: Searching Foundation for exact match: 'salt'\n",
      "✅ Found exact match in Foundation: Salt, table, iodized\n",
      "✅ salt: Found - Salt, table, iodized\n",
      "✅ Found exact match in Foundation: Salt, table, iodized\n",
      "✅ salt: Found - Salt, table, iodized\n"
     ]
    },
    {
     "name": "stderr",
     "output_type": "stream",
     "text": [
      " 26%|██▌       | 39/150 [01:05<03:21,  1.81s/it]"
     ]
    },
    {
     "name": "stdout",
     "output_type": "stream",
     "text": [
      "🔍 Step 1: Searching Foundation for exact match: 'pumpkin'\n",
      "✅ Found exact match in Foundation: Seeds, pumpkin seeds (pepitas), raw\n",
      "✅ pumpkin: Found - Seeds, pumpkin seeds (pepitas), raw\n",
      "✅ Found exact match in Foundation: Seeds, pumpkin seeds (pepitas), raw\n",
      "✅ pumpkin: Found - Seeds, pumpkin seeds (pepitas), raw\n"
     ]
    },
    {
     "name": "stderr",
     "output_type": "stream",
     "text": [
      " 27%|██▋       | 40/150 [01:06<02:59,  1.63s/it]"
     ]
    },
    {
     "name": "stdout",
     "output_type": "stream",
     "text": [
      "🔍 Step 1: Searching Foundation for exact match: 'eggs'\n"
     ]
    },
    {
     "name": "stderr",
     "output_type": "stream",
     "text": [
      " 27%|██▋       | 41/150 [01:08<03:06,  1.72s/it]"
     ]
    },
    {
     "name": "stdout",
     "output_type": "stream",
     "text": [
      "✅ Found exact match in Foundation: Eggs, Grade A, Large, egg white\n",
      "✅ eggs: Found - Eggs, Grade A, Large, egg white\n",
      "🔍 Step 1: Searching Foundation for exact match: 'follow-on formula'\n",
      "🔍 Step 1: Searching Foundation for exact match: 'follow-on formula'\n",
      "🔍 Step 2: Taking first Foundation result: 'follow-on formula'\n",
      "🔍 Step 3: Searching Survey (FNDDS) for exact match: 'follow-on formula'\n",
      "🔍 Step 2: Taking first Foundation result: 'follow-on formula'\n",
      "🔍 Step 3: Searching Survey (FNDDS) for exact match: 'follow-on formula'\n",
      "🔍 Step 4: Taking first Survey (FNDDS) result: 'follow-on formula'\n",
      "📄 Using first Survey result: Infant formula, NFS\n",
      "✅ follow-on formula: Found - Infant formula, NFS\n",
      "🔍 Step 4: Taking first Survey (FNDDS) result: 'follow-on formula'\n",
      "📄 Using first Survey result: Infant formula, NFS\n",
      "✅ follow-on formula: Found - Infant formula, NFS\n"
     ]
    },
    {
     "name": "stderr",
     "output_type": "stream",
     "text": [
      " 28%|██▊       | 42/150 [01:11<03:31,  1.96s/it]"
     ]
    },
    {
     "name": "stdout",
     "output_type": "stream",
     "text": [
      "🔍 Step 1: Searching Foundation for exact match: 'curry powder'\n",
      "🔍 Step 2: Taking first Foundation result: 'curry powder'\n",
      "🔍 Step 3: Searching Survey (FNDDS) for exact match: 'curry powder'\n",
      "🔍 Step 2: Taking first Foundation result: 'curry powder'\n",
      "🔍 Step 3: Searching Survey (FNDDS) for exact match: 'curry powder'\n",
      "🔍 Step 4: Taking first Survey (FNDDS) result: 'curry powder'\n",
      "📄 Using first Survey result: Beef curry\n",
      "✅ curry powder: Found - Beef curry\n",
      "🔍 Step 4: Taking first Survey (FNDDS) result: 'curry powder'\n",
      "📄 Using first Survey result: Beef curry\n",
      "✅ curry powder: Found - Beef curry\n"
     ]
    },
    {
     "name": "stderr",
     "output_type": "stream",
     "text": [
      " 29%|██▊       | 43/150 [01:13<03:55,  2.20s/it]"
     ]
    },
    {
     "name": "stdout",
     "output_type": "stream",
     "text": [
      "🔍 Step 1: Searching Foundation for exact match: 'apple'\n",
      "✅ Found exact match in Foundation: Apple juice, with added vitamin C, from concentrate, shelf stable\n",
      "✅ apple: Found - Apple juice, with added vitamin C, from concentrate, shelf stable\n",
      "✅ Found exact match in Foundation: Apple juice, with added vitamin C, from concentrate, shelf stable\n",
      "✅ apple: Found - Apple juice, with added vitamin C, from concentrate, shelf stable\n"
     ]
    },
    {
     "name": "stderr",
     "output_type": "stream",
     "text": [
      " 29%|██▉       | 44/150 [01:15<03:27,  1.96s/it]"
     ]
    },
    {
     "name": "stdout",
     "output_type": "stream",
     "text": [
      "🔍 Step 1: Searching Foundation for exact match: 'slice wholemeal bread (1 portion)'\n",
      "🔍 Step 2: Taking first Foundation result: 'slice wholemeal bread (1 portion)'\n",
      "📄 Using first Foundation result: Cheese, provolone, sliced\n",
      "❌ Error processing 'slice wholemeal bread (1 portion)': 'value'\n",
      "❌ slice wholemeal bread (1 portion): failed\n",
      "🔍 Step 2: Taking first Foundation result: 'slice wholemeal bread (1 portion)'\n",
      "📄 Using first Foundation result: Cheese, provolone, sliced\n",
      "❌ Error processing 'slice wholemeal bread (1 portion)': 'value'\n",
      "❌ slice wholemeal bread (1 portion): failed\n"
     ]
    },
    {
     "name": "stderr",
     "output_type": "stream",
     "text": [
      " 30%|███       | 45/150 [01:17<03:16,  1.87s/it]"
     ]
    },
    {
     "name": "stdout",
     "output_type": "stream",
     "text": [
      "🔍 Step 1: Searching Foundation for exact match: 'ground cumin'\n",
      "🔍 Step 2: Taking first Foundation result: 'ground cumin'\n",
      "📄 Using first Foundation result: Flaxseed, ground\n",
      "✅ ground cumin: Found - Flaxseed, ground\n",
      "🔍 Step 2: Taking first Foundation result: 'ground cumin'\n",
      "📄 Using first Foundation result: Flaxseed, ground\n",
      "✅ ground cumin: Found - Flaxseed, ground\n"
     ]
    },
    {
     "name": "stderr",
     "output_type": "stream",
     "text": [
      " 31%|███       | 46/150 [01:18<03:02,  1.75s/it]"
     ]
    },
    {
     "name": "stdout",
     "output_type": "stream",
     "text": [
      "🔍 Step 1: Searching Foundation for exact match: 'slice wholemeal bread'\n",
      "🔍 Step 2: Taking first Foundation result: 'slice wholemeal bread'\n",
      "📄 Using first Foundation result: Cheese, provolone, sliced\n",
      "❌ Error processing 'slice wholemeal bread': 'value'\n",
      "❌ slice wholemeal bread: failed\n",
      "🔍 Step 2: Taking first Foundation result: 'slice wholemeal bread'\n",
      "📄 Using first Foundation result: Cheese, provolone, sliced\n",
      "❌ Error processing 'slice wholemeal bread': 'value'\n",
      "❌ slice wholemeal bread: failed\n"
     ]
    },
    {
     "name": "stderr",
     "output_type": "stream",
     "text": [
      " 31%|███▏      | 47/150 [01:20<02:55,  1.70s/it]"
     ]
    },
    {
     "name": "stdout",
     "output_type": "stream",
     "text": [
      "🔍 Step 1: Searching Foundation for exact match: 'onions'\n",
      "✅ Found exact match in Foundation: Onions, red, raw\n",
      "✅ onions: Found - Onions, red, raw\n",
      "✅ Found exact match in Foundation: Onions, red, raw\n",
      "✅ onions: Found - Onions, red, raw\n"
     ]
    },
    {
     "name": "stderr",
     "output_type": "stream",
     "text": [
      " 32%|███▏      | 48/150 [01:21<02:50,  1.67s/it]"
     ]
    },
    {
     "name": "stdout",
     "output_type": "stream",
     "text": [
      "🔍 Step 1: Searching Foundation for exact match: 'banana'\n",
      "🔍 Step 2: Taking first Foundation result: 'banana'\n",
      "📄 Using first Foundation result: Bananas, overripe, raw\n",
      "✅ banana: Found - Bananas, overripe, raw\n",
      "🔍 Step 2: Taking first Foundation result: 'banana'\n",
      "📄 Using first Foundation result: Bananas, overripe, raw\n",
      "✅ banana: Found - Bananas, overripe, raw\n"
     ]
    },
    {
     "name": "stderr",
     "output_type": "stream",
     "text": [
      " 33%|███▎      | 49/150 [01:23<02:42,  1.61s/it]"
     ]
    },
    {
     "name": "stdout",
     "output_type": "stream",
     "text": [
      "🔍 Step 1: Searching Foundation for exact match: 'plain full-fat yoghurt'\n"
     ]
    },
    {
     "name": "stderr",
     "output_type": "stream",
     "text": [
      " 33%|███▎      | 50/150 [01:25<02:48,  1.68s/it]"
     ]
    },
    {
     "name": "stdout",
     "output_type": "stream",
     "text": [
      "🔍 Step 2: Taking first Foundation result: 'plain full-fat yoghurt'\n",
      "📄 Using first Foundation result: Cream, sour, full fat\n",
      "❌ Error processing 'plain full-fat yoghurt': 'value'\n",
      "❌ plain full-fat yoghurt: failed\n",
      "🔍 Step 1: Searching Foundation for exact match: 'pepper'\n",
      "🔍 Step 1: Searching Foundation for exact match: 'pepper'\n",
      "🔍 Step 2: Taking first Foundation result: 'pepper'\n",
      "📄 Using first Foundation result: Peppers, bell, green, raw\n",
      "✅ pepper: Found - Peppers, bell, green, raw\n",
      "🔍 Step 2: Taking first Foundation result: 'pepper'\n",
      "📄 Using first Foundation result: Peppers, bell, green, raw\n",
      "✅ pepper: Found - Peppers, bell, green, raw\n"
     ]
    },
    {
     "name": "stderr",
     "output_type": "stream",
     "text": [
      " 34%|███▍      | 51/150 [01:26<02:35,  1.57s/it]"
     ]
    },
    {
     "name": "stdout",
     "output_type": "stream",
     "text": [
      "🔍 Step 1: Searching Foundation for exact match: 'leaf'\n",
      "✅ Found exact match in Foundation: Lettuce, leaf, green, raw\n",
      "✅ leaf: Found - Lettuce, leaf, green, raw\n",
      "✅ Found exact match in Foundation: Lettuce, leaf, green, raw\n",
      "✅ leaf: Found - Lettuce, leaf, green, raw\n"
     ]
    },
    {
     "name": "stderr",
     "output_type": "stream",
     "text": [
      " 35%|███▍      | 52/150 [01:27<02:22,  1.45s/it]"
     ]
    },
    {
     "name": "stdout",
     "output_type": "stream",
     "text": [
      "🔍 Step 1: Searching Foundation for exact match: 'fromage blanc'\n",
      "🔍 Step 2: Taking first Foundation result: 'fromage blanc'\n",
      "🔍 Step 3: Searching Survey (FNDDS) for exact match: 'fromage blanc'\n",
      "🔍 Step 2: Taking first Foundation result: 'fromage blanc'\n",
      "🔍 Step 3: Searching Survey (FNDDS) for exact match: 'fromage blanc'\n"
     ]
    },
    {
     "name": "stderr",
     "output_type": "stream",
     "text": [
      " 35%|███▌      | 53/150 [01:30<02:54,  1.80s/it]"
     ]
    },
    {
     "name": "stdout",
     "output_type": "stream",
     "text": [
      "🔍 Step 4: Taking first Survey (FNDDS) result: 'fromage blanc'\n",
      "📄 Using first Survey result: Wine, white\n",
      "✅ fromage blanc: Found - Wine, white\n",
      "🔍 Step 1: Searching Foundation for exact match: 'pear'\n",
      "🔍 Step 1: Searching Foundation for exact match: 'pear'\n"
     ]
    },
    {
     "name": "stderr",
     "output_type": "stream",
     "text": [
      " 36%|███▌      | 54/150 [01:31<02:42,  1.69s/it]"
     ]
    },
    {
     "name": "stdout",
     "output_type": "stream",
     "text": [
      "✅ Found exact match in Foundation: Pear, Anjou, green, with skin, raw\n",
      "✅ pear: Found - Pear, Anjou, green, with skin, raw\n",
      "🔍 Step 1: Searching Foundation for exact match: 'full-fat hard cheese'\n",
      "🔍 Step 1: Searching Foundation for exact match: 'full-fat hard cheese'\n",
      "🔍 Step 2: Taking first Foundation result: 'full-fat hard cheese'\n",
      "📄 Using first Foundation result: Cream cheese, full fat, block\n",
      "❌ Error processing 'full-fat hard cheese': 'value'\n",
      "❌ full-fat hard cheese: failed\n",
      "🔍 Step 2: Taking first Foundation result: 'full-fat hard cheese'\n",
      "📄 Using first Foundation result: Cream cheese, full fat, block\n",
      "❌ Error processing 'full-fat hard cheese': 'value'\n",
      "❌ full-fat hard cheese: failed\n"
     ]
    },
    {
     "name": "stderr",
     "output_type": "stream",
     "text": [
      " 37%|███▋      | 55/150 [01:33<02:43,  1.72s/it]"
     ]
    },
    {
     "name": "stdout",
     "output_type": "stream",
     "text": [
      "🔍 Step 1: Searching Foundation for exact match: 'basmati rice'\n",
      "🔍 Step 2: Taking first Foundation result: 'basmati rice'\n",
      "📄 Using first Foundation result: Flour, rice, brown\n",
      "✅ basmati rice: Found - Flour, rice, brown\n",
      "🔍 Step 2: Taking first Foundation result: 'basmati rice'\n",
      "📄 Using first Foundation result: Flour, rice, brown\n",
      "✅ basmati rice: Found - Flour, rice, brown\n"
     ]
    },
    {
     "name": "stderr",
     "output_type": "stream",
     "text": [
      " 37%|███▋      | 56/150 [01:34<02:33,  1.63s/it]"
     ]
    },
    {
     "name": "stdout",
     "output_type": "stream",
     "text": [
      "🔍 Step 1: Searching Foundation for exact match: 'grated gruyere cheese'\n"
     ]
    },
    {
     "name": "stderr",
     "output_type": "stream",
     "text": [
      " 38%|███▊      | 57/150 [01:36<02:31,  1.63s/it]"
     ]
    },
    {
     "name": "stdout",
     "output_type": "stream",
     "text": [
      "🔍 Step 2: Taking first Foundation result: 'grated gruyere cheese'\n",
      "📄 Using first Foundation result: Cheese, parmesan, grated\n",
      "✅ grated gruyere cheese: Found - Cheese, parmesan, grated\n",
      "🔍 Step 1: Searching Foundation for exact match: 'tinned chopped tomatoes'\n",
      "🔍 Step 1: Searching Foundation for exact match: 'tinned chopped tomatoes'\n",
      "🔍 Step 2: Taking first Foundation result: 'tinned chopped tomatoes'\n",
      "📄 Using first Foundation result: Pork, chop, center cut, raw\n",
      "✅ tinned chopped tomatoes: Found - Pork, chop, center cut, raw\n",
      "🔍 Step 2: Taking first Foundation result: 'tinned chopped tomatoes'\n",
      "📄 Using first Foundation result: Pork, chop, center cut, raw\n",
      "✅ tinned chopped tomatoes: Found - Pork, chop, center cut, raw\n"
     ]
    },
    {
     "name": "stderr",
     "output_type": "stream",
     "text": [
      " 39%|███▊      | 58/150 [01:37<02:26,  1.60s/it]"
     ]
    },
    {
     "name": "stdout",
     "output_type": "stream",
     "text": [
      "🔍 Step 1: Searching Foundation for exact match: 'rice flour'\n",
      "🔍 Step 2: Taking first Foundation result: 'rice flour'\n",
      "📄 Using first Foundation result: Flour, rice, brown\n",
      "✅ rice flour: Found - Flour, rice, brown\n",
      "🔍 Step 2: Taking first Foundation result: 'rice flour'\n",
      "📄 Using first Foundation result: Flour, rice, brown\n",
      "✅ rice flour: Found - Flour, rice, brown\n"
     ]
    },
    {
     "name": "stderr",
     "output_type": "stream",
     "text": [
      " 39%|███▉      | 59/150 [01:39<02:24,  1.59s/it]"
     ]
    },
    {
     "name": "stdout",
     "output_type": "stream",
     "text": [
      "🔍 Step 1: Searching Foundation for exact match: 'thyme'\n",
      "🔍 Step 2: Taking first Foundation result: 'thyme'\n",
      "🔍 Step 3: Searching Survey (FNDDS) for exact match: 'thyme'\n",
      "🔍 Step 2: Taking first Foundation result: 'thyme'\n",
      "🔍 Step 3: Searching Survey (FNDDS) for exact match: 'thyme'\n",
      "❌ No nutrition data found for 'thyme'\n",
      "❌ thyme: failed\n",
      "❌ No nutrition data found for 'thyme'\n",
      "❌ thyme: failed\n"
     ]
    },
    {
     "name": "stderr",
     "output_type": "stream",
     "text": [
      " 40%|████      | 60/150 [01:41<02:39,  1.77s/it]"
     ]
    },
    {
     "name": "stdout",
     "output_type": "stream",
     "text": [
      "🔍 Step 1: Searching Foundation for exact match: 'vanilla sugar'\n",
      "🔍 Step 2: Taking first Foundation result: 'vanilla sugar'\n",
      "📄 Using first Foundation result: Sugars, granulated\n",
      "✅ vanilla sugar: Found - Sugars, granulated\n",
      "🔍 Step 2: Taking first Foundation result: 'vanilla sugar'\n",
      "📄 Using first Foundation result: Sugars, granulated\n",
      "✅ vanilla sugar: Found - Sugars, granulated\n"
     ]
    },
    {
     "name": "stderr",
     "output_type": "stream",
     "text": [
      " 41%|████      | 61/150 [01:42<02:25,  1.64s/it]"
     ]
    },
    {
     "name": "stdout",
     "output_type": "stream",
     "text": [
      "🔍 Step 1: Searching Foundation for exact match: 'leaves'\n",
      "🔍 Step 2: Taking first Foundation result: 'leaves'\n",
      "🔍 Step 3: Searching Survey (FNDDS) for exact match: 'leaves'\n",
      "🔍 Step 2: Taking first Foundation result: 'leaves'\n",
      "🔍 Step 3: Searching Survey (FNDDS) for exact match: 'leaves'\n",
      "✅ Found exact match in Survey: Taro leaves, cooked\n",
      "✅ leaves: Found - Taro leaves, cooked\n",
      "✅ Found exact match in Survey: Taro leaves, cooked\n",
      "✅ leaves: Found - Taro leaves, cooked\n"
     ]
    },
    {
     "name": "stderr",
     "output_type": "stream",
     "text": [
      " 41%|████▏     | 62/150 [01:45<02:52,  1.96s/it]"
     ]
    },
    {
     "name": "stdout",
     "output_type": "stream",
     "text": [
      "🔍 Step 1: Searching Foundation for exact match: 'breadcrumbs'\n",
      "🔍 Step 2: Taking first Foundation result: 'breadcrumbs'\n",
      "🔍 Step 3: Searching Survey (FNDDS) for exact match: 'breadcrumbs'\n",
      "🔍 Step 2: Taking first Foundation result: 'breadcrumbs'\n",
      "🔍 Step 3: Searching Survey (FNDDS) for exact match: 'breadcrumbs'\n",
      "❌ No nutrition data found for 'breadcrumbs'\n",
      "❌ breadcrumbs: failed\n",
      "❌ No nutrition data found for 'breadcrumbs'\n",
      "❌ breadcrumbs: failed\n"
     ]
    },
    {
     "name": "stderr",
     "output_type": "stream",
     "text": [
      " 42%|████▏     | 63/150 [01:48<03:00,  2.07s/it]"
     ]
    },
    {
     "name": "stdout",
     "output_type": "stream",
     "text": [
      "🔍 Step 1: Searching Foundation for exact match: 'cornstarch'\n",
      "🔍 Step 2: Taking first Foundation result: 'cornstarch'\n",
      "🔍 Step 3: Searching Survey (FNDDS) for exact match: 'cornstarch'\n",
      "🔍 Step 2: Taking first Foundation result: 'cornstarch'\n",
      "🔍 Step 3: Searching Survey (FNDDS) for exact match: 'cornstarch'\n",
      "❌ No nutrition data found for 'cornstarch'\n",
      "❌ cornstarch: failed\n",
      "❌ No nutrition data found for 'cornstarch'\n",
      "❌ cornstarch: failed\n"
     ]
    },
    {
     "name": "stderr",
     "output_type": "stream",
     "text": [
      " 43%|████▎     | 64/150 [01:50<03:02,  2.12s/it]"
     ]
    },
    {
     "name": "stdout",
     "output_type": "stream",
     "text": [
      "🔍 Step 1: Searching Foundation for exact match: 'Parmesan'\n"
     ]
    },
    {
     "name": "stderr",
     "output_type": "stream",
     "text": [
      " 43%|████▎     | 65/150 [01:51<02:39,  1.88s/it]"
     ]
    },
    {
     "name": "stdout",
     "output_type": "stream",
     "text": [
      "✅ Found exact match in Foundation: Cheese, parmesan, grated\n",
      "✅ Parmesan: Found - Cheese, parmesan, grated\n",
      "🔍 Step 1: Searching Foundation for exact match: 'unsalted butter_x000D_'\n",
      "🔍 Step 1: Searching Foundation for exact match: 'unsalted butter_x000D_'\n"
     ]
    },
    {
     "name": "stderr",
     "output_type": "stream",
     "text": [
      " 44%|████▍     | 66/150 [01:52<02:18,  1.65s/it]"
     ]
    },
    {
     "name": "stdout",
     "output_type": "stream",
     "text": [
      "🔍 Step 2: Taking first Foundation result: 'unsalted butter_x000D_'\n",
      "📄 Using first Foundation result: Butter, stick, unsalted\n",
      "✅ unsalted butter_x000D_: Found - Butter, stick, unsalted\n",
      "🔍 Step 1: Searching Foundation for exact match: 'zucchini'\n",
      "🔍 Step 1: Searching Foundation for exact match: 'zucchini'\n",
      "✅ Found exact match in Foundation: Squash, summer, green, zucchini, includes skin, raw\n",
      "✅ zucchini: Found - Squash, summer, green, zucchini, includes skin, raw\n",
      "✅ Found exact match in Foundation: Squash, summer, green, zucchini, includes skin, raw\n",
      "✅ zucchini: Found - Squash, summer, green, zucchini, includes skin, raw\n"
     ]
    },
    {
     "name": "stderr",
     "output_type": "stream",
     "text": [
      " 45%|████▍     | 67/150 [01:53<02:04,  1.50s/it]"
     ]
    },
    {
     "name": "stdout",
     "output_type": "stream",
     "text": [
      "🔍 Step 1: Searching Foundation for exact match: 'margarine'\n",
      "🔍 Step 2: Taking first Foundation result: 'margarine'\n",
      "🔍 Step 3: Searching Survey (FNDDS) for exact match: 'margarine'\n",
      "🔍 Step 2: Taking first Foundation result: 'margarine'\n",
      "🔍 Step 3: Searching Survey (FNDDS) for exact match: 'margarine'\n",
      "✅ Found exact match in Survey: Margarine, NFS\n",
      "✅ margarine: Found - Margarine, NFS\n",
      "✅ Found exact match in Survey: Margarine, NFS\n",
      "✅ margarine: Found - Margarine, NFS\n"
     ]
    },
    {
     "name": "stderr",
     "output_type": "stream",
     "text": [
      " 45%|████▌     | 68/150 [01:56<02:35,  1.90s/it]"
     ]
    },
    {
     "name": "stdout",
     "output_type": "stream",
     "text": [
      "🔍 Step 1: Searching Foundation for exact match: 'ham'\n",
      "✅ Found exact match in Foundation: Ham, sliced, restaurant\n",
      "✅ ham: Found - Ham, sliced, restaurant\n",
      "✅ Found exact match in Foundation: Ham, sliced, restaurant\n",
      "✅ ham: Found - Ham, sliced, restaurant\n"
     ]
    },
    {
     "name": "stderr",
     "output_type": "stream",
     "text": [
      " 46%|████▌     | 69/150 [01:58<02:23,  1.77s/it]"
     ]
    },
    {
     "name": "stdout",
     "output_type": "stream",
     "text": [
      "🔍 Step 1: Searching Foundation for exact match: 'apple juice'\n",
      "✅ Found exact match in Foundation: Apple juice, with added vitamin C, from concentrate, shelf stable\n",
      "✅ apple juice: Found - Apple juice, with added vitamin C, from concentrate, shelf stable\n",
      "✅ Found exact match in Foundation: Apple juice, with added vitamin C, from concentrate, shelf stable\n",
      "✅ apple juice: Found - Apple juice, with added vitamin C, from concentrate, shelf stable\n"
     ]
    },
    {
     "name": "stderr",
     "output_type": "stream",
     "text": [
      " 47%|████▋     | 70/150 [01:59<02:21,  1.77s/it]"
     ]
    },
    {
     "name": "stdout",
     "output_type": "stream",
     "text": [
      "🔍 Step 1: Searching Foundation for exact match: 'coconut milk'\n",
      "🔍 Step 2: Taking first Foundation result: 'coconut milk'\n",
      "📄 Using first Foundation result: Flour, coconut\n",
      "✅ coconut milk: Found - Flour, coconut\n",
      "🔍 Step 2: Taking first Foundation result: 'coconut milk'\n",
      "📄 Using first Foundation result: Flour, coconut\n",
      "✅ coconut milk: Found - Flour, coconut\n"
     ]
    },
    {
     "name": "stderr",
     "output_type": "stream",
     "text": [
      " 47%|████▋     | 71/150 [02:01<02:19,  1.76s/it]"
     ]
    },
    {
     "name": "stdout",
     "output_type": "stream",
     "text": [
      "🔍 Step 1: Searching Foundation for exact match: 'broccoli'\n"
     ]
    },
    {
     "name": "stderr",
     "output_type": "stream",
     "text": [
      " 48%|████▊     | 72/150 [02:03<02:10,  1.67s/it]"
     ]
    },
    {
     "name": "stdout",
     "output_type": "stream",
     "text": [
      "✅ Found exact match in Foundation: Broccoli, raw\n",
      "✅ broccoli: Found - Broccoli, raw\n",
      "🔍 Step 1: Searching Foundation for exact match: 'paprika'\n",
      "🔍 Step 1: Searching Foundation for exact match: 'paprika'\n",
      "🔍 Step 2: Taking first Foundation result: 'paprika'\n",
      "🔍 Step 3: Searching Survey (FNDDS) for exact match: 'paprika'\n",
      "🔍 Step 2: Taking first Foundation result: 'paprika'\n",
      "🔍 Step 3: Searching Survey (FNDDS) for exact match: 'paprika'\n"
     ]
    },
    {
     "name": "stderr",
     "output_type": "stream",
     "text": [
      " 49%|████▊     | 73/150 [02:05<02:22,  1.85s/it]"
     ]
    },
    {
     "name": "stdout",
     "output_type": "stream",
     "text": [
      "❌ No nutrition data found for 'paprika'\n",
      "❌ paprika: failed\n",
      "🔍 Step 1: Searching Foundation for exact match: 'strawberries'\n",
      "🔍 Step 1: Searching Foundation for exact match: 'strawberries'\n",
      "✅ Found exact match in Foundation: Strawberries, raw\n",
      "✅ strawberries: Found - Strawberries, raw\n",
      "✅ Found exact match in Foundation: Strawberries, raw\n",
      "✅ strawberries: Found - Strawberries, raw\n"
     ]
    },
    {
     "name": "stderr",
     "output_type": "stream",
     "text": [
      " 49%|████▉     | 74/150 [02:06<02:12,  1.74s/it]"
     ]
    },
    {
     "name": "stdout",
     "output_type": "stream",
     "text": [
      "🔍 Step 1: Searching Foundation for exact match: '(or pinch) mild chilli powder'\n",
      "🔍 Step 2: Taking first Foundation result: '(or pinch) mild chilli powder'\n",
      "📄 Using first Foundation result: Sausage, turkey, breakfast links, mild, raw\n",
      "✅ (or pinch) mild chilli powder: Found - Sausage, turkey, breakfast links, mild, raw\n",
      "🔍 Step 2: Taking first Foundation result: '(or pinch) mild chilli powder'\n",
      "📄 Using first Foundation result: Sausage, turkey, breakfast links, mild, raw\n",
      "✅ (or pinch) mild chilli powder: Found - Sausage, turkey, breakfast links, mild, raw\n"
     ]
    },
    {
     "name": "stderr",
     "output_type": "stream",
     "text": [
      " 50%|█████     | 75/150 [02:08<02:04,  1.66s/it]"
     ]
    },
    {
     "name": "stdout",
     "output_type": "stream",
     "text": [
      "🔍 Step 1: Searching Foundation for exact match: 'unsalted butter'\n",
      "🔍 Step 2: Taking first Foundation result: 'unsalted butter'\n",
      "📄 Using first Foundation result: Butter, stick, unsalted\n",
      "✅ unsalted butter: Found - Butter, stick, unsalted\n",
      "🔍 Step 2: Taking first Foundation result: 'unsalted butter'\n",
      "📄 Using first Foundation result: Butter, stick, unsalted\n",
      "✅ unsalted butter: Found - Butter, stick, unsalted\n"
     ]
    },
    {
     "name": "stderr",
     "output_type": "stream",
     "text": [
      " 51%|█████     | 76/150 [02:09<01:58,  1.60s/it]"
     ]
    },
    {
     "name": "stdout",
     "output_type": "stream",
     "text": [
      "🔍 Step 1: Searching Foundation for exact match: 'mango'\n",
      "✅ Found exact match in Foundation: Mango, Ataulfo, peeled, raw\n",
      "✅ mango: Found - Mango, Ataulfo, peeled, raw\n",
      "✅ Found exact match in Foundation: Mango, Ataulfo, peeled, raw\n",
      "✅ mango: Found - Mango, Ataulfo, peeled, raw\n"
     ]
    },
    {
     "name": "stderr",
     "output_type": "stream",
     "text": [
      " 51%|█████▏    | 77/150 [02:11<01:51,  1.53s/it]"
     ]
    },
    {
     "name": "stdout",
     "output_type": "stream",
     "text": [
      "🔍 Step 1: Searching Foundation for exact match: 'courgette'\n",
      "🔍 Step 2: Taking first Foundation result: 'courgette'\n",
      "🔍 Step 3: Searching Survey (FNDDS) for exact match: 'courgette'\n",
      "🔍 Step 2: Taking first Foundation result: 'courgette'\n",
      "🔍 Step 3: Searching Survey (FNDDS) for exact match: 'courgette'\n",
      "❌ No nutrition data found for 'courgette'\n",
      "❌ courgette: failed\n",
      "❌ No nutrition data found for 'courgette'\n",
      "❌ courgette: failed\n"
     ]
    },
    {
     "name": "stderr",
     "output_type": "stream",
     "text": [
      " 52%|█████▏    | 78/150 [02:13<02:04,  1.73s/it]"
     ]
    },
    {
     "name": "stdout",
     "output_type": "stream",
     "text": [
      "🔍 Step 1: Searching Foundation for exact match: 'broccoli florets_x000D_'\n"
     ]
    },
    {
     "name": "stderr",
     "output_type": "stream",
     "text": [
      " 53%|█████▎    | 79/150 [02:15<02:12,  1.86s/it]"
     ]
    },
    {
     "name": "stdout",
     "output_type": "stream",
     "text": [
      "🔍 Step 2: Taking first Foundation result: 'broccoli florets_x000D_'\n",
      "📄 Using first Foundation result: Broccoli, raw\n",
      "✅ broccoli florets_x000D_: Found - Broccoli, raw\n",
      "🔍 Step 1: Searching Foundation for exact match: 'yolk'\n",
      "🔍 Step 1: Searching Foundation for exact match: 'yolk'\n",
      "✅ Found exact match in Foundation: Egg, yolk, dried\n",
      "✅ yolk: Found - Egg, yolk, dried\n",
      "✅ Found exact match in Foundation: Egg, yolk, dried\n",
      "✅ yolk: Found - Egg, yolk, dried\n"
     ]
    },
    {
     "name": "stderr",
     "output_type": "stream",
     "text": [
      " 53%|█████▎    | 80/150 [02:16<02:00,  1.72s/it]"
     ]
    },
    {
     "name": "stdout",
     "output_type": "stream",
     "text": [
      "🔍 Step 1: Searching Foundation for exact match: 'cod fillet'\n",
      "🔍 Step 2: Taking first Foundation result: 'cod fillet'\n",
      "📄 Using first Foundation result: Fish, cod, Atlantic, wild caught, raw\n",
      "❌ Error processing 'cod fillet': 'value'\n",
      "❌ cod fillet: failed\n",
      "🔍 Step 2: Taking first Foundation result: 'cod fillet'\n",
      "📄 Using first Foundation result: Fish, cod, Atlantic, wild caught, raw\n",
      "❌ Error processing 'cod fillet': 'value'\n",
      "❌ cod fillet: failed\n"
     ]
    },
    {
     "name": "stderr",
     "output_type": "stream",
     "text": [
      " 54%|█████▍    | 81/150 [02:18<01:47,  1.55s/it]"
     ]
    },
    {
     "name": "stdout",
     "output_type": "stream",
     "text": [
      "🔍 Step 1: Searching Foundation for exact match: 'dark chocolate'\n",
      "🔍 Step 2: Taking first Foundation result: 'dark chocolate'\n",
      "📄 Using first Foundation result: Cherries, sweet, dark red, raw\n",
      "✅ dark chocolate: Found - Cherries, sweet, dark red, raw\n",
      "🔍 Step 2: Taking first Foundation result: 'dark chocolate'\n",
      "📄 Using first Foundation result: Cherries, sweet, dark red, raw\n",
      "✅ dark chocolate: Found - Cherries, sweet, dark red, raw\n"
     ]
    },
    {
     "name": "stderr",
     "output_type": "stream",
     "text": [
      " 55%|█████▍    | 82/150 [02:19<01:39,  1.46s/it]"
     ]
    },
    {
     "name": "stdout",
     "output_type": "stream",
     "text": [
      "🔍 Step 1: Searching Foundation for exact match: 'baking powder'\n"
     ]
    },
    {
     "name": "stderr",
     "output_type": "stream",
     "text": [
      " 55%|█████▌    | 83/150 [02:20<01:38,  1.47s/it]"
     ]
    },
    {
     "name": "stdout",
     "output_type": "stream",
     "text": [
      "🔍 Step 2: Taking first Foundation result: 'baking powder'\n",
      "📄 Using first Foundation result: Bread, white, commercially prepared\n",
      "✅ baking powder: Found - Bread, white, commercially prepared\n",
      "🔍 Step 1: Searching Foundation for exact match: 'canned chickpeas'\n",
      "🔍 Step 1: Searching Foundation for exact match: 'canned chickpeas'\n",
      "🔍 Step 2: Taking first Foundation result: 'canned chickpeas'\n",
      "📄 Using first Foundation result: Chickpeas (garbanzo beans, bengal gram), canned, sodium added, drained and rinsed\n",
      "✅ canned chickpeas: Found - Chickpeas (garbanzo beans, bengal gram), canned, sodium added, drained and rinsed\n",
      "🔍 Step 2: Taking first Foundation result: 'canned chickpeas'\n",
      "📄 Using first Foundation result: Chickpeas (garbanzo beans, bengal gram), canned, sodium added, drained and rinsed\n",
      "✅ canned chickpeas: Found - Chickpeas (garbanzo beans, bengal gram), canned, sodium added, drained and rinsed\n"
     ]
    },
    {
     "name": "stderr",
     "output_type": "stream",
     "text": [
      " 56%|█████▌    | 84/150 [02:22<01:38,  1.50s/it]"
     ]
    },
    {
     "name": "stdout",
     "output_type": "stream",
     "text": [
      "🔍 Step 1: Searching Foundation for exact match: 'garlic clove'\n"
     ]
    },
    {
     "name": "stderr",
     "output_type": "stream",
     "text": [
      " 57%|█████▋    | 85/150 [02:23<01:30,  1.40s/it]"
     ]
    },
    {
     "name": "stdout",
     "output_type": "stream",
     "text": [
      "🔍 Step 2: Taking first Foundation result: 'garlic clove'\n",
      "📄 Using first Foundation result: Garlic, raw\n",
      "✅ garlic clove: Found - Garlic, raw\n",
      "🔍 Step 1: Searching Foundation for exact match: 'reconstituted follow-on formula'\n",
      "🔍 Step 1: Searching Foundation for exact match: 'reconstituted follow-on formula'\n",
      "🔍 Step 2: Taking first Foundation result: 'reconstituted follow-on formula'\n",
      "🔍 Step 3: Searching Survey (FNDDS) for exact match: 'reconstituted follow-on formula'\n",
      "🔍 Step 2: Taking first Foundation result: 'reconstituted follow-on formula'\n",
      "🔍 Step 3: Searching Survey (FNDDS) for exact match: 'reconstituted follow-on formula'\n",
      "🔍 Step 4: Taking first Survey (FNDDS) result: 'reconstituted follow-on formula'\n",
      "📄 Using first Survey result: Cocoa powder, not reconstituted\n",
      "✅ reconstituted follow-on formula: Found - Cocoa powder, not reconstituted\n",
      "🔍 Step 4: Taking first Survey (FNDDS) result: 'reconstituted follow-on formula'\n",
      "📄 Using first Survey result: Cocoa powder, not reconstituted\n",
      "✅ reconstituted follow-on formula: Found - Cocoa powder, not reconstituted\n"
     ]
    },
    {
     "name": "stderr",
     "output_type": "stream",
     "text": [
      " 57%|█████▋    | 86/150 [02:26<01:54,  1.79s/it]"
     ]
    },
    {
     "name": "stdout",
     "output_type": "stream",
     "text": [
      "🔍 Step 1: Searching Foundation for exact match: 'leek'\n",
      "🔍 Step 2: Taking first Foundation result: 'leek'\n",
      "📄 Using first Foundation result: Leeks, bulb and greens, root removed, raw\n",
      "✅ leek: Found - Leeks, bulb and greens, root removed, raw\n",
      "🔍 Step 2: Taking first Foundation result: 'leek'\n",
      "📄 Using first Foundation result: Leeks, bulb and greens, root removed, raw\n",
      "✅ leek: Found - Leeks, bulb and greens, root removed, raw\n"
     ]
    },
    {
     "name": "stderr",
     "output_type": "stream",
     "text": [
      " 58%|█████▊    | 87/150 [02:27<01:42,  1.63s/it]"
     ]
    },
    {
     "name": "stdout",
     "output_type": "stream",
     "text": [
      "🔍 Step 1: Searching Foundation for exact match: 'carrots'\n",
      "✅ Found exact match in Foundation: Carrots, baby, raw\n",
      "✅ carrots: Found - Carrots, baby, raw\n",
      "✅ Found exact match in Foundation: Carrots, baby, raw\n",
      "✅ carrots: Found - Carrots, baby, raw\n"
     ]
    },
    {
     "name": "stderr",
     "output_type": "stream",
     "text": [
      " 59%|█████▊    | 88/150 [02:28<01:35,  1.54s/it]"
     ]
    },
    {
     "name": "stdout",
     "output_type": "stream",
     "text": [
      "🔍 Step 1: Searching Foundation for exact match: '5 mushrooms'\n",
      "🔍 Step 2: Taking first Foundation result: '5 mushrooms'\n",
      "📄 Using first Foundation result: Mushroom, beech\n",
      "✅ 5 mushrooms: Found - Mushroom, beech\n",
      "🔍 Step 2: Taking first Foundation result: '5 mushrooms'\n",
      "📄 Using first Foundation result: Mushroom, beech\n",
      "✅ 5 mushrooms: Found - Mushroom, beech\n"
     ]
    },
    {
     "name": "stderr",
     "output_type": "stream",
     "text": [
      " 59%|█████▉    | 89/150 [02:30<01:35,  1.56s/it]"
     ]
    },
    {
     "name": "stdout",
     "output_type": "stream",
     "text": [
      "🔍 Step 1: Searching Foundation for exact match: 'white rice (1 portion)'\n",
      "🔍 Step 2: Taking first Foundation result: 'white rice (1 portion)'\n",
      "📄 Using first Foundation result: Flour, rice, white, unenriched\n",
      "✅ white rice (1 portion): Found - Flour, rice, white, unenriched\n",
      "🔍 Step 2: Taking first Foundation result: 'white rice (1 portion)'\n",
      "📄 Using first Foundation result: Flour, rice, white, unenriched\n",
      "✅ white rice (1 portion): Found - Flour, rice, white, unenriched\n"
     ]
    },
    {
     "name": "stderr",
     "output_type": "stream",
     "text": [
      " 60%|██████    | 90/150 [02:32<01:40,  1.68s/it]"
     ]
    },
    {
     "name": "stdout",
     "output_type": "stream",
     "text": [
      "🔍 Step 1: Searching Foundation for exact match: 'full fat hard cheese'\n",
      "🔍 Step 2: Taking first Foundation result: 'full fat hard cheese'\n",
      "📄 Using first Foundation result: Cream cheese, full fat, block\n",
      "❌ Error processing 'full fat hard cheese': 'value'\n",
      "❌ full fat hard cheese: failed\n",
      "🔍 Step 2: Taking first Foundation result: 'full fat hard cheese'\n",
      "📄 Using first Foundation result: Cream cheese, full fat, block\n",
      "❌ Error processing 'full fat hard cheese': 'value'\n",
      "❌ full fat hard cheese: failed\n"
     ]
    },
    {
     "name": "stderr",
     "output_type": "stream",
     "text": [
      " 61%|██████    | 91/150 [02:34<01:41,  1.72s/it]"
     ]
    },
    {
     "name": "stdout",
     "output_type": "stream",
     "text": [
      "🔍 Step 1: Searching Foundation for exact match: 'self-raising flour'\n"
     ]
    },
    {
     "name": "stderr",
     "output_type": "stream",
     "text": [
      " 61%|██████▏   | 92/150 [02:35<01:38,  1.71s/it]"
     ]
    },
    {
     "name": "stdout",
     "output_type": "stream",
     "text": [
      "🔍 Step 2: Taking first Foundation result: 'self-raising flour'\n",
      "📄 Using first Foundation result: Crustaceans, shrimp, farm raised, raw\n",
      "❌ Error processing 'self-raising flour': 'value'\n",
      "❌ self-raising flour: failed\n",
      "🔍 Step 1: Searching Foundation for exact match: 'Rice'\n",
      "🔍 Step 1: Searching Foundation for exact match: 'Rice'\n",
      "✅ Found exact match in Foundation: Flour, rice, brown\n",
      "✅ Rice: Found - Flour, rice, brown\n",
      "✅ Found exact match in Foundation: Flour, rice, brown\n",
      "✅ Rice: Found - Flour, rice, brown\n"
     ]
    },
    {
     "name": "stderr",
     "output_type": "stream",
     "text": [
      " 62%|██████▏   | 93/150 [02:37<01:31,  1.61s/it]"
     ]
    },
    {
     "name": "stdout",
     "output_type": "stream",
     "text": [
      "🔍 Step 1: Searching Foundation for exact match: 'plain yogurt'\n",
      "🔍 Step 2: Taking first Foundation result: 'plain yogurt'\n",
      "📄 Using first Foundation result: Yogurt, plain, nonfat\n",
      "❌ Error processing 'plain yogurt': 'value'\n",
      "❌ plain yogurt: failed\n",
      "🔍 Step 2: Taking first Foundation result: 'plain yogurt'\n",
      "📄 Using first Foundation result: Yogurt, plain, nonfat\n",
      "❌ Error processing 'plain yogurt': 'value'\n",
      "❌ plain yogurt: failed\n"
     ]
    },
    {
     "name": "stderr",
     "output_type": "stream",
     "text": [
      " 63%|██████▎   | 94/150 [02:38<01:31,  1.63s/it]"
     ]
    },
    {
     "name": "stdout",
     "output_type": "stream",
     "text": [
      "🔍 Step 1: Searching Foundation for exact match: 'chicken breast fillet'\n",
      "🔍 Step 2: Taking first Foundation result: 'chicken breast fillet'\n",
      "📄 Using first Foundation result: Chicken, breast, boneless, skinless, raw\n",
      "✅ chicken breast fillet: Found - Chicken, breast, boneless, skinless, raw\n",
      "🔍 Step 2: Taking first Foundation result: 'chicken breast fillet'\n",
      "📄 Using first Foundation result: Chicken, breast, boneless, skinless, raw\n",
      "✅ chicken breast fillet: Found - Chicken, breast, boneless, skinless, raw\n"
     ]
    },
    {
     "name": "stderr",
     "output_type": "stream",
     "text": [
      " 63%|██████▎   | 95/150 [02:40<01:27,  1.60s/it]"
     ]
    },
    {
     "name": "stdout",
     "output_type": "stream",
     "text": [
      "🔍 Step 1: Searching Foundation for exact match: 'Egg'\n",
      "✅ Found exact match in Foundation: Eggs, Grade A, Large, egg white\n",
      "✅ Egg: Found - Eggs, Grade A, Large, egg white\n",
      "✅ Found exact match in Foundation: Eggs, Grade A, Large, egg white\n",
      "✅ Egg: Found - Eggs, Grade A, Large, egg white\n"
     ]
    },
    {
     "name": "stderr",
     "output_type": "stream",
     "text": [
      " 64%|██████▍   | 96/150 [02:42<01:29,  1.65s/it]"
     ]
    },
    {
     "name": "stdout",
     "output_type": "stream",
     "text": [
      "🔍 Step 1: Searching Foundation for exact match: 'full-fat cream cheese'\n",
      "🔍 Step 2: Taking first Foundation result: 'full-fat cream cheese'\n",
      "📄 Using first Foundation result: Cream cheese, full fat, block\n",
      "❌ Error processing 'full-fat cream cheese': 'value'\n",
      "❌ full-fat cream cheese: failed\n",
      "🔍 Step 2: Taking first Foundation result: 'full-fat cream cheese'\n",
      "📄 Using first Foundation result: Cream cheese, full fat, block\n",
      "❌ Error processing 'full-fat cream cheese': 'value'\n",
      "❌ full-fat cream cheese: failed\n"
     ]
    },
    {
     "name": "stderr",
     "output_type": "stream",
     "text": [
      " 65%|██████▍   | 97/150 [02:44<01:30,  1.71s/it]"
     ]
    },
    {
     "name": "stdout",
     "output_type": "stream",
     "text": [
      "🔍 Step 1: Searching Foundation for exact match: 'tomato purée'\n"
     ]
    },
    {
     "name": "stderr",
     "output_type": "stream",
     "text": [
      " 65%|██████▌   | 98/150 [02:45<01:25,  1.65s/it]"
     ]
    },
    {
     "name": "stdout",
     "output_type": "stream",
     "text": [
      "🔍 Step 2: Taking first Foundation result: 'tomato purée'\n",
      "📄 Using first Foundation result: Tomato, roma\n",
      "✅ tomato purée: Found - Tomato, roma\n",
      "🔍 Step 1: Searching Foundation for exact match: 'plain flour'\n",
      "🔍 Step 1: Searching Foundation for exact match: 'plain flour'\n",
      "🔍 Step 2: Taking first Foundation result: 'plain flour'\n",
      "📄 Using first Foundation result: Flour, 00\n",
      "✅ plain flour: Found - Flour, 00\n",
      "🔍 Step 2: Taking first Foundation result: 'plain flour'\n",
      "📄 Using first Foundation result: Flour, 00\n",
      "✅ plain flour: Found - Flour, 00\n"
     ]
    },
    {
     "name": "stderr",
     "output_type": "stream",
     "text": [
      " 66%|██████▌   | 99/150 [02:47<01:23,  1.65s/it]"
     ]
    },
    {
     "name": "stdout",
     "output_type": "stream",
     "text": [
      "🔍 Step 1: Searching Foundation for exact match: 'grated carrot'\n",
      "🔍 Step 2: Taking first Foundation result: 'grated carrot'\n",
      "📄 Using first Foundation result: Cheese, parmesan, grated\n",
      "✅ grated carrot: Found - Cheese, parmesan, grated\n",
      "🔍 Step 2: Taking first Foundation result: 'grated carrot'\n",
      "📄 Using first Foundation result: Cheese, parmesan, grated\n",
      "✅ grated carrot: Found - Cheese, parmesan, grated\n"
     ]
    },
    {
     "name": "stderr",
     "output_type": "stream",
     "text": [
      " 67%|██████▋   | 100/150 [02:48<01:19,  1.58s/it]"
     ]
    },
    {
     "name": "stdout",
     "output_type": "stream",
     "text": [
      "🔍 Step 1: Searching Foundation for exact match: 'ginger'\n",
      "🔍 Step 2: Taking first Foundation result: 'ginger'\n",
      "🔍 Step 3: Searching Survey (FNDDS) for exact match: 'ginger'\n",
      "🔍 Step 2: Taking first Foundation result: 'ginger'\n",
      "🔍 Step 3: Searching Survey (FNDDS) for exact match: 'ginger'\n",
      "✅ Found exact match in Survey: Tea, ginger\n",
      "✅ ginger: Found - Tea, ginger\n",
      "✅ Found exact match in Survey: Tea, ginger\n",
      "✅ ginger: Found - Tea, ginger\n"
     ]
    },
    {
     "name": "stderr",
     "output_type": "stream",
     "text": [
      " 67%|██████▋   | 101/150 [02:51<01:31,  1.87s/it]"
     ]
    },
    {
     "name": "stdout",
     "output_type": "stream",
     "text": [
      "🔍 Step 1: Searching Foundation for exact match: 'Kalabasa fruit'\n",
      "🔍 Step 2: Taking first Foundation result: 'Kalabasa fruit'\n",
      "📄 Using first Foundation result: Apple juice, with added vitamin C, from concentrate, shelf stable\n",
      "✅ Kalabasa fruit: Found - Apple juice, with added vitamin C, from concentrate, shelf stable\n",
      "🔍 Step 2: Taking first Foundation result: 'Kalabasa fruit'\n",
      "📄 Using first Foundation result: Apple juice, with added vitamin C, from concentrate, shelf stable\n",
      "✅ Kalabasa fruit: Found - Apple juice, with added vitamin C, from concentrate, shelf stable\n"
     ]
    },
    {
     "name": "stderr",
     "output_type": "stream",
     "text": [
      " 68%|██████▊   | 102/150 [02:53<01:28,  1.85s/it]"
     ]
    },
    {
     "name": "stdout",
     "output_type": "stream",
     "text": [
      "🔍 Step 1: Searching Foundation for exact match: 'cauliflower'\n",
      "✅ Found exact match in Foundation: Cauliflower, raw\n",
      "✅ cauliflower: Found - Cauliflower, raw\n",
      "✅ Found exact match in Foundation: Cauliflower, raw\n",
      "✅ cauliflower: Found - Cauliflower, raw\n"
     ]
    },
    {
     "name": "stderr",
     "output_type": "stream",
     "text": [
      " 69%|██████▊   | 103/150 [02:54<01:19,  1.69s/it]"
     ]
    },
    {
     "name": "stdout",
     "output_type": "stream",
     "text": [
      "🔍 Step 1: Searching Foundation for exact match: 'turkey escalope'\n",
      "🔍 Step 2: Taking first Foundation result: 'turkey escalope'\n",
      "📄 Using first Foundation result: Sausage, turkey, breakfast links, mild, raw\n",
      "✅ turkey escalope: Found - Sausage, turkey, breakfast links, mild, raw\n",
      "🔍 Step 2: Taking first Foundation result: 'turkey escalope'\n",
      "📄 Using first Foundation result: Sausage, turkey, breakfast links, mild, raw\n",
      "✅ turkey escalope: Found - Sausage, turkey, breakfast links, mild, raw\n"
     ]
    },
    {
     "name": "stderr",
     "output_type": "stream",
     "text": [
      " 69%|██████▉   | 104/150 [02:55<01:14,  1.63s/it]"
     ]
    },
    {
     "name": "stdout",
     "output_type": "stream",
     "text": [
      "🔍 Step 1: Searching Foundation for exact match: 'fruit'\n"
     ]
    },
    {
     "name": "stderr",
     "output_type": "stream",
     "text": [
      " 70%|███████   | 105/150 [02:57<01:12,  1.60s/it]"
     ]
    },
    {
     "name": "stdout",
     "output_type": "stream",
     "text": [
      "🔍 Step 2: Taking first Foundation result: 'fruit'\n",
      "📄 Using first Foundation result: Apple juice, with added vitamin C, from concentrate, shelf stable\n",
      "✅ fruit: Found - Apple juice, with added vitamin C, from concentrate, shelf stable\n",
      "🔍 Step 1: Searching Foundation for exact match: 'your baby's usual milk_x000D_'\n",
      "🔍 Step 1: Searching Foundation for exact match: 'your baby's usual milk_x000D_'\n",
      "🔍 Step 2: Taking first Foundation result: 'your baby's usual milk_x000D_'\n",
      "📄 Using first Foundation result: Spinach, baby\n",
      "✅ your baby's usual milk_x000D_: Found - Spinach, baby\n",
      "🔍 Step 2: Taking first Foundation result: 'your baby's usual milk_x000D_'\n",
      "📄 Using first Foundation result: Spinach, baby\n",
      "✅ your baby's usual milk_x000D_: Found - Spinach, baby\n"
     ]
    },
    {
     "name": "stderr",
     "output_type": "stream",
     "text": [
      " 71%|███████   | 106/150 [02:58<01:08,  1.55s/it]"
     ]
    },
    {
     "name": "stdout",
     "output_type": "stream",
     "text": [
      "🔍 Step 1: Searching Foundation for exact match: 'measuring scoops of follow-on formula'\n",
      "🔍 Step 2: Taking first Foundation result: 'measuring scoops of follow-on formula'\n",
      "🔍 Step 3: Searching Survey (FNDDS) for exact match: 'measuring scoops of follow-on formula'\n",
      "🔍 Step 2: Taking first Foundation result: 'measuring scoops of follow-on formula'\n",
      "🔍 Step 3: Searching Survey (FNDDS) for exact match: 'measuring scoops of follow-on formula'\n",
      "🔍 Step 4: Taking first Survey (FNDDS) result: 'measuring scoops of follow-on formula'\n",
      "📄 Using first Survey result: Infant formula, NFS\n",
      "✅ measuring scoops of follow-on formula: Found - Infant formula, NFS\n",
      "🔍 Step 4: Taking first Survey (FNDDS) result: 'measuring scoops of follow-on formula'\n",
      "📄 Using first Survey result: Infant formula, NFS\n",
      "✅ measuring scoops of follow-on formula: Found - Infant formula, NFS\n"
     ]
    },
    {
     "name": "stderr",
     "output_type": "stream",
     "text": [
      " 71%|███████▏  | 107/150 [03:01<01:21,  1.90s/it]"
     ]
    },
    {
     "name": "stdout",
     "output_type": "stream",
     "text": [
      "🔍 Step 1: Searching Foundation for exact match: 'piece of garlic'\n",
      "🔍 Step 2: Taking first Foundation result: 'piece of garlic'\n",
      "📄 Using first Foundation result: Garlic, raw\n",
      "✅ piece of garlic: Found - Garlic, raw\n",
      "🔍 Step 2: Taking first Foundation result: 'piece of garlic'\n",
      "📄 Using first Foundation result: Garlic, raw\n",
      "✅ piece of garlic: Found - Garlic, raw\n"
     ]
    },
    {
     "name": "stderr",
     "output_type": "stream",
     "text": [
      " 72%|███████▏  | 108/150 [03:02<01:10,  1.67s/it]"
     ]
    },
    {
     "name": "stdout",
     "output_type": "stream",
     "text": [
      "🔍 Step 1: Searching Foundation for exact match: 'grated parmesan'\n",
      "🔍 Step 2: Taking first Foundation result: 'grated parmesan'\n",
      "📄 Using first Foundation result: Cheese, parmesan, grated\n",
      "✅ grated parmesan: Found - Cheese, parmesan, grated\n",
      "🔍 Step 2: Taking first Foundation result: 'grated parmesan'\n",
      "📄 Using first Foundation result: Cheese, parmesan, grated\n",
      "✅ grated parmesan: Found - Cheese, parmesan, grated\n"
     ]
    },
    {
     "name": "stderr",
     "output_type": "stream",
     "text": [
      " 73%|███████▎  | 109/150 [03:04<01:04,  1.58s/it]"
     ]
    },
    {
     "name": "stdout",
     "output_type": "stream",
     "text": [
      "🔍 Step 1: Searching Foundation for exact match: 'cooked ham'\n",
      "🔍 Step 2: Taking first Foundation result: 'cooked ham'\n",
      "📄 Using first Foundation result: Ham, sliced, restaurant\n",
      "✅ cooked ham: Found - Ham, sliced, restaurant\n",
      "🔍 Step 2: Taking first Foundation result: 'cooked ham'\n",
      "📄 Using first Foundation result: Ham, sliced, restaurant\n",
      "✅ cooked ham: Found - Ham, sliced, restaurant\n"
     ]
    },
    {
     "name": "stderr",
     "output_type": "stream",
     "text": [
      " 73%|███████▎  | 110/150 [03:05<01:06,  1.65s/it]"
     ]
    },
    {
     "name": "stdout",
     "output_type": "stream",
     "text": [
      "🔍 Step 1: Searching Foundation for exact match: 'bananas'\n",
      "✅ Found exact match in Foundation: Bananas, overripe, raw\n",
      "✅ bananas: Found - Bananas, overripe, raw\n",
      "✅ Found exact match in Foundation: Bananas, overripe, raw\n",
      "✅ bananas: Found - Bananas, overripe, raw\n"
     ]
    },
    {
     "name": "stderr",
     "output_type": "stream",
     "text": [
      " 74%|███████▍  | 111/150 [03:07<00:59,  1.53s/it]"
     ]
    },
    {
     "name": "stdout",
     "output_type": "stream",
     "text": [
      "🔍 Step 1: Searching Foundation for exact match: 'minced chicken'\n",
      "🔍 Step 2: Taking first Foundation result: 'minced chicken'\n",
      "📄 Using first Foundation result: Chicken, ground, with additives, raw\n",
      "✅ minced chicken: Found - Chicken, ground, with additives, raw\n",
      "🔍 Step 2: Taking first Foundation result: 'minced chicken'\n",
      "📄 Using first Foundation result: Chicken, ground, with additives, raw\n",
      "✅ minced chicken: Found - Chicken, ground, with additives, raw\n"
     ]
    },
    {
     "name": "stderr",
     "output_type": "stream",
     "text": [
      " 75%|███████▍  | 112/150 [03:08<00:58,  1.54s/it]"
     ]
    },
    {
     "name": "stdout",
     "output_type": "stream",
     "text": [
      "🔍 Step 1: Searching Foundation for exact match: 'frozen peas (25g)'\n",
      "🔍 Step 2: Taking first Foundation result: 'frozen peas (25g)'\n",
      "📄 Using first Foundation result: Blackeye pea, dry\n",
      "✅ frozen peas (25g): Found - Blackeye pea, dry\n",
      "🔍 Step 2: Taking first Foundation result: 'frozen peas (25g)'\n",
      "📄 Using first Foundation result: Blackeye pea, dry\n",
      "✅ frozen peas (25g): Found - Blackeye pea, dry\n"
     ]
    },
    {
     "name": "stderr",
     "output_type": "stream",
     "text": [
      " 75%|███████▌  | 113/150 [03:10<00:56,  1.52s/it]"
     ]
    },
    {
     "name": "stdout",
     "output_type": "stream",
     "text": [
      "🔍 Step 1: Searching Foundation for exact match: 'natural vanilla extract'\n",
      "🔍 Step 2: Taking first Foundation result: 'natural vanilla extract'\n",
      "🔍 Step 3: Searching Survey (FNDDS) for exact match: 'natural vanilla extract'\n",
      "🔍 Step 2: Taking first Foundation result: 'natural vanilla extract'\n",
      "🔍 Step 3: Searching Survey (FNDDS) for exact match: 'natural vanilla extract'\n",
      "🔍 Step 4: Taking first Survey (FNDDS) result: 'natural vanilla extract'\n",
      "📄 Using first Survey result: Yeast extract spread\n",
      "✅ natural vanilla extract: Found - Yeast extract spread\n",
      "🔍 Step 4: Taking first Survey (FNDDS) result: 'natural vanilla extract'\n",
      "📄 Using first Survey result: Yeast extract spread\n",
      "✅ natural vanilla extract: Found - Yeast extract spread\n"
     ]
    },
    {
     "name": "stderr",
     "output_type": "stream",
     "text": [
      " 76%|███████▌  | 114/150 [03:12<01:06,  1.84s/it]"
     ]
    },
    {
     "name": "stdout",
     "output_type": "stream",
     "text": [
      "🔍 Step 1: Searching Foundation for exact match: 'ripe banana'\n",
      "🔍 Step 2: Taking first Foundation result: 'ripe banana'\n",
      "📄 Using first Foundation result: Bananas, ripe and slightly ripe, raw\n",
      "✅ ripe banana: Found - Bananas, ripe and slightly ripe, raw\n",
      "🔍 Step 2: Taking first Foundation result: 'ripe banana'\n",
      "📄 Using first Foundation result: Bananas, ripe and slightly ripe, raw\n",
      "✅ ripe banana: Found - Bananas, ripe and slightly ripe, raw\n"
     ]
    },
    {
     "name": "stderr",
     "output_type": "stream",
     "text": [
      " 77%|███████▋  | 115/150 [03:14<00:59,  1.70s/it]"
     ]
    },
    {
     "name": "stdout",
     "output_type": "stream",
     "text": [
      "🔍 Step 1: Searching Foundation for exact match: 'white pasta'\n",
      "🔍 Step 2: Taking first Foundation result: 'white pasta'\n",
      "📄 Using first Foundation result: Egg, white, dried\n",
      "✅ white pasta: Found - Egg, white, dried\n",
      "🔍 Step 2: Taking first Foundation result: 'white pasta'\n",
      "📄 Using first Foundation result: Egg, white, dried\n",
      "✅ white pasta: Found - Egg, white, dried\n"
     ]
    },
    {
     "name": "stderr",
     "output_type": "stream",
     "text": [
      " 77%|███████▋  | 116/150 [03:15<00:58,  1.72s/it]"
     ]
    },
    {
     "name": "stdout",
     "output_type": "stream",
     "text": [
      "🔍 Step 1: Searching Foundation for exact match: 'tomato puree'\n",
      "🔍 Step 2: Taking first Foundation result: 'tomato puree'\n",
      "📄 Using first Foundation result: Tomato, puree, canned\n",
      "✅ tomato puree: Found - Tomato, puree, canned\n",
      "🔍 Step 2: Taking first Foundation result: 'tomato puree'\n",
      "📄 Using first Foundation result: Tomato, puree, canned\n",
      "✅ tomato puree: Found - Tomato, puree, canned\n"
     ]
    },
    {
     "name": "stderr",
     "output_type": "stream",
     "text": [
      " 78%|███████▊  | 117/150 [03:17<00:53,  1.64s/it]"
     ]
    },
    {
     "name": "stdout",
     "output_type": "stream",
     "text": [
      "🔍 Step 1: Searching Foundation for exact match: 'slices red pepper'\n",
      "🔍 Step 2: Taking first Foundation result: 'slices red pepper'\n",
      "📄 Using first Foundation result: Peppers, bell, red, raw\n",
      "✅ slices red pepper: Found - Peppers, bell, red, raw\n",
      "🔍 Step 2: Taking first Foundation result: 'slices red pepper'\n",
      "📄 Using first Foundation result: Peppers, bell, red, raw\n",
      "✅ slices red pepper: Found - Peppers, bell, red, raw\n"
     ]
    },
    {
     "name": "stderr",
     "output_type": "stream",
     "text": [
      " 79%|███████▊  | 118/150 [03:18<00:52,  1.64s/it]"
     ]
    },
    {
     "name": "stdout",
     "output_type": "stream",
     "text": [
      "🔍 Step 1: Searching Foundation for exact match: 'dried herbs'\n",
      "🔍 Step 2: Taking first Foundation result: 'dried herbs'\n",
      "📄 Using first Foundation result: Egg, white, dried\n",
      "✅ dried herbs: Found - Egg, white, dried\n",
      "🔍 Step 2: Taking first Foundation result: 'dried herbs'\n",
      "📄 Using first Foundation result: Egg, white, dried\n",
      "✅ dried herbs: Found - Egg, white, dried\n"
     ]
    },
    {
     "name": "stderr",
     "output_type": "stream",
     "text": [
      " 79%|███████▉  | 119/150 [03:20<00:49,  1.61s/it]"
     ]
    },
    {
     "name": "stdout",
     "output_type": "stream",
     "text": [
      "🔍 Step 1: Searching Foundation for exact match: 'fresh parsley (1 tbsp'\n",
      "❌ API request failed: 500\n",
      "🔍 Step 2: Taking first Foundation result: 'fresh parsley (1 tbsp'\n",
      "🔍 Step 3: Searching Survey (FNDDS) for exact match: 'fresh parsley (1 tbsp'\n",
      "❌ API request failed: 500\n",
      "🔍 Step 2: Taking first Foundation result: 'fresh parsley (1 tbsp'\n",
      "🔍 Step 3: Searching Survey (FNDDS) for exact match: 'fresh parsley (1 tbsp'\n",
      "❌ API request failed: 500\n",
      "❌ No nutrition data found for 'fresh parsley (1 tbsp'\n",
      "❌ fresh parsley (1 tbsp: failed\n",
      "❌ API request failed: 500\n",
      "❌ No nutrition data found for 'fresh parsley (1 tbsp'\n",
      "❌ fresh parsley (1 tbsp: failed\n"
     ]
    },
    {
     "name": "stderr",
     "output_type": "stream",
     "text": [
      " 80%|████████  | 120/150 [03:22<00:55,  1.84s/it]"
     ]
    },
    {
     "name": "stdout",
     "output_type": "stream",
     "text": [
      "🔍 Step 1: Searching Foundation for exact match: 'clove garlic'\n",
      "🔍 Step 2: Taking first Foundation result: 'clove garlic'\n",
      "📄 Using first Foundation result: Garlic, raw\n",
      "✅ clove garlic: Found - Garlic, raw\n",
      "🔍 Step 2: Taking first Foundation result: 'clove garlic'\n",
      "📄 Using first Foundation result: Garlic, raw\n",
      "✅ clove garlic: Found - Garlic, raw\n"
     ]
    },
    {
     "name": "stderr",
     "output_type": "stream",
     "text": [
      " 81%|████████  | 121/150 [03:24<00:47,  1.64s/it]"
     ]
    },
    {
     "name": "stdout",
     "output_type": "stream",
     "text": [
      "🔍 Step 1: Searching Foundation for exact match: 'vegetable oil spread (1 portion)'\n",
      "🔍 Step 2: Taking first Foundation result: 'vegetable oil spread (1 portion)'\n",
      "📄 Using first Foundation result: Oil, canola\n",
      "✅ vegetable oil spread (1 portion): Found - Oil, canola\n",
      "🔍 Step 2: Taking first Foundation result: 'vegetable oil spread (1 portion)'\n",
      "📄 Using first Foundation result: Oil, canola\n",
      "✅ vegetable oil spread (1 portion): Found - Oil, canola\n"
     ]
    },
    {
     "name": "stderr",
     "output_type": "stream",
     "text": [
      " 81%|████████▏ | 122/150 [03:25<00:47,  1.70s/it]"
     ]
    },
    {
     "name": "stdout",
     "output_type": "stream",
     "text": [
      "🔍 Step 1: Searching Foundation for exact match: 'dried red lentils'\n",
      "🔍 Step 2: Taking first Foundation result: 'dried red lentils'\n",
      "📄 Using first Foundation result: Lentils, dry\n",
      "✅ dried red lentils: Found - Lentils, dry\n",
      "🔍 Step 2: Taking first Foundation result: 'dried red lentils'\n",
      "📄 Using first Foundation result: Lentils, dry\n",
      "✅ dried red lentils: Found - Lentils, dry\n"
     ]
    },
    {
     "name": "stderr",
     "output_type": "stream",
     "text": [
      " 82%|████████▏ | 123/150 [03:27<00:44,  1.65s/it]"
     ]
    },
    {
     "name": "stdout",
     "output_type": "stream",
     "text": [
      "🔍 Step 1: Searching Foundation for exact match: 'white pasta (1 portion)'\n",
      "🔍 Step 2: Taking first Foundation result: 'white pasta (1 portion)'\n",
      "📄 Using first Foundation result: Egg, white, dried\n",
      "✅ white pasta (1 portion): Found - Egg, white, dried\n",
      "🔍 Step 2: Taking first Foundation result: 'white pasta (1 portion)'\n",
      "📄 Using first Foundation result: Egg, white, dried\n",
      "✅ white pasta (1 portion): Found - Egg, white, dried\n"
     ]
    },
    {
     "name": "stderr",
     "output_type": "stream",
     "text": [
      " 83%|████████▎ | 124/150 [03:29<00:45,  1.74s/it]"
     ]
    },
    {
     "name": "stdout",
     "output_type": "stream",
     "text": [
      "🔍 Step 1: Searching Foundation for exact match: 'diced beef'\n",
      "🔍 Step 2: Taking first Foundation result: 'diced beef'\n",
      "📄 Using first Foundation result: Tomatoes, canned, red, ripe, diced\n",
      "✅ diced beef: Found - Tomatoes, canned, red, ripe, diced\n",
      "🔍 Step 2: Taking first Foundation result: 'diced beef'\n",
      "📄 Using first Foundation result: Tomatoes, canned, red, ripe, diced\n",
      "✅ diced beef: Found - Tomatoes, canned, red, ripe, diced\n"
     ]
    },
    {
     "name": "stderr",
     "output_type": "stream",
     "text": [
      " 83%|████████▎ | 125/150 [03:31<00:44,  1.76s/it]"
     ]
    },
    {
     "name": "stdout",
     "output_type": "stream",
     "text": [
      "🔍 Step 1: Searching Foundation for exact match: 'fillet'\n",
      "🔍 Step 2: Taking first Foundation result: 'fillet'\n",
      "🔍 Step 3: Searching Survey (FNDDS) for exact match: 'fillet'\n",
      "🔍 Step 2: Taking first Foundation result: 'fillet'\n",
      "🔍 Step 3: Searching Survey (FNDDS) for exact match: 'fillet'\n",
      "✅ Found exact match in Survey: Vegetarian, fillet\n",
      "✅ fillet: Found - Vegetarian, fillet\n",
      "✅ Found exact match in Survey: Vegetarian, fillet\n",
      "✅ fillet: Found - Vegetarian, fillet\n"
     ]
    },
    {
     "name": "stderr",
     "output_type": "stream",
     "text": [
      " 84%|████████▍ | 126/150 [03:33<00:48,  2.02s/it]"
     ]
    },
    {
     "name": "stdout",
     "output_type": "stream",
     "text": [
      "🔍 Step 1: Searching Foundation for exact match: 'ground turmeric'\n",
      "🔍 Step 2: Taking first Foundation result: 'ground turmeric'\n",
      "📄 Using first Foundation result: Flaxseed, ground\n",
      "✅ ground turmeric: Found - Flaxseed, ground\n",
      "🔍 Step 2: Taking first Foundation result: 'ground turmeric'\n",
      "📄 Using first Foundation result: Flaxseed, ground\n",
      "✅ ground turmeric: Found - Flaxseed, ground\n"
     ]
    },
    {
     "name": "stderr",
     "output_type": "stream",
     "text": [
      " 85%|████████▍ | 127/150 [03:35<00:42,  1.87s/it]"
     ]
    },
    {
     "name": "stdout",
     "output_type": "stream",
     "text": [
      "🔍 Step 1: Searching Foundation for exact match: 'whole milk'\n",
      "✅ Found exact match in Foundation: Cheese, ricotta, whole milk\n",
      "✅ whole milk: Found - Cheese, ricotta, whole milk\n",
      "✅ Found exact match in Foundation: Cheese, ricotta, whole milk\n",
      "✅ whole milk: Found - Cheese, ricotta, whole milk\n"
     ]
    },
    {
     "name": "stderr",
     "output_type": "stream",
     "text": [
      " 85%|████████▌ | 128/150 [03:37<00:40,  1.83s/it]"
     ]
    },
    {
     "name": "stdout",
     "output_type": "stream",
     "text": [
      "🔍 Step 1: Searching Foundation for exact match: 'sesame oil'\n"
     ]
    },
    {
     "name": "stderr",
     "output_type": "stream",
     "text": [
      " 86%|████████▌ | 129/150 [03:38<00:37,  1.78s/it]"
     ]
    },
    {
     "name": "stdout",
     "output_type": "stream",
     "text": [
      "🔍 Step 2: Taking first Foundation result: 'sesame oil'\n",
      "📄 Using first Foundation result: Sesame butter, creamy\n",
      "✅ sesame oil: Found - Sesame butter, creamy\n",
      "🔍 Step 1: Searching Foundation for exact match: 'mild curry powder'\n",
      "🔍 Step 1: Searching Foundation for exact match: 'mild curry powder'\n",
      "🔍 Step 2: Taking first Foundation result: 'mild curry powder'\n",
      "📄 Using first Foundation result: Sausage, turkey, breakfast links, mild, raw\n",
      "✅ mild curry powder: Found - Sausage, turkey, breakfast links, mild, raw\n",
      "🔍 Step 2: Taking first Foundation result: 'mild curry powder'\n",
      "📄 Using first Foundation result: Sausage, turkey, breakfast links, mild, raw\n",
      "✅ mild curry powder: Found - Sausage, turkey, breakfast links, mild, raw\n"
     ]
    },
    {
     "name": "stderr",
     "output_type": "stream",
     "text": [
      " 87%|████████▋ | 130/150 [03:40<00:34,  1.72s/it]"
     ]
    },
    {
     "name": "stdout",
     "output_type": "stream",
     "text": [
      "🔍 Step 1: Searching Foundation for exact match: '(20g) porridge oats'\n",
      "🔍 Step 2: Taking first Foundation result: '(20g) porridge oats'\n",
      "📄 Using first Foundation result: Flour, oat, whole grain\n",
      "✅ (20g) porridge oats: Found - Flour, oat, whole grain\n",
      "🔍 Step 2: Taking first Foundation result: '(20g) porridge oats'\n",
      "📄 Using first Foundation result: Flour, oat, whole grain\n",
      "✅ (20g) porridge oats: Found - Flour, oat, whole grain\n"
     ]
    },
    {
     "name": "stderr",
     "output_type": "stream",
     "text": [
      " 87%|████████▋ | 131/150 [03:41<00:31,  1.64s/it]"
     ]
    },
    {
     "name": "stdout",
     "output_type": "stream",
     "text": [
      "🔍 Step 1: Searching Foundation for exact match: 'orange juice'\n",
      "✅ Found exact match in Foundation: Orange juice, no pulp, not fortified, from concentrate, refrigerated\n",
      "✅ orange juice: Found - Orange juice, no pulp, not fortified, from concentrate, refrigerated\n",
      "✅ Found exact match in Foundation: Orange juice, no pulp, not fortified, from concentrate, refrigerated\n",
      "✅ orange juice: Found - Orange juice, no pulp, not fortified, from concentrate, refrigerated\n"
     ]
    },
    {
     "name": "stderr",
     "output_type": "stream",
     "text": [
      " 88%|████████▊ | 132/150 [03:43<00:29,  1.63s/it]"
     ]
    },
    {
     "name": "stdout",
     "output_type": "stream",
     "text": [
      "🔍 Step 1: Searching Foundation for exact match: 'frozen berries'\n",
      "🔍 Step 2: Taking first Foundation result: 'frozen berries'\n",
      "📄 Using first Foundation result: Carrots, frozen, unprepared\n",
      "✅ frozen berries: Found - Carrots, frozen, unprepared\n",
      "🔍 Step 2: Taking first Foundation result: 'frozen berries'\n",
      "📄 Using first Foundation result: Carrots, frozen, unprepared\n",
      "✅ frozen berries: Found - Carrots, frozen, unprepared\n"
     ]
    },
    {
     "name": "stderr",
     "output_type": "stream",
     "text": [
      " 89%|████████▊ | 133/150 [03:44<00:26,  1.58s/it]"
     ]
    },
    {
     "name": "stdout",
     "output_type": "stream",
     "text": [
      "🔍 Step 1: Searching Foundation for exact match: 'spaghetti (1 portion)'\n",
      "🔍 Step 2: Taking first Foundation result: 'spaghetti (1 portion)'\n",
      "📄 Using first Foundation result: Squash, spaghetti, peeled, seeded, raw\n",
      "✅ spaghetti (1 portion): Found - Squash, spaghetti, peeled, seeded, raw\n",
      "🔍 Step 2: Taking first Foundation result: 'spaghetti (1 portion)'\n",
      "📄 Using first Foundation result: Squash, spaghetti, peeled, seeded, raw\n",
      "✅ spaghetti (1 portion): Found - Squash, spaghetti, peeled, seeded, raw\n"
     ]
    },
    {
     "name": "stderr",
     "output_type": "stream",
     "text": [
      " 89%|████████▉ | 134/150 [03:46<00:25,  1.57s/it]"
     ]
    },
    {
     "name": "stdout",
     "output_type": "stream",
     "text": [
      "🔍 Step 1: Searching Foundation for exact match: 'tinned sweetcorn'\n",
      "🔍 Step 2: Taking first Foundation result: 'tinned sweetcorn'\n",
      "🔍 Step 3: Searching Survey (FNDDS) for exact match: 'tinned sweetcorn'\n",
      "🔍 Step 2: Taking first Foundation result: 'tinned sweetcorn'\n",
      "🔍 Step 3: Searching Survey (FNDDS) for exact match: 'tinned sweetcorn'\n",
      "❌ No nutrition data found for 'tinned sweetcorn'\n",
      "❌ tinned sweetcorn: failed\n",
      "❌ No nutrition data found for 'tinned sweetcorn'\n",
      "❌ tinned sweetcorn: failed\n"
     ]
    },
    {
     "name": "stderr",
     "output_type": "stream",
     "text": [
      " 90%|█████████ | 135/150 [03:48<00:26,  1.78s/it]"
     ]
    },
    {
     "name": "stdout",
     "output_type": "stream",
     "text": [
      "🔍 Step 1: Searching Foundation for exact match: 'florets (35g)'\n",
      "🔍 Step 2: Taking first Foundation result: 'florets (35g)'\n",
      "🔍 Step 3: Searching Survey (FNDDS) for exact match: 'florets (35g)'\n",
      "🔍 Step 2: Taking first Foundation result: 'florets (35g)'\n",
      "🔍 Step 3: Searching Survey (FNDDS) for exact match: 'florets (35g)'\n",
      "❌ No nutrition data found for 'florets (35g)'\n",
      "❌ florets (35g): failed\n",
      "❌ No nutrition data found for 'florets (35g)'\n",
      "❌ florets (35g): failed\n"
     ]
    },
    {
     "name": "stderr",
     "output_type": "stream",
     "text": [
      " 91%|█████████ | 136/150 [03:50<00:27,  1.93s/it]"
     ]
    },
    {
     "name": "stdout",
     "output_type": "stream",
     "text": [
      "🔍 Step 1: Searching Foundation for exact match: 'peas'\n",
      "✅ Found exact match in Foundation: Peas, green, sweet, canned, sodium added, sugar added, drained and rinsed\n",
      "✅ peas: Found - Peas, green, sweet, canned, sodium added, sugar added, drained and rinsed\n",
      "✅ Found exact match in Foundation: Peas, green, sweet, canned, sodium added, sugar added, drained and rinsed\n",
      "✅ peas: Found - Peas, green, sweet, canned, sodium added, sugar added, drained and rinsed\n"
     ]
    },
    {
     "name": "stderr",
     "output_type": "stream",
     "text": [
      " 91%|█████████▏| 137/150 [03:52<00:22,  1.76s/it]"
     ]
    },
    {
     "name": "stdout",
     "output_type": "stream",
     "text": [
      "🔍 Step 1: Searching Foundation for exact match: 'tinned tuna in spring water'\n",
      "🔍 Step 2: Taking first Foundation result: 'tinned tuna in spring water'\n",
      "📄 Using first Foundation result: Fish, tuna, light, canned in water, drained solids\n",
      "✅ tinned tuna in spring water: Found - Fish, tuna, light, canned in water, drained solids\n",
      "🔍 Step 2: Taking first Foundation result: 'tinned tuna in spring water'\n",
      "📄 Using first Foundation result: Fish, tuna, light, canned in water, drained solids\n",
      "✅ tinned tuna in spring water: Found - Fish, tuna, light, canned in water, drained solids\n"
     ]
    },
    {
     "name": "stderr",
     "output_type": "stream",
     "text": [
      " 92%|█████████▏| 138/150 [03:53<00:19,  1.67s/it]"
     ]
    },
    {
     "name": "stdout",
     "output_type": "stream",
     "text": [
      "🔍 Step 1: Searching Foundation for exact match: 'macaroni pasta'\n",
      "🔍 Step 2: Taking first Foundation result: 'macaroni pasta'\n",
      "📄 Using first Foundation result: Sauce, pasta, spaghetti/marinara, ready-to-serve\n",
      "✅ macaroni pasta: Found - Sauce, pasta, spaghetti/marinara, ready-to-serve\n",
      "🔍 Step 2: Taking first Foundation result: 'macaroni pasta'\n",
      "📄 Using first Foundation result: Sauce, pasta, spaghetti/marinara, ready-to-serve\n",
      "✅ macaroni pasta: Found - Sauce, pasta, spaghetti/marinara, ready-to-serve\n"
     ]
    },
    {
     "name": "stderr",
     "output_type": "stream",
     "text": [
      " 93%|█████████▎| 139/150 [03:55<00:18,  1.64s/it]"
     ]
    },
    {
     "name": "stdout",
     "output_type": "stream",
     "text": [
      "🔍 Step 1: Searching Foundation for exact match: 'yogurt'\n",
      "✅ Found exact match in Foundation: Yogurt, plain, nonfat\n",
      "❌ Error processing 'yogurt': 'value'\n",
      "❌ yogurt: failed\n",
      "✅ Found exact match in Foundation: Yogurt, plain, nonfat\n",
      "❌ Error processing 'yogurt': 'value'\n",
      "❌ yogurt: failed\n"
     ]
    },
    {
     "name": "stderr",
     "output_type": "stream",
     "text": [
      " 93%|█████████▎| 140/150 [03:56<00:15,  1.59s/it]"
     ]
    },
    {
     "name": "stdout",
     "output_type": "stream",
     "text": [
      "🔍 Step 1: Searching Foundation for exact match: 'yellow cornflour'\n",
      "🔍 Step 2: Taking first Foundation result: 'yellow cornflour'\n",
      "📄 Using first Foundation result: Mustard, prepared, yellow\n",
      "✅ yellow cornflour: Found - Mustard, prepared, yellow\n",
      "🔍 Step 2: Taking first Foundation result: 'yellow cornflour'\n",
      "📄 Using first Foundation result: Mustard, prepared, yellow\n",
      "✅ yellow cornflour: Found - Mustard, prepared, yellow\n"
     ]
    },
    {
     "name": "stderr",
     "output_type": "stream",
     "text": [
      " 94%|█████████▍| 141/150 [03:58<00:13,  1.55s/it]"
     ]
    },
    {
     "name": "stdout",
     "output_type": "stream",
     "text": [
      "🔍 Step 1: Searching Foundation for exact match: 'egg noodles (dried)'\n",
      "🔍 Step 2: Taking first Foundation result: 'egg noodles (dried)'\n",
      "📄 Using first Foundation result: Egg, white, dried\n",
      "✅ egg noodles (dried): Found - Egg, white, dried\n",
      "🔍 Step 2: Taking first Foundation result: 'egg noodles (dried)'\n",
      "📄 Using first Foundation result: Egg, white, dried\n",
      "✅ egg noodles (dried): Found - Egg, white, dried\n"
     ]
    },
    {
     "name": "stderr",
     "output_type": "stream",
     "text": [
      " 95%|█████████▍| 142/150 [04:00<00:13,  1.63s/it]"
     ]
    },
    {
     "name": "stdout",
     "output_type": "stream",
     "text": [
      "🔍 Step 1: Searching Foundation for exact match: 'cassava'\n",
      "✅ Found exact match in Foundation: Flour, cassava\n",
      "✅ cassava: Found - Flour, cassava\n",
      "✅ Found exact match in Foundation: Flour, cassava\n",
      "✅ cassava: Found - Flour, cassava\n"
     ]
    },
    {
     "name": "stderr",
     "output_type": "stream",
     "text": [
      " 95%|█████████▌| 143/150 [04:01<00:10,  1.49s/it]"
     ]
    },
    {
     "name": "stdout",
     "output_type": "stream",
     "text": [
      "🔍 Step 1: Searching Foundation for exact match: 'asparagus'\n",
      "✅ Found exact match in Foundation: Asparagus, green, raw\n",
      "✅ asparagus: Found - Asparagus, green, raw\n",
      "✅ Found exact match in Foundation: Asparagus, green, raw\n",
      "✅ asparagus: Found - Asparagus, green, raw\n"
     ]
    },
    {
     "name": "stderr",
     "output_type": "stream",
     "text": [
      " 96%|█████████▌| 144/150 [04:02<00:08,  1.42s/it]"
     ]
    },
    {
     "name": "stdout",
     "output_type": "stream",
     "text": [
      "🔍 Step 1: Searching Foundation for exact match: 'celery'\n",
      "✅ Found exact match in Foundation: Celery, raw\n",
      "✅ celery: Found - Celery, raw\n",
      "✅ Found exact match in Foundation: Celery, raw\n",
      "✅ celery: Found - Celery, raw\n"
     ]
    },
    {
     "name": "stderr",
     "output_type": "stream",
     "text": [
      " 97%|█████████▋| 145/150 [04:03<00:06,  1.39s/it]"
     ]
    },
    {
     "name": "stdout",
     "output_type": "stream",
     "text": [
      "🔍 Step 1: Searching Foundation for exact match: 'grated cheese'\n",
      "🔍 Step 2: Taking first Foundation result: 'grated cheese'\n",
      "📄 Using first Foundation result: Cheese, parmesan, grated\n",
      "✅ grated cheese: Found - Cheese, parmesan, grated\n",
      "🔍 Step 2: Taking first Foundation result: 'grated cheese'\n",
      "📄 Using first Foundation result: Cheese, parmesan, grated\n",
      "✅ grated cheese: Found - Cheese, parmesan, grated\n"
     ]
    },
    {
     "name": "stderr",
     "output_type": "stream",
     "text": [
      " 97%|█████████▋| 146/150 [04:05<00:06,  1.54s/it]"
     ]
    },
    {
     "name": "stdout",
     "output_type": "stream",
     "text": [
      "🔍 Step 1: Searching Foundation for exact match: 'chopped parsley'\n",
      "🔍 Step 2: Taking first Foundation result: 'chopped parsley'\n",
      "📄 Using first Foundation result: Pork, chop, center cut, raw\n",
      "✅ chopped parsley: Found - Pork, chop, center cut, raw\n",
      "🔍 Step 2: Taking first Foundation result: 'chopped parsley'\n",
      "📄 Using first Foundation result: Pork, chop, center cut, raw\n",
      "✅ chopped parsley: Found - Pork, chop, center cut, raw\n"
     ]
    },
    {
     "name": "stderr",
     "output_type": "stream",
     "text": [
      " 98%|█████████▊| 147/150 [04:07<00:04,  1.65s/it]"
     ]
    },
    {
     "name": "stdout",
     "output_type": "stream",
     "text": [
      "🔍 Step 1: Searching Foundation for exact match: 'tofu'\n",
      "🔍 Step 2: Taking first Foundation result: 'tofu'\n",
      "🔍 Step 3: Searching Survey (FNDDS) for exact match: 'tofu'\n",
      "🔍 Step 2: Taking first Foundation result: 'tofu'\n",
      "🔍 Step 3: Searching Survey (FNDDS) for exact match: 'tofu'\n",
      "✅ Found exact match in Survey: Soup, miso or tofu\n",
      "✅ tofu: Found - Soup, miso or tofu\n",
      "✅ Found exact match in Survey: Soup, miso or tofu\n",
      "✅ tofu: Found - Soup, miso or tofu\n"
     ]
    },
    {
     "name": "stderr",
     "output_type": "stream",
     "text": [
      " 99%|█████████▊| 148/150 [04:10<00:03,  1.88s/it]"
     ]
    },
    {
     "name": "stdout",
     "output_type": "stream",
     "text": [
      "🔍 Step 1: Searching Foundation for exact match: 'coconut oil'\n",
      "🔍 Step 2: Taking first Foundation result: 'coconut oil'\n",
      "📄 Using first Foundation result: Oil, coconut\n",
      "✅ coconut oil: Found - Oil, coconut\n",
      "🔍 Step 2: Taking first Foundation result: 'coconut oil'\n",
      "📄 Using first Foundation result: Oil, coconut\n",
      "✅ coconut oil: Found - Oil, coconut\n"
     ]
    },
    {
     "name": "stderr",
     "output_type": "stream",
     "text": [
      " 99%|█████████▉| 149/150 [04:11<00:01,  1.80s/it]"
     ]
    },
    {
     "name": "stdout",
     "output_type": "stream",
     "text": [
      "🔍 Step 1: Searching Foundation for exact match: 'tomato paste'\n"
     ]
    }
   ],
   "source": [
    "# BATCH PROCESSING: Process ingredients in batches of 150\n",
    "import math\n",
    "\n",
    "def process_ingredients_in_batches(ingredients_df, api_key, batch_size=150, delay=0.2, start_batch=1):\n",
    "    \"\"\"\n",
    "    Process ingredients in batches to manage API rate limits and monitor progress.\n",
    "    \n",
    "    Args:\n",
    "        ingredients_df: DataFrame with ingredient data\n",
    "        api_key: USDA API key\n",
    "        batch_size: Number of ingredients per batch (default: 150)\n",
    "        delay: Delay between API calls in seconds\n",
    "        start_batch: Which batch to start from (useful for resuming)\n",
    "    \n",
    "    Returns:\n",
    "        tuple: (combined_nutrition_df, combined_failed_df, batch_results)\n",
    "    \"\"\"\n",
    "    total_ingredients = len(ingredients_df)\n",
    "    total_batches = math.ceil(total_ingredients / batch_size)\n",
    "    \n",
    "    print(f\"📊 BATCH PROCESSING SETUP:\")\n",
    "    print(f\"   Total ingredients: {total_ingredients}\")\n",
    "    print(f\"   Batch size: {batch_size}\")\n",
    "    print(f\"   Total batches: {total_batches}\")\n",
    "    print(f\"   Starting from batch: {start_batch}\")\n",
    "    print(\"=\" * 60)\n",
    "    \n",
    "    # Store results from all batches\n",
    "    all_nutrition_results = []\n",
    "    all_failed_results = []\n",
    "    batch_summaries = []\n",
    "    \n",
    "    for batch_num in range(start_batch, total_batches + 1):\n",
    "        print(f\"\\n🔄 PROCESSING BATCH {batch_num}/{total_batches}\")\n",
    "        print(\"-\" * 40)\n",
    "        \n",
    "        # Calculate batch indices\n",
    "        start_idx = (batch_num - 1) * batch_size\n",
    "        end_idx = min(start_idx + batch_size, total_ingredients)\n",
    "        \n",
    "        # Get batch data\n",
    "        batch_data = ingredients_df.iloc[start_idx:end_idx].copy()\n",
    "        batch_ingredients = len(batch_data)\n",
    "        \n",
    "        print(f\"Batch {batch_num}: Processing ingredients {start_idx + 1} to {end_idx} ({batch_ingredients} ingredients)\")\n",
    "        \n",
    "        try:\n",
    "            # Process this batch\n",
    "            batch_nutrition_df, batch_failed_df = process_all_ingredients(\n",
    "                batch_data, api_key, delay=delay\n",
    "            )\n",
    "            \n",
    "            # Store results\n",
    "            if len(batch_nutrition_df) > 0:\n",
    "                all_nutrition_results.append(batch_nutrition_df)\n",
    "            if len(batch_failed_df) > 0:\n",
    "                all_failed_results.append(batch_failed_df)\n",
    "            \n",
    "            # Calculate batch statistics\n",
    "            batch_success_rate = len(batch_nutrition_df) / batch_ingredients * 100\n",
    "            batch_summary = {\n",
    "                'batch_num': batch_num,\n",
    "                'ingredients_processed': batch_ingredients,\n",
    "                'successful': len(batch_nutrition_df),\n",
    "                'failed': len(batch_failed_df),\n",
    "                'success_rate': batch_success_rate\n",
    "            }\n",
    "            batch_summaries.append(batch_summary)\n",
    "            \n",
    "            print(f\"\\n✅ BATCH {batch_num} COMPLETE:\")\n",
    "            print(f\"   Successful: {len(batch_nutrition_df)}/{batch_ingredients} ({batch_success_rate:.1f}%)\")\n",
    "            print(f\"   Failed: {len(batch_failed_df)}\")\n",
    "            \n",
    "            # Save intermediate results (optional)\n",
    "            if len(batch_nutrition_df) > 0:\n",
    "                batch_filename = f\"../batch_{batch_num}_nutrition_data.xlsx\"\n",
    "                batch_nutrition_df.to_excel(batch_filename, index=False)\n",
    "                print(f\"   💾 Batch results saved: {batch_filename}\")\n",
    "            \n",
    "        except Exception as e:\n",
    "            print(f\"❌ ERROR in batch {batch_num}: {e}\")\n",
    "            batch_summary = {\n",
    "                'batch_num': batch_num,\n",
    "                'ingredients_processed': batch_ingredients,\n",
    "                'successful': 0,\n",
    "                'failed': batch_ingredients,\n",
    "                'success_rate': 0.0,\n",
    "                'error': str(e)\n",
    "            }\n",
    "            batch_summaries.append(batch_summary)\n",
    "    \n",
    "    # Combine all results\n",
    "    print(f\"\\n🔗 COMBINING ALL BATCH RESULTS...\")\n",
    "    \n",
    "    # Combine nutrition data\n",
    "    if all_nutrition_results:\n",
    "        combined_nutrition_df = pd.concat(all_nutrition_results, ignore_index=True)\n",
    "    else:\n",
    "        combined_nutrition_df = pd.DataFrame()\n",
    "    \n",
    "    # Combine failed data\n",
    "    if all_failed_results:\n",
    "        combined_failed_df = pd.concat(all_failed_results, ignore_index=True)\n",
    "    else:\n",
    "        combined_failed_df = pd.DataFrame()\n",
    "    \n",
    "    return combined_nutrition_df, combined_failed_df, batch_summaries\n",
    "\n",
    "# Example: Process ALL ingredients in batches of 150\n",
    "print(\"🚀 STARTING BATCH PROCESSING FOR ALL INGREDIENTS\")\n",
    "print(f\"Total ingredients to process: {len(filtered_ingredients)} (water excluded)\")\n",
    "print()\n",
    "\n",
    "# You can modify these parameters:\n",
    "BATCH_SIZE = 150       \n",
    "START_BATCH = 1           \n",
    "API_DELAY = 0.2           \n",
    "\n",
    "# Uncomment the lines below to start batch processing:\n",
    "all_nutrition_df, all_failed_df, batch_results = process_ingredients_in_batches(\n",
    "    filtered_ingredients, \n",
    "    api_key, \n",
    "    batch_size=BATCH_SIZE, \n",
    "    delay=API_DELAY,\n",
    "    start_batch=START_BATCH\n",
    ")\n",
    "\n"
   ]
  },
  {
   "cell_type": "code",
   "execution_count": null,
   "id": "b25e0158",
   "metadata": {},
   "outputs": [],
   "source": [
    "\n",
    "BATCH_SIZE = 150       \n",
    "START_BATCH = 1           \n",
    "API_DELAY = 0.2           \n",
    "\n",
    "all_nutrition_df, all_failed_df, batch_results = process_ingredients_in_batches(\n",
    "    filtered_ingredients, \n",
    "    api_key, \n",
    "    batch_size=BATCH_SIZE, \n",
    "    delay=API_DELAY,\n",
    "    start_batch=START_BATCH\n",
    ")\n"
   ]
  },
  {
   "cell_type": "code",
   "execution_count": 28,
   "id": "53c36683",
   "metadata": {},
   "outputs": [
    {
     "name": "stdout",
     "output_type": "stream",
     "text": [
      "💡 RESUME FUNCTIONALITY:\n",
      "   If processing stops, you can resume from any batch by changing START_BATCH parameter\n",
      "   Example: START_BATCH = 3  # Resume from batch 3\n",
      "   Individual batch files are saved automatically for backup\n"
     ]
    }
   ],
   "source": [
    "# Display batch processing results and provide resume functionality\n",
    "def display_batch_summary(batch_results):\n",
    "    \"\"\"Display a summary of batch processing results\"\"\"\n",
    "    if not batch_results:\n",
    "        print(\"No batch results to display.\")\n",
    "        return\n",
    "    \n",
    "    print(\"\\n\" + \"=\"*80)\n",
    "    print(\"📊 BATCH PROCESSING SUMMARY\")\n",
    "    print(\"=\"*80)\n",
    "    \n",
    "    # Create summary table\n",
    "    print(f\"{'Batch':<8} {'Ingredients':<12} {'Successful':<12} {'Failed':<8} {'Success Rate':<12} {'Status':<10}\")\n",
    "    print(\"-\" * 80)\n",
    "    \n",
    "    total_processed = 0\n",
    "    total_successful = 0\n",
    "    total_failed = 0\n",
    "    \n",
    "    for result in batch_results:\n",
    "        batch_num = result['batch_num']\n",
    "        ingredients = result['ingredients_processed']\n",
    "        successful = result['successful']\n",
    "        failed = result['failed']\n",
    "        success_rate = result['success_rate']\n",
    "        status = \"ERROR\" if 'error' in result else \"COMPLETE\"\n",
    "        \n",
    "        print(f\"{batch_num:<8} {ingredients:<12} {successful:<12} {failed:<8} {success_rate:<11.1f}% {status:<10}\")\n",
    "        \n",
    "        total_processed += ingredients\n",
    "        total_successful += successful\n",
    "        total_failed += failed\n",
    "    \n",
    "    print(\"-\" * 80)\n",
    "    overall_success_rate = (total_successful / total_processed * 100) if total_processed > 0 else 0\n",
    "    print(f\"{'TOTAL':<8} {total_processed:<12} {total_successful:<12} {total_failed:<8} {overall_success_rate:<11.1f}% {'SUMMARY':<10}\")\n",
    "    print(\"=\"*80)\n",
    "    \n",
    "    return {\n",
    "        'total_processed': total_processed,\n",
    "        'total_successful': total_successful,\n",
    "        'total_failed': total_failed,\n",
    "        'overall_success_rate': overall_success_rate\n",
    "    }\n",
    "\n",
    "# Uncomment to display results after batch processing:\n",
    "# if 'batch_results' in locals():\n",
    "#     summary = display_batch_summary(batch_results)\n",
    "#     \n",
    "#     print(f\"\\n🎉 FINAL RESULTS:\")\n",
    "#     print(f\"   Successfully processed: {summary['total_successful']} ingredients\")\n",
    "#     print(f\"   Failed to process: {summary['total_failed']} ingredients\") \n",
    "#     print(f\"   Overall success rate: {summary['overall_success_rate']:.1f}%\")\n",
    "#     \n",
    "#     # Save final combined results\n",
    "#     if len(all_nutrition_df) > 0:\n",
    "#         final_filename = f\"../final_all_ingredients_nutrition_{pd.Timestamp.now().strftime('%Y%m%d_%H%M%S')}.xlsx\"\n",
    "#         all_nutrition_df.to_excel(final_filename, index=False)\n",
    "#         print(f\"   💾 Final nutrition data saved: {final_filename}\")\n",
    "#     \n",
    "#     if len(all_failed_df) > 0:\n",
    "#         failed_filename = f\"../final_failed_ingredients_{pd.Timestamp.now().strftime('%Y%m%d_%H%M%S')}.xlsx\"\n",
    "#         all_failed_df.to_excel(failed_filename, index=False)\n",
    "#         print(f\"   💾 Failed ingredients saved: {failed_filename}\")\n",
    "\n",
    "print(\"💡 RESUME FUNCTIONALITY:\")\n",
    "print(\"   If processing stops, you can resume from any batch by changing START_BATCH parameter\")\n",
    "print(\"   Example: START_BATCH = 3  # Resume from batch 3\")\n",
    "print(\"   Individual batch files are saved automatically for backup\")"
   ]
  },
  {
   "cell_type": "code",
   "execution_count": 29,
   "id": "eabf0c80",
   "metadata": {},
   "outputs": [
    {
     "name": "stdout",
     "output_type": "stream",
     "text": [
      "📊 BATCH PROCESSING SETUP:\n",
      "   Total ingredients: 870\n",
      "   Batch size: 150\n",
      "   Total batches: 6\n",
      "   Starting from batch: 1\n",
      "============================================================\n",
      "\n",
      "🔄 PROCESSING BATCH 1/6\n",
      "----------------------------------------\n",
      "Batch 1: Processing ingredients 1 to 150 (150 ingredients)\n",
      "❌ ERROR in batch 1: name 'process_all_ingredients' is not defined\n",
      "\n",
      "🔄 PROCESSING BATCH 2/6\n",
      "----------------------------------------\n",
      "Batch 2: Processing ingredients 151 to 300 (150 ingredients)\n",
      "❌ ERROR in batch 2: name 'process_all_ingredients' is not defined\n",
      "\n",
      "🔄 PROCESSING BATCH 3/6\n",
      "----------------------------------------\n",
      "Batch 3: Processing ingredients 301 to 450 (150 ingredients)\n",
      "❌ ERROR in batch 3: name 'process_all_ingredients' is not defined\n",
      "\n",
      "🔄 PROCESSING BATCH 4/6\n",
      "----------------------------------------\n",
      "Batch 4: Processing ingredients 451 to 600 (150 ingredients)\n",
      "❌ ERROR in batch 4: name 'process_all_ingredients' is not defined\n",
      "\n",
      "🔄 PROCESSING BATCH 5/6\n",
      "----------------------------------------\n",
      "Batch 5: Processing ingredients 601 to 750 (150 ingredients)\n",
      "❌ ERROR in batch 5: name 'process_all_ingredients' is not defined\n",
      "\n",
      "🔄 PROCESSING BATCH 6/6\n",
      "----------------------------------------\n",
      "Batch 6: Processing ingredients 751 to 870 (120 ingredients)\n",
      "❌ ERROR in batch 6: name 'process_all_ingredients' is not defined\n",
      "\n",
      "🔗 COMBINING ALL BATCH RESULTS...\n",
      "⚠️  TO START BATCH PROCESSING:\n",
      "   1. Uncomment the lines above\n",
      "   2. Run this cell\n",
      "   3. Wait for completion (~25 minutes for all 828 ingredients)\n",
      "\n",
      "📊 PROCESSING PLAN:\n",
      "   • Total ingredients: 870 (water excluded)\n",
      "   • Batch size: 150 ingredients\n",
      "   • Total batches: 6\n",
      "   • Estimated time: ~2.9 minutes\n",
      "\n",
      "💡 FEATURES:\n",
      "   • Automatic progress tracking\n",
      "   • Individual batch file saves (for backup)\n",
      "   • Resume functionality if interrupted\n",
      "   • Final combined results file\n"
     ]
    }
   ],
   "source": [
    "\n",
    "\n",
    "print(\"⚠️  TO START BATCH PROCESSING:\")\n",
    "print(\"   1. Uncomment the lines above\")\n",
    "print(\"   2. Run this cell\")\n",
    "print(\"   3. Wait for completion (~25 minutes for all 828 ingredients)\")\n",
    "print()\n",
    "print(f\"📊 PROCESSING PLAN:\")\n",
    "print(f\"   • Total ingredients: {len(filtered_ingredients)} (water excluded)\")\n",
    "print(f\"   • Batch size: 150 ingredients\")\n",
    "print(f\"   • Total batches: {math.ceil(len(filtered_ingredients) / 150)}\")\n",
    "print(f\"   • Estimated time: ~{len(filtered_ingredients) * 0.2 / 60:.1f} minutes\")\n",
    "print()\n",
    "print(\"💡 FEATURES:\")\n",
    "print(\"   • Automatic progress tracking\")\n",
    "print(\"   • Individual batch file saves (for backup)\")\n",
    "print(\"   • Resume functionality if interrupted\")\n",
    "print(\"   • Final combined results file\")"
   ]
  },
  {
   "cell_type": "code",
   "execution_count": null,
   "id": "e2c93d47",
   "metadata": {},
   "outputs": [],
   "source": [
    "# ===== DISPLAY RESULTS =====\n",
    "# summary = display_batch_summary(batch_results)\n",
    "# \n",
    "# print(f\"\\n🎉 FINAL RESULTS:\")\n",
    "# print(f\"   Successfully processed: {summary['total_successful']} ingredients\")\n",
    "# print(f\"   Failed to process: {summary['total_failed']} ingredients\") \n",
    "# print(f\"   Overall success rate: {summary['overall_success_rate']:.1f}%\")\n",
    "# \n",
    "# # Save final combined results\n",
    "# if len(all_nutrition_df) > 0:\n",
    "#     final_filename = f\"../final_all_ingredients_nutrition_{pd.Timestamp.now().strftime('%Y%m%d_%H%M%S')}.xlsx\"\n",
    "#     all_nutrition_df.to_excel(final_filename, index=False)\n",
    "#     print(f\"   💾 Final nutrition data saved: {final_filename}\")\n"
   ]
  },
  {
   "cell_type": "code",
   "execution_count": 1,
   "id": "f76ba3f3",
   "metadata": {},
   "outputs": [
    {
     "name": "stdout",
     "output_type": "stream",
     "text": [
      "Creating 6 separate DataFrames for batch processing...\n"
     ]
    },
    {
     "ename": "NameError",
     "evalue": "name 'unique_ingredients_list' is not defined",
     "output_type": "error",
     "traceback": [
      "\u001b[1;31m---------------------------------------------------------------------------\u001b[0m",
      "\u001b[1;31mNameError\u001b[0m                                 Traceback (most recent call last)",
      "Cell \u001b[1;32mIn[1], line 59\u001b[0m\n\u001b[0;32m     57\u001b[0m \u001b[38;5;66;03m# Create the batch DataFrames\u001b[39;00m\n\u001b[0;32m     58\u001b[0m \u001b[38;5;28mprint\u001b[39m(\u001b[38;5;124m\"\u001b[39m\u001b[38;5;124mCreating 6 separate DataFrames for batch processing...\u001b[39m\u001b[38;5;124m\"\u001b[39m)\n\u001b[1;32m---> 59\u001b[0m batch_dfs \u001b[38;5;241m=\u001b[39m create_batch_dataframes(\u001b[43munique_ingredients_list\u001b[49m, batch_size\u001b[38;5;241m=\u001b[39m\u001b[38;5;241m150\u001b[39m)\n\u001b[0;32m     61\u001b[0m \u001b[38;5;66;03m# Display information about each batch\u001b[39;00m\n\u001b[0;32m     62\u001b[0m \u001b[38;5;28mprint\u001b[39m(\u001b[38;5;124m\"\u001b[39m\u001b[38;5;130;01m\\n\u001b[39;00m\u001b[38;5;124m📊 BATCH DATAFRAMES CREATED:\u001b[39m\u001b[38;5;124m\"\u001b[39m)\n",
      "\u001b[1;31mNameError\u001b[0m: name 'unique_ingredients_list' is not defined"
     ]
    }
   ],
   "source": [
    "# Create 6 separate DataFrames for each batch of 150 ingredients\n",
    "import math\n",
    "\n",
    "def create_batch_dataframes(unique_ingredients_list, batch_size=150):\n",
    "    \"\"\"\n",
    "    Create 6 separate DataFrames, each containing a batch of ingredients.\n",
    "    Each DataFrame will be processed separately and can store its own nutrition data.\n",
    "    \n",
    "    Args:\n",
    "        unique_ingredients_list: List of unique ingredients\n",
    "        batch_size: Number of ingredients per batch (default: 150)\n",
    "    \n",
    "    Returns:\n",
    "        Dictionary of DataFrames (batch_1 through batch_6)\n",
    "    \"\"\"\n",
    "    # Calculate total number of batches needed\n",
    "    total_batches = math.ceil(len(unique_ingredients_list) / batch_size)\n",
    "    max_batches = 6  # Limit to 6 batches as requested\n",
    "    \n",
    "    print(f\"Total ingredients: {len(unique_ingredients_list)}\")\n",
    "    print(f\"Batch size: {batch_size}\")\n",
    "    print(f\"Total batches needed: {total_batches}\")\n",
    "    print(f\"Creating {min(total_batches, max_batches)} DataFrames\")\n",
    "    print(\"=\" * 50)\n",
    "    \n",
    "    batch_dataframes = {}\n",
    "    \n",
    "    for batch_num in range(1, min(total_batches, max_batches) + 1):\n",
    "        # Calculate start and end indices for this batch\n",
    "        start_idx = (batch_num - 1) * batch_size\n",
    "        end_idx = min(start_idx + batch_size, len(unique_ingredients_list))\n",
    "        \n",
    "        # Get ingredients for this batch\n",
    "        batch_ingredients = unique_ingredients_list[start_idx:end_idx]\n",
    "        \n",
    "        # Create DataFrame for this batch with empty nutrition columns\n",
    "        batch_df = pd.DataFrame({\n",
    "            'ingredient': batch_ingredients,\n",
    "            'energy_kcal_per_100g': [None] * len(batch_ingredients),\n",
    "            'carbs_g_per_100g': [None] * len(batch_ingredients),\n",
    "            'protein_g_per_100g': [None] * len(batch_ingredients),\n",
    "            'fat_g_per_100g': [None] * len(batch_ingredients),\n",
    "            'top_micronutrients': [None] * len(batch_ingredients),\n",
    "            'search_method': [None] * len(batch_ingredients),\n",
    "            'batch_number': [batch_num] * len(batch_ingredients)\n",
    "        })\n",
    "        \n",
    "        # Store in dictionary\n",
    "        batch_dataframes[f'batch_{batch_num}'] = batch_df\n",
    "        \n",
    "        print(f\"Batch {batch_num}: {len(batch_ingredients)} ingredients (indices {start_idx}-{end_idx-1})\")\n",
    "        print(f\"  Sample ingredients: {batch_ingredients[:3]}...\")\n",
    "        print()\n",
    "    \n",
    "    return batch_dataframes\n",
    "\n",
    "# Create the batch DataFrames\n",
    "print(\"Creating 6 separate DataFrames for batch processing...\")\n",
    "batch_dfs = create_batch_dataframes(unique_ingredients_list, batch_size=150)\n",
    "\n",
    "# Display information about each batch\n",
    "print(\"\\n📊 BATCH DATAFRAMES CREATED:\")\n",
    "print(\"=\" * 60)\n",
    "for batch_name, df in batch_dfs.items():\n",
    "    print(f\"{batch_name.upper()}:\")\n",
    "    print(f\"  - Shape: {df.shape}\")\n",
    "    print(f\"  - Ingredient range: {df['ingredient'].iloc[0]} ... {df['ingredient'].iloc[-1]}\")\n",
    "    print(f\"  - Batch number: {df['batch_number'].iloc[0]}\")\n",
    "    print()"
   ]
  },
  {
   "cell_type": "code",
   "execution_count": null,
   "id": "4d07cb04",
   "metadata": {},
   "outputs": [],
   "source": [
    "# Function to process individual batch DataFrames\n",
    "def process_batch_dataframe(batch_df, batch_name, api_key, save_results=True):\n",
    "    \"\"\"\n",
    "    Process a single batch DataFrame by fetching nutrition data for all ingredients.\n",
    "    \n",
    "    Args:\n",
    "        batch_df: DataFrame containing ingredients for this batch\n",
    "        batch_name: Name of the batch (e.g., 'batch_1')\n",
    "        api_key: USDA API key\n",
    "        save_results: Whether to save results to Excel file\n",
    "    \n",
    "    Returns:\n",
    "        Tuple of (processed_df, failed_ingredients_list)\n",
    "    \"\"\"\n",
    "    print(f\"\\n🔄 PROCESSING {batch_name.upper()}\")\n",
    "    print(\"=\" * 50)\n",
    "    \n",
    "    processed_df = batch_df.copy()\n",
    "    failed_ingredients = []\n",
    "    successful_count = 0\n",
    "    \n",
    "    total_ingredients = len(batch_df)\n",
    "    \n",
    "    for idx, row in batch_df.iterrows():\n",
    "        ingredient = row['ingredient']\n",
    "        \n",
    "        # Progress indicator\n",
    "        current_position = idx - batch_df.index[0] + 1\n",
    "        print(f\"Processing {current_position}/{total_ingredients}: {ingredient}\")\n",
    "        \n",
    "        # Fetch nutrition data\n",
    "        nutrition_data = get_nutrition_data(ingredient, api_key)\n",
    "        \n",
    "        if nutrition_data:\n",
    "            # Update the DataFrame with nutrition data\n",
    "            processed_df.at[idx, 'energy_kcal_per_100g'] = nutrition_data.get('energy_kcal_per_100g')\n",
    "            processed_df.at[idx, 'carbs_g_per_100g'] = nutrition_data.get('carbs_g_per_100g')\n",
    "            processed_df.at[idx, 'protein_g_per_100g'] = nutrition_data.get('protein_g_per_100g')\n",
    "            processed_df.at[idx, 'fat_g_per_100g'] = nutrition_data.get('fat_g_per_100g')\n",
    "            processed_df.at[idx, 'top_micronutrients'] = ', '.join(nutrition_data.get('top_micronutrients', []))\n",
    "            processed_df.at[idx, 'search_method'] = nutrition_data.get('search_method')\n",
    "            \n",
    "            successful_count += 1\n",
    "            print(f\"  ✅ Success - Method: {nutrition_data.get('search_method')}\")\n",
    "        else:\n",
    "            failed_ingredients.append(ingredient)\n",
    "            print(f\"  ❌ Failed\")\n",
    "        \n",
    "        # Small delay to avoid overwhelming the API\n",
    "        time.sleep(0.1)\n",
    "    \n",
    "    # Summary\n",
    "    print(f\"\\n📊 {batch_name.upper()} SUMMARY:\")\n",
    "    print(f\"  - Total ingredients: {total_ingredients}\")\n",
    "    print(f\"  - Successful: {successful_count}\")\n",
    "    print(f\"  - Failed: {len(failed_ingredients)}\")\n",
    "    print(f\"  - Success rate: {successful_count/total_ingredients*100:.1f}%\")\n",
    "    \n",
    "    # Save results if requested\n",
    "    if save_results:\n",
    "        # Save processed DataFrame\n",
    "        results_filename = f\"nutrition_results_{batch_name}_{datetime.now().strftime('%Y%m%d_%H%M%S')}.xlsx\"\n",
    "        processed_df.to_excel(results_filename, index=False)\n",
    "        print(f\"  💾 Results saved to: {results_filename}\")\n",
    "        \n",
    "        # Save failed ingredients\n",
    "        if failed_ingredients:\n",
    "            failed_filename = f\"failed_ingredients_{batch_name}_{datetime.now().strftime('%Y%m%d_%H%M%S')}.xlsx\"\n",
    "            failed_df = pd.DataFrame({'failed_ingredient': failed_ingredients, 'batch': batch_name})\n",
    "            failed_df.to_excel(failed_filename, index=False)\n",
    "            print(f\"  💾 Failed ingredients saved to: {failed_filename}\")\n",
    "    \n",
    "    return processed_df, failed_ingredients\n",
    "\n",
    "# Function to process all batches or specific batches\n",
    "def process_selected_batches(batch_dfs, api_key, batch_numbers=None, save_results=True):\n",
    "    \"\"\"\n",
    "    Process selected batch DataFrames or all batches.\n",
    "    \n",
    "    Args:\n",
    "        batch_dfs: Dictionary of batch DataFrames\n",
    "        api_key: USDA API key\n",
    "        batch_numbers: List of batch numbers to process (e.g., [1, 3, 5]) or None for all\n",
    "        save_results: Whether to save results to files\n",
    "    \n",
    "    Returns:\n",
    "        Dictionary of processed DataFrames and failed ingredients\n",
    "    \"\"\"\n",
    "    processed_results = {}\n",
    "    all_failed = {}\n",
    "    \n",
    "    # Determine which batches to process\n",
    "    if batch_numbers is None:\n",
    "        batches_to_process = list(batch_dfs.keys())\n",
    "    else:\n",
    "        batches_to_process = [f'batch_{num}' for num in batch_numbers if f'batch_{num}' in batch_dfs]\n",
    "    \n",
    "    print(f\"🚀 STARTING BATCH PROCESSING\")\n",
    "    print(f\"Batches to process: {batches_to_process}\")\n",
    "    print(\"=\" * 60)\n",
    "    \n",
    "    for batch_name in batches_to_process:\n",
    "        if batch_name in batch_dfs:\n",
    "            try:\n",
    "                processed_df, failed_list = process_batch_dataframe(\n",
    "                    batch_dfs[batch_name], \n",
    "                    batch_name, \n",
    "                    api_key, \n",
    "                    save_results\n",
    "                )\n",
    "                processed_results[batch_name] = processed_df\n",
    "                all_failed[batch_name] = failed_list\n",
    "                \n",
    "            except Exception as e:\n",
    "                print(f\"❌ Error processing {batch_name}: {str(e)}\")\n",
    "                all_failed[batch_name] = list(batch_dfs[batch_name]['ingredient'])\n",
    "        \n",
    "        print(\"\\n\" + \"=\"*60)\n",
    "    \n",
    "    # Overall summary\n",
    "    total_ingredients = sum(len(df) for df in batch_dfs.values() if any(batch in batch_dfs for batch in batches_to_process))\n",
    "    total_successful = sum(len(df[df['search_method'].notna()]) for df in processed_results.values())\n",
    "    total_failed = sum(len(failed_list) for failed_list in all_failed.values())\n",
    "    \n",
    "    print(f\"\\n🎯 OVERALL PROCESSING SUMMARY:\")\n",
    "    print(f\"  - Total ingredients processed: {total_successful + total_failed}\")\n",
    "    print(f\"  - Successful: {total_successful}\")\n",
    "    print(f\"  - Failed: {total_failed}\")\n",
    "    print(f\"  - Overall success rate: {total_successful/(total_successful + total_failed)*100:.1f}%\")\n",
    "    \n",
    "    return processed_results, all_failed\n",
    "\n",
    "print(\"✅ Batch processing functions defined!\")\n",
    "print(\"\\nTo process batches, use:\")\n",
    "print(\"  - process_selected_batches(batch_dfs, api_key) - Process all batches\")\n",
    "print(\"  - process_selected_batches(batch_dfs, api_key, [1, 2, 3]) - Process specific batches\")\n",
    "print(\"  - process_batch_dataframe(batch_dfs['batch_1'], 'batch_1', api_key) - Process single batch\")"
   ]
  },
  {
   "cell_type": "code",
   "execution_count": null,
   "id": "9dd3d487",
   "metadata": {},
   "outputs": [],
   "source": [
    "# Utility functions for managing batch DataFrames\n",
    "def display_batch_summary(batch_dfs):\n",
    "    \"\"\"Display a summary of all batch DataFrames\"\"\"\n",
    "    print(\"📋 BATCH DATAFRAMES SUMMARY\")\n",
    "    print(\"=\" * 50)\n",
    "    \n",
    "    total_ingredients = 0\n",
    "    for batch_name, df in batch_dfs.items():\n",
    "        batch_num = batch_name.split('_')[1]\n",
    "        processed_count = df['search_method'].notna().sum()\n",
    "        pending_count = df['search_method'].isna().sum()\n",
    "        \n",
    "        print(f\"Batch {batch_num}:\")\n",
    "        print(f\"  - Total ingredients: {len(df)}\")\n",
    "        print(f\"  - Processed: {processed_count}\")\n",
    "        print(f\"  - Pending: {pending_count}\")\n",
    "        print(f\"  - Sample ingredients: {list(df['ingredient'].head(3))}\")\n",
    "        print()\n",
    "        \n",
    "        total_ingredients += len(df)\n",
    "    \n",
    "    print(f\"Overall: {total_ingredients} ingredients across {len(batch_dfs)} batches\")\n",
    "\n",
    "def get_batch_by_ingredient(batch_dfs, ingredient_name):\n",
    "    \"\"\"Find which batch contains a specific ingredient\"\"\"\n",
    "    for batch_name, df in batch_dfs.items():\n",
    "        if ingredient_name in df['ingredient'].values:\n",
    "            idx = df[df['ingredient'] == ingredient_name].index[0]\n",
    "            return batch_name, idx\n",
    "    return None, None\n",
    "\n",
    "def combine_batch_results(processed_results):\n",
    "    \"\"\"Combine all processed batch DataFrames into a single DataFrame\"\"\"\n",
    "    if not processed_results:\n",
    "        print(\"No processed results to combine.\")\n",
    "        return None\n",
    "    \n",
    "    combined_df = pd.concat(processed_results.values(), ignore_index=True)\n",
    "    print(f\"Combined {len(processed_results)} batches into single DataFrame with {len(combined_df)} ingredients\")\n",
    "    return combined_df\n",
    "\n",
    "def save_batch_dataframes(batch_dfs, filename_prefix=\"batch_dataframes\"):\n",
    "    \"\"\"Save all batch DataFrames to separate Excel files\"\"\"\n",
    "    timestamp = datetime.now().strftime('%Y%m%d_%H%M%S')\n",
    "    \n",
    "    for batch_name, df in batch_dfs.items():\n",
    "        filename = f\"{filename_prefix}_{batch_name}_{timestamp}.xlsx\"\n",
    "        df.to_excel(filename, index=False)\n",
    "        print(f\"Saved {batch_name} to {filename}\")\n",
    "\n",
    "# Display the batch summary\n",
    "display_batch_summary(batch_dfs)\n",
    "\n",
    "print(\"\\n\" + \"=\"*60)\n",
    "print(\"🔧 UTILITY FUNCTIONS AVAILABLE:\")\n",
    "print(\"  - display_batch_summary(batch_dfs): Show status of all batches\")\n",
    "print(\"  - get_batch_by_ingredient(batch_dfs, 'apple'): Find which batch contains an ingredient\")\n",
    "print(\"  - combine_batch_results(processed_results): Combine processed batches into one DataFrame\")\n",
    "print(\"  - save_batch_dataframes(batch_dfs): Save all batches to Excel files\")\n",
    "print(\"=\"*60)"
   ]
  },
  {
   "cell_type": "code",
   "execution_count": null,
   "id": "290f2dcd",
   "metadata": {},
   "outputs": [],
   "source": [
    "# 🚀 BATCH PROCESSING EXAMPLES AND INSTRUCTIONS\n",
    "print(\"🎯 HOW TO USE THE BATCH PROCESSING SYSTEM\")\n",
    "print(\"=\" * 60)\n",
    "\n",
    "print(\"\\n1️⃣ PROCESS INDIVIDUAL BATCHES:\")\n",
    "print(\"   # Process just batch 1\")\n",
    "print(\"   result_1, failed_1 = process_batch_dataframe(batch_dfs['batch_1'], 'batch_1', api_key)\")\n",
    "print(\"\\n   # Process just batch 2\")  \n",
    "print(\"   result_2, failed_2 = process_batch_dataframe(batch_dfs['batch_2'], 'batch_2', api_key)\")\n",
    "\n",
    "print(\"\\n2️⃣ PROCESS MULTIPLE SPECIFIC BATCHES:\")\n",
    "print(\"   # Process batches 1, 3, and 5 only\")\n",
    "print(\"   results, failed = process_selected_batches(batch_dfs, api_key, [1, 3, 5])\")\n",
    "\n",
    "print(\"\\n3️⃣ PROCESS ALL BATCHES:\")\n",
    "print(\"   # Process all 6 batches\")\n",
    "print(\"   all_results, all_failed = process_selected_batches(batch_dfs, api_key)\")\n",
    "\n",
    "print(\"\\n4️⃣ ACCESS INDIVIDUAL DATAFRAMES:\")\n",
    "print(\"   # Access specific batch\")\n",
    "print(\"   batch_1_df = batch_dfs['batch_1']\")\n",
    "print(\"   batch_2_df = batch_dfs['batch_2']\")\n",
    "print(\"   # ... up to batch_6_df = batch_dfs['batch_6']\")\n",
    "\n",
    "print(\"\\n5️⃣ SAVE AND COMBINE RESULTS:\")\n",
    "print(\"   # Save individual batches\")\n",
    "print(\"   save_batch_dataframes(batch_dfs)\")\n",
    "print(\"   # Combine processed results\")\n",
    "print(\"   final_df = combine_batch_results(all_results)\")\n",
    "\n",
    "print(\"\\n\" + \"=\"*60)\n",
    "print(\"📊 CURRENT BATCH STATUS:\")\n",
    "\n",
    "# Show which ingredients are in each batch (first 5 examples)\n",
    "for i in range(1, min(7, len(batch_dfs) + 1)):\n",
    "    batch_name = f'batch_{i}'\n",
    "    if batch_name in batch_dfs:\n",
    "        df = batch_dfs[batch_name]\n",
    "        print(f\"\\nBatch {i} ({len(df)} ingredients):\")\n",
    "        print(f\"  First 5: {list(df['ingredient'].head())}\")\n",
    "        if len(df) > 5:\n",
    "            print(f\"  Last 5:  {list(df['ingredient'].tail())}\")\n",
    "\n",
    "print(f\"\\n📈 READY TO PROCESS {len(unique_ingredients_list)} INGREDIENTS IN {len(batch_dfs)} BATCHES!\")\n",
    "print(\"💡 TIP: Start with a small batch first to test your API key and settings.\")"
   ]
  }
 ],
 "metadata": {
  "kernelspec": {
   "display_name": "Python 3",
   "language": "python",
   "name": "python3"
  },
  "language_info": {
   "codemirror_mode": {
    "name": "ipython",
    "version": 3
   },
   "file_extension": ".py",
   "mimetype": "text/x-python",
   "name": "python",
   "nbconvert_exporter": "python",
   "pygments_lexer": "ipython3",
   "version": "3.11.0"
  }
 },
 "nbformat": 4,
 "nbformat_minor": 5
}

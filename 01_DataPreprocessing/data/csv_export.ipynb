{
 "cells": [
  {
   "cell_type": "code",
   "execution_count": 1,
   "id": "db9a2c47",
   "metadata": {},
   "outputs": [
    {
     "name": "stdout",
     "output_type": "stream",
     "text": [
      "Processing sheet: Sheet1\n",
      "✅ Created DataFrame: Sheet1 (1322 rows)\n",
      "Processing sheet: Sheet2\n",
      "✅ Created DataFrame: Sheet2 (1336 rows)\n",
      "Processing sheet: category\n",
      "✅ Created DataFrame: category (11 rows)\n",
      "Processing sheet: allergen\n",
      "✅ Created DataFrame: allergen (8 rows)\n",
      "Processing sheet: countrymap \n",
      "✅ Created DataFrame: countrymap (76 rows)\n",
      "Processing sheet: 📝 recipe_ingredient\n",
      "✅ Created DataFrame: recipe_ingredient (8209 rows)\n",
      "Processing sheet: 🏷️ recipe_category_df\n",
      "✅ Created DataFrame: recipe_category_df (8123 rows)\n",
      "Processing sheet: 🍴 recipes\n",
      "✅ Created DataFrame: recipes (1322 rows)\n",
      "Processing sheet: 📊 recipe_nutrition\n",
      "✅ Created DataFrame: recipe_nutrition (1322 rows)\n",
      "Processing sheet: 🧂 final_ingredient_df\n",
      "✅ Created DataFrame: final_ingredient_df (999 rows)\n",
      "📁 Exported: exported_csvs\\Sheet1.csv\n",
      "📁 Exported: exported_csvs\\Sheet2.csv\n",
      "📁 Exported: exported_csvs\\category.csv\n",
      "📁 Exported: exported_csvs\\allergen.csv\n",
      "📁 Exported: exported_csvs\\countrymap.csv\n",
      "📁 Exported: exported_csvs\\recipe_ingredient.csv\n",
      "📁 Exported: exported_csvs\\recipe_category_df.csv\n",
      "📁 Exported: exported_csvs\\recipes.csv\n",
      "📁 Exported: exported_csvs\\recipe_nutrition.csv\n",
      "📁 Exported: exported_csvs\\final_ingredient_df.csv\n"
     ]
    }
   ],
   "source": [
    "import pandas as pd\n",
    "import openpyxl\n",
    "import os\n",
    "import re\n",
    "\n",
    "# Load the workbook\n",
    "file_path = '1_finalized_datasets.xlsx'\n",
    "workbook = openpyxl.load_workbook(file_path)\n",
    "\n",
    "dataframes = {}\n",
    "# Loop through all sheet names\n",
    "for sheet in workbook.sheetnames:\n",
    "    print(f\"Processing sheet: {sheet}\")\n",
    "    clean_name = re.sub(r'[^\\w\\s]', '', sheet).strip()\n",
    "    clean_name = clean_name.replace(\" \", \"_\")\n",
    "    if clean_name in dataframes:\n",
    "        print(f\"⚠️ Skipping duplicate sheet name: {clean_name}\")\n",
    "        continue\n",
    "    df = pd.read_excel(file_path, sheet_name=sheet)\n",
    "    dataframes[clean_name] = df\n",
    "    print(f\"✅ Created DataFrame: {clean_name} ({df.shape[0]} rows)\")\n",
    "\n",
    "# Create an output directory\n",
    "output_dir = \"exported_csvs\"\n",
    "os.makedirs(output_dir, exist_ok=True)\n",
    "\n",
    "# Export each DataFrame to CSV\n",
    "for name, df in dataframes.items():\n",
    "    csv_path = os.path.join(output_dir, f\"{name}.csv\")\n",
    "    df.to_csv(csv_path, index=False)\n",
    "    print(f\"📁 Exported: {csv_path}\")\n"
   ]
  }
 ],
 "metadata": {
  "kernelspec": {
   "display_name": "Python 3",
   "language": "python",
   "name": "python3"
  },
  "language_info": {
   "codemirror_mode": {
    "name": "ipython",
    "version": 3
   },
   "file_extension": ".py",
   "mimetype": "text/x-python",
   "name": "python",
   "nbconvert_exporter": "python",
   "pygments_lexer": "ipython3",
   "version": "3.11.0"
  }
 },
 "nbformat": 4,
 "nbformat_minor": 5
}
